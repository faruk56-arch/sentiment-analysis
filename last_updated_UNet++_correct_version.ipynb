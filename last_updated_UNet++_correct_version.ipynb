{
  "cells": [
    {
      "cell_type": "markdown",
      "metadata": {
        "id": "view-in-github",
        "colab_type": "text"
      },
      "source": [
        "<a href=\"https://colab.research.google.com/github/faruk56-arch/sentiment-analysis_machine_learning/blob/master/last_updated_UNet%2B%2B_correct_version.ipynb\" target=\"_parent\"><img src=\"https://colab.research.google.com/assets/colab-badge.svg\" alt=\"Open In Colab\"/></a>"
      ]
    },
    {
      "cell_type": "code",
      "execution_count": 1,
      "metadata": {
        "colab": {
          "base_uri": "https://localhost:8080/"
        },
        "id": "etc58kiLq9lb",
        "outputId": "ff73e35d-18b6-4559-b1a6-9d08063cd4fe"
      },
      "outputs": [
        {
          "output_type": "stream",
          "name": "stdout",
          "text": [
            "Mounted at /content/drive\n"
          ]
        }
      ],
      "source": [
        "from google.colab import drive\n",
        "drive.mount('/content/drive')"
      ]
    },
    {
      "cell_type": "code",
      "execution_count": 3,
      "metadata": {
        "colab": {
          "base_uri": "https://localhost:8080/",
          "height": 1000
        },
        "id": "zmrlwFFJNRYc",
        "outputId": "23356e9e-aaa2-416a-e04c-85094c34406e"
      },
      "outputs": [
        {
          "output_type": "stream",
          "name": "stdout",
          "text": [
            "Requirement already satisfied: pandas in /usr/local/lib/python3.10/dist-packages (from -r /content/drive/MyDrive/Medical_Image_Segmentation/modular_code/source/requirements.txt (line 1)) (2.1.4)\n",
            "Collecting matplotlib==3.4.2 (from -r /content/drive/MyDrive/Medical_Image_Segmentation/modular_code/source/requirements.txt (line 2))\n",
            "  Downloading matplotlib-3.4.2.tar.gz (37.3 MB)\n",
            "\u001b[2K     \u001b[90m━━━━━━━━━━━━━━━━━━━━━━━━━━━━━━━━━━━━━━━━\u001b[0m \u001b[32m37.3/37.3 MB\u001b[0m \u001b[31m52.0 MB/s\u001b[0m eta \u001b[36m0:00:00\u001b[0m\n",
            "\u001b[?25h  Preparing metadata (setup.py) ... \u001b[?25l\u001b[?25hdone\n",
            "Collecting tqdm==4.59.0 (from -r /content/drive/MyDrive/Medical_Image_Segmentation/modular_code/source/requirements.txt (line 3))\n",
            "  Downloading tqdm-4.59.0-py2.py3-none-any.whl.metadata (56 kB)\n",
            "\u001b[2K     \u001b[90m━━━━━━━━━━━━━━━━━━━━━━━━━━━━━━━━━━━━━━━━\u001b[0m \u001b[32m56.7/56.7 kB\u001b[0m \u001b[31m4.0 MB/s\u001b[0m eta \u001b[36m0:00:00\u001b[0m\n",
            "\u001b[?25hRequirement already satisfied: opencv_python in /usr/local/lib/python3.10/dist-packages (from -r /content/drive/MyDrive/Medical_Image_Segmentation/modular_code/source/requirements.txt (line 4)) (4.10.0.84)\n",
            "Collecting torch==1.11.0 (from -r /content/drive/MyDrive/Medical_Image_Segmentation/modular_code/source/requirements.txt (line 5))\n",
            "  Downloading torch-1.11.0-cp310-cp310-manylinux1_x86_64.whl.metadata (24 kB)\n",
            "Collecting albumentations==0.1.12 (from -r /content/drive/MyDrive/Medical_Image_Segmentation/modular_code/source/requirements.txt (line 6))\n",
            "  Downloading albumentations-0.1.12.tar.gz (59 kB)\n",
            "\u001b[2K     \u001b[90m━━━━━━━━━━━━━━━━━━━━━━━━━━━━━━━━━━━━━━━━\u001b[0m \u001b[32m59.2/59.2 kB\u001b[0m \u001b[31m5.4 MB/s\u001b[0m eta \u001b[36m0:00:00\u001b[0m\n",
            "\u001b[?25h  Preparing metadata (setup.py) ... \u001b[?25l\u001b[?25hdone\n",
            "Requirement already satisfied: numpy in /usr/local/lib/python3.10/dist-packages (from -r /content/drive/MyDrive/Medical_Image_Segmentation/modular_code/source/requirements.txt (line 7)) (1.26.4)\n",
            "Collecting PyYAML==6.0 (from -r /content/drive/MyDrive/Medical_Image_Segmentation/modular_code/source/requirements.txt (line 8))\n",
            "  Downloading PyYAML-6.0-cp310-cp310-manylinux_2_5_x86_64.manylinux1_x86_64.manylinux_2_12_x86_64.manylinux2010_x86_64.whl.metadata (2.0 kB)\n",
            "Collecting scikit_learn==1.0.2 (from -r /content/drive/MyDrive/Medical_Image_Segmentation/modular_code/source/requirements.txt (line 9))\n",
            "  Downloading scikit_learn-1.0.2-cp310-cp310-manylinux_2_17_x86_64.manylinux2014_x86_64.whl.metadata (10 kB)\n",
            "Requirement already satisfied: cycler>=0.10 in /usr/local/lib/python3.10/dist-packages (from matplotlib==3.4.2->-r /content/drive/MyDrive/Medical_Image_Segmentation/modular_code/source/requirements.txt (line 2)) (0.12.1)\n",
            "Requirement already satisfied: kiwisolver>=1.0.1 in /usr/local/lib/python3.10/dist-packages (from matplotlib==3.4.2->-r /content/drive/MyDrive/Medical_Image_Segmentation/modular_code/source/requirements.txt (line 2)) (1.4.5)\n",
            "Requirement already satisfied: pillow>=6.2.0 in /usr/local/lib/python3.10/dist-packages (from matplotlib==3.4.2->-r /content/drive/MyDrive/Medical_Image_Segmentation/modular_code/source/requirements.txt (line 2)) (9.4.0)\n",
            "Requirement already satisfied: pyparsing>=2.2.1 in /usr/local/lib/python3.10/dist-packages (from matplotlib==3.4.2->-r /content/drive/MyDrive/Medical_Image_Segmentation/modular_code/source/requirements.txt (line 2)) (3.1.2)\n",
            "Requirement already satisfied: python-dateutil>=2.7 in /usr/local/lib/python3.10/dist-packages (from matplotlib==3.4.2->-r /content/drive/MyDrive/Medical_Image_Segmentation/modular_code/source/requirements.txt (line 2)) (2.8.2)\n",
            "Requirement already satisfied: typing-extensions in /usr/local/lib/python3.10/dist-packages (from torch==1.11.0->-r /content/drive/MyDrive/Medical_Image_Segmentation/modular_code/source/requirements.txt (line 5)) (4.12.2)\n",
            "Requirement already satisfied: scipy in /usr/local/lib/python3.10/dist-packages (from albumentations==0.1.12->-r /content/drive/MyDrive/Medical_Image_Segmentation/modular_code/source/requirements.txt (line 6)) (1.13.1)\n",
            "Collecting imgaug<0.2.7,>=0.2.5 (from albumentations==0.1.12->-r /content/drive/MyDrive/Medical_Image_Segmentation/modular_code/source/requirements.txt (line 6))\n",
            "  Downloading imgaug-0.2.6.tar.gz (631 kB)\n",
            "\u001b[2K     \u001b[90m━━━━━━━━━━━━━━━━━━━━━━━━━━━━━━━━━━━━━━━━\u001b[0m \u001b[32m631.4/631.4 kB\u001b[0m \u001b[31m42.8 MB/s\u001b[0m eta \u001b[36m0:00:00\u001b[0m\n",
            "\u001b[?25h  Preparing metadata (setup.py) ... \u001b[?25l\u001b[?25hdone\n",
            "Requirement already satisfied: joblib>=0.11 in /usr/local/lib/python3.10/dist-packages (from scikit_learn==1.0.2->-r /content/drive/MyDrive/Medical_Image_Segmentation/modular_code/source/requirements.txt (line 9)) (1.4.2)\n",
            "Requirement already satisfied: threadpoolctl>=2.0.0 in /usr/local/lib/python3.10/dist-packages (from scikit_learn==1.0.2->-r /content/drive/MyDrive/Medical_Image_Segmentation/modular_code/source/requirements.txt (line 9)) (3.5.0)\n",
            "Requirement already satisfied: pytz>=2020.1 in /usr/local/lib/python3.10/dist-packages (from pandas->-r /content/drive/MyDrive/Medical_Image_Segmentation/modular_code/source/requirements.txt (line 1)) (2024.1)\n",
            "Requirement already satisfied: tzdata>=2022.1 in /usr/local/lib/python3.10/dist-packages (from pandas->-r /content/drive/MyDrive/Medical_Image_Segmentation/modular_code/source/requirements.txt (line 1)) (2024.1)\n",
            "Requirement already satisfied: scikit-image>=0.11.0 in /usr/local/lib/python3.10/dist-packages (from imgaug<0.2.7,>=0.2.5->albumentations==0.1.12->-r /content/drive/MyDrive/Medical_Image_Segmentation/modular_code/source/requirements.txt (line 6)) (0.23.2)\n",
            "Requirement already satisfied: six in /usr/local/lib/python3.10/dist-packages (from imgaug<0.2.7,>=0.2.5->albumentations==0.1.12->-r /content/drive/MyDrive/Medical_Image_Segmentation/modular_code/source/requirements.txt (line 6)) (1.16.0)\n",
            "Requirement already satisfied: networkx>=2.8 in /usr/local/lib/python3.10/dist-packages (from scikit-image>=0.11.0->imgaug<0.2.7,>=0.2.5->albumentations==0.1.12->-r /content/drive/MyDrive/Medical_Image_Segmentation/modular_code/source/requirements.txt (line 6)) (3.3)\n",
            "Requirement already satisfied: imageio>=2.33 in /usr/local/lib/python3.10/dist-packages (from scikit-image>=0.11.0->imgaug<0.2.7,>=0.2.5->albumentations==0.1.12->-r /content/drive/MyDrive/Medical_Image_Segmentation/modular_code/source/requirements.txt (line 6)) (2.34.2)\n",
            "Requirement already satisfied: tifffile>=2022.8.12 in /usr/local/lib/python3.10/dist-packages (from scikit-image>=0.11.0->imgaug<0.2.7,>=0.2.5->albumentations==0.1.12->-r /content/drive/MyDrive/Medical_Image_Segmentation/modular_code/source/requirements.txt (line 6)) (2024.7.24)\n",
            "Requirement already satisfied: packaging>=21 in /usr/local/lib/python3.10/dist-packages (from scikit-image>=0.11.0->imgaug<0.2.7,>=0.2.5->albumentations==0.1.12->-r /content/drive/MyDrive/Medical_Image_Segmentation/modular_code/source/requirements.txt (line 6)) (24.1)\n",
            "Requirement already satisfied: lazy-loader>=0.4 in /usr/local/lib/python3.10/dist-packages (from scikit-image>=0.11.0->imgaug<0.2.7,>=0.2.5->albumentations==0.1.12->-r /content/drive/MyDrive/Medical_Image_Segmentation/modular_code/source/requirements.txt (line 6)) (0.4)\n",
            "Downloading tqdm-4.59.0-py2.py3-none-any.whl (74 kB)\n",
            "\u001b[2K   \u001b[90m━━━━━━━━━━━━━━━━━━━━━━━━━━━━━━━━━━━━━━━━\u001b[0m \u001b[32m74.1/74.1 kB\u001b[0m \u001b[31m6.3 MB/s\u001b[0m eta \u001b[36m0:00:00\u001b[0m\n",
            "\u001b[?25hDownloading torch-1.11.0-cp310-cp310-manylinux1_x86_64.whl (750.6 MB)\n",
            "\u001b[2K   \u001b[90m━━━━━━━━━━━━━━━━━━━━━━━━━━━━━━━━━━━━━━━━\u001b[0m \u001b[32m750.6/750.6 MB\u001b[0m \u001b[31m1.9 MB/s\u001b[0m eta \u001b[36m0:00:00\u001b[0m\n",
            "\u001b[?25hDownloading PyYAML-6.0-cp310-cp310-manylinux_2_5_x86_64.manylinux1_x86_64.manylinux_2_12_x86_64.manylinux2010_x86_64.whl (682 kB)\n",
            "\u001b[2K   \u001b[90m━━━━━━━━━━━━━━━━━━━━━━━━━━━━━━━━━━━━━━━━\u001b[0m \u001b[32m682.2/682.2 kB\u001b[0m \u001b[31m41.5 MB/s\u001b[0m eta \u001b[36m0:00:00\u001b[0m\n",
            "\u001b[?25hDownloading scikit_learn-1.0.2-cp310-cp310-manylinux_2_17_x86_64.manylinux2014_x86_64.whl (26.5 MB)\n",
            "\u001b[2K   \u001b[90m━━━━━━━━━━━━━━━━━━━━━━━━━━━━━━━━━━━━━━━━\u001b[0m \u001b[32m26.5/26.5 MB\u001b[0m \u001b[31m54.6 MB/s\u001b[0m eta \u001b[36m0:00:00\u001b[0m\n",
            "\u001b[?25hBuilding wheels for collected packages: matplotlib, albumentations, imgaug\n",
            "  Building wheel for matplotlib (setup.py) ... \u001b[?25l\u001b[?25hdone\n",
            "  Created wheel for matplotlib: filename=matplotlib-3.4.2-cp310-cp310-linux_x86_64.whl size=10437844 sha256=64015df63fa0d7c5ce4703b0ae197c02e101ff190d0be24ddbf3fb50b4c0d58c\n",
            "  Stored in directory: /root/.cache/pip/wheels/d9/e8/73/f806fc40c211022378c2828e3cce1eac412344111ab1becd9d\n",
            "  Building wheel for albumentations (setup.py) ... \u001b[?25l\u001b[?25hdone\n",
            "  Created wheel for albumentations: filename=albumentations-0.1.12-py3-none-any.whl size=33983 sha256=e5f1d8a2628e94996bbbfaebd45b7afef5120403e9c7d7e1d1d2335fff9e8cbc\n",
            "  Stored in directory: /root/.cache/pip/wheels/e3/bf/b8/a67d4f1000898870f86f23ea8624a6f425c238c43774c94b74\n",
            "  Building wheel for imgaug (setup.py) ... \u001b[?25l\u001b[?25hdone\n",
            "  Created wheel for imgaug: filename=imgaug-0.2.6-py3-none-any.whl size=654003 sha256=4ea168c8c57452ddd3a7e0846f7850f574a350392181668be8bfd2ef54bbc1ce\n",
            "  Stored in directory: /root/.cache/pip/wheels/cb/c7/a6/2d7a113c4885dc0f4eacd8f41095763181c0b9a18223ac7533\n",
            "Successfully built matplotlib albumentations imgaug\n",
            "Installing collected packages: tqdm, torch, PyYAML, scikit_learn, matplotlib, imgaug, albumentations\n",
            "  Attempting uninstall: tqdm\n",
            "    Found existing installation: tqdm 4.66.5\n",
            "    Uninstalling tqdm-4.66.5:\n",
            "      Successfully uninstalled tqdm-4.66.5\n",
            "  Attempting uninstall: torch\n",
            "    Found existing installation: torch 2.3.1+cu121\n",
            "    Uninstalling torch-2.3.1+cu121:\n",
            "      Successfully uninstalled torch-2.3.1+cu121\n",
            "  Attempting uninstall: PyYAML\n",
            "    Found existing installation: PyYAML 6.0.2\n",
            "    Uninstalling PyYAML-6.0.2:\n",
            "      Successfully uninstalled PyYAML-6.0.2\n",
            "  Attempting uninstall: scikit_learn\n",
            "    Found existing installation: scikit-learn 1.3.2\n",
            "    Uninstalling scikit-learn-1.3.2:\n",
            "      Successfully uninstalled scikit-learn-1.3.2\n",
            "  Attempting uninstall: matplotlib\n",
            "    Found existing installation: matplotlib 3.7.1\n",
            "    Uninstalling matplotlib-3.7.1:\n",
            "      Successfully uninstalled matplotlib-3.7.1\n",
            "  Attempting uninstall: imgaug\n",
            "    Found existing installation: imgaug 0.4.0\n",
            "    Uninstalling imgaug-0.4.0:\n",
            "      Successfully uninstalled imgaug-0.4.0\n",
            "  Attempting uninstall: albumentations\n",
            "    Found existing installation: albumentations 1.4.13\n",
            "    Uninstalling albumentations-1.4.13:\n",
            "      Successfully uninstalled albumentations-1.4.13\n",
            "\u001b[31mERROR: pip's dependency resolver does not currently take into account all the packages that are installed. This behaviour is the source of the following dependency conflicts.\n",
            "arviz 0.18.0 requires matplotlib>=3.5, but you have matplotlib 3.4.2 which is incompatible.\n",
            "bigframes 1.13.0 requires matplotlib>=3.7.1, but you have matplotlib 3.4.2 which is incompatible.\n",
            "bigframes 1.13.0 requires scikit-learn>=1.2.2, but you have scikit-learn 1.0.2 which is incompatible.\n",
            "dopamine-rl 4.0.9 requires tqdm>=4.64.1, but you have tqdm 4.59.0 which is incompatible.\n",
            "mizani 0.9.3 requires matplotlib>=3.5.0, but you have matplotlib 3.4.2 which is incompatible.\n",
            "plotnine 0.12.4 requires matplotlib>=3.6.0, but you have matplotlib 3.4.2 which is incompatible.\n",
            "torchaudio 2.3.1+cu121 requires torch==2.3.1, but you have torch 1.11.0 which is incompatible.\n",
            "torchtext 0.18.0 requires torch>=2.3.0, but you have torch 1.11.0 which is incompatible.\n",
            "torchvision 0.18.1+cu121 requires torch==2.3.1, but you have torch 1.11.0 which is incompatible.\u001b[0m\u001b[31m\n",
            "\u001b[0mSuccessfully installed PyYAML-6.0 albumentations-0.1.12 imgaug-0.2.6 matplotlib-3.4.2 scikit_learn-1.0.2 torch-1.11.0 tqdm-4.59.0\n"
          ]
        },
        {
          "output_type": "display_data",
          "data": {
            "application/vnd.colab-display-data+json": {
              "pip_warning": {
                "packages": [
                  "matplotlib",
                  "mpl_toolkits"
                ]
              },
              "id": "efb81f4040ba4a558b3f765e4046c0b6"
            }
          },
          "metadata": {}
        }
      ],
      "source": [
        "pip install -r /content/drive/MyDrive/Medical_Image_Segmentation/modular_code/source/requirements.txt"
      ]
    },
    {
      "cell_type": "code",
      "execution_count": 3,
      "metadata": {
        "id": "MntxJxzegXqz"
      },
      "outputs": [],
      "source": [
        "import os\n",
        "import pandas as pd\n",
        "import torch.nn as nn\n",
        "import torch.optim as optim\n",
        "\n",
        "from glob import glob\n",
        "from collections import OrderedDict\n",
        "from albumentations.augmentations import transforms\n",
        "from sklearn.model_selection import train_test_split\n",
        "from albumentations.core.composition import Compose, OneOf\n",
        "\n",
        "# from train import train, validate\n",
        "# from source.network import UNetPP\n",
        "# from source.dataset import DataSet"
      ]
    },
    {
      "cell_type": "code",
      "execution_count": 4,
      "metadata": {
        "id": "0Ao4ALGPq3aU"
      },
      "outputs": [],
      "source": [
        "import os\n",
        "import cv2\n",
        "import numpy as np\n",
        "import torch.utils.data\n",
        "\n",
        "\n",
        "class DataSet(torch.utils.data.Dataset):\n",
        "    def __init__(self, img_ids, img_dir, mask_dir, img_ext, mask_ext, transform=None):\n",
        "        self.img_ids = img_ids\n",
        "        self.img_dir = img_dir\n",
        "        self.mask_dir = mask_dir\n",
        "        self.img_ext = img_ext\n",
        "        self.mask_ext = mask_ext\n",
        "        self.transform = transform\n",
        "\n",
        "    def __len__(self):\n",
        "        return len(self.img_ids)\n",
        "\n",
        "    def __getitem__(self, idx):\n",
        "        img_id = self.img_ids[idx]\n",
        "\n",
        "        img = cv2.imread(os.path.join(self.img_dir, img_id + self.img_ext))\n",
        "\n",
        "        mask = []\n",
        "        mask.append(cv2.imread(os.path.join(self.mask_dir,\n",
        "                                            img_id + self.mask_ext), cv2.IMREAD_GRAYSCALE)[..., None])\n",
        "        mask = np.dstack(mask)\n",
        "\n",
        "        if self.transform is not None:\n",
        "            augmented = self.transform(image=img, mask=mask)\n",
        "            img = augmented['image']\n",
        "            mask = augmented['mask']\n",
        "\n",
        "        img = img.astype('float32') / 255\n",
        "        img = img.transpose(2, 0, 1)\n",
        "        mask = mask.astype('float32') / 255\n",
        "        mask = mask.transpose(2, 0, 1)\n",
        "\n",
        "        return img, mask, {'img_id': img_id}\n",
        "\n"
      ]
    },
    {
      "cell_type": "code",
      "execution_count": 5,
      "metadata": {
        "id": "Uws4E8xKq3aV"
      },
      "outputs": [],
      "source": [
        "import torch\n",
        "from torch import nn\n",
        "\n",
        "\n",
        "class VGGBlock(nn.Module):\n",
        "    def __init__(self, in_channels, middle_channels, out_channels):\n",
        "        super().__init__()\n",
        "        self.relu = nn.ReLU(inplace=True)\n",
        "        self.conv1 = nn.Conv2d(in_channels, middle_channels, 3, padding=1)\n",
        "        self.bn1 = nn.BatchNorm2d(middle_channels)\n",
        "        self.conv2 = nn.Conv2d(middle_channels, out_channels, 3, padding=1)\n",
        "        self.bn2 = nn.BatchNorm2d(out_channels)\n",
        "\n",
        "    def forward(self, x):\n",
        "        out = self.conv1(x)\n",
        "        out = self.bn1(out)\n",
        "        out = self.relu(out)\n",
        "\n",
        "        out = self.conv2(out)\n",
        "        out = self.bn2(out)\n",
        "        out = self.relu(out)\n",
        "\n",
        "        return out\n",
        "\n",
        "\n",
        "class UNetPP(nn.Module):\n",
        "    def __init__(self, num_classes, input_channels=3, deep_supervision=False, **kwargs):\n",
        "        super().__init__()\n",
        "\n",
        "        nb_filter = [32, 64, 128, 256, 512]\n",
        "\n",
        "        self.deep_supervision = deep_supervision\n",
        "\n",
        "        self.pool = nn.MaxPool2d(2, 2)\n",
        "        self.up = nn.Upsample(scale_factor=2, mode='bilinear', align_corners=True)\n",
        "\n",
        "        self.conv0_0 = VGGBlock(input_channels, nb_filter[0], nb_filter[0])\n",
        "        self.conv1_0 = VGGBlock(nb_filter[0], nb_filter[1], nb_filter[1])\n",
        "        self.conv2_0 = VGGBlock(nb_filter[1], nb_filter[2], nb_filter[2])\n",
        "        self.conv3_0 = VGGBlock(nb_filter[2], nb_filter[3], nb_filter[3])\n",
        "        self.conv4_0 = VGGBlock(nb_filter[3], nb_filter[4], nb_filter[4])\n",
        "\n",
        "        self.conv0_1 = VGGBlock(nb_filter[0]+nb_filter[1], nb_filter[0], nb_filter[0])\n",
        "        self.conv1_1 = VGGBlock(nb_filter[1]+nb_filter[2], nb_filter[1], nb_filter[1])\n",
        "        self.conv2_1 = VGGBlock(nb_filter[2]+nb_filter[3], nb_filter[2], nb_filter[2])\n",
        "        self.conv3_1 = VGGBlock(nb_filter[3]+nb_filter[4], nb_filter[3], nb_filter[3])\n",
        "\n",
        "        self.conv0_2 = VGGBlock(nb_filter[0]*2+nb_filter[1], nb_filter[0], nb_filter[0])\n",
        "        self.conv1_2 = VGGBlock(nb_filter[1]*2+nb_filter[2], nb_filter[1], nb_filter[1])\n",
        "        self.conv2_2 = VGGBlock(nb_filter[2]*2+nb_filter[3], nb_filter[2], nb_filter[2])\n",
        "\n",
        "        self.conv0_3 = VGGBlock(nb_filter[0]*3+nb_filter[1], nb_filter[0], nb_filter[0])\n",
        "        self.conv1_3 = VGGBlock(nb_filter[1]*3+nb_filter[2], nb_filter[1], nb_filter[1])\n",
        "\n",
        "        self.conv0_4 = VGGBlock(nb_filter[0]*4+nb_filter[1], nb_filter[0], nb_filter[0])\n",
        "\n",
        "        if self.deep_supervision:\n",
        "            self.final1 = nn.Conv2d(nb_filter[0], num_classes, kernel_size=1)\n",
        "            self.final2 = nn.Conv2d(nb_filter[0], num_classes, kernel_size=1)\n",
        "            self.final3 = nn.Conv2d(nb_filter[0], num_classes, kernel_size=1)\n",
        "            self.final4 = nn.Conv2d(nb_filter[0], num_classes, kernel_size=1)\n",
        "        else:\n",
        "            self.final = nn.Conv2d(nb_filter[0], num_classes, kernel_size=1)\n",
        "\n",
        "\n",
        "    def forward(self, input):\n",
        "        x0_0 = self.conv0_0(input)\n",
        "        x1_0 = self.conv1_0(self.pool(x0_0))\n",
        "        x0_1 = self.conv0_1(torch.cat([x0_0, self.up(x1_0)], 1))\n",
        "\n",
        "        x2_0 = self.conv2_0(self.pool(x1_0))\n",
        "        x1_1 = self.conv1_1(torch.cat([x1_0, self.up(x2_0)], 1))\n",
        "        x0_2 = self.conv0_2(torch.cat([x0_0, x0_1, self.up(x1_1)], 1))\n",
        "\n",
        "        x3_0 = self.conv3_0(self.pool(x2_0))\n",
        "        x2_1 = self.conv2_1(torch.cat([x2_0, self.up(x3_0)], 1))\n",
        "        x1_2 = self.conv1_2(torch.cat([x1_0, x1_1, self.up(x2_1)], 1))\n",
        "        x0_3 = self.conv0_3(torch.cat([x0_0, x0_1, x0_2, self.up(x1_2)], 1))\n",
        "\n",
        "        x4_0 = self.conv4_0(self.pool(x3_0))\n",
        "        x3_1 = self.conv3_1(torch.cat([x3_0, self.up(x4_0)], 1))\n",
        "        x2_2 = self.conv2_2(torch.cat([x2_0, x2_1, self.up(x3_1)], 1))\n",
        "        x1_3 = self.conv1_3(torch.cat([x1_0, x1_1, x1_2, self.up(x2_2)], 1))\n",
        "        x0_4 = self.conv0_4(torch.cat([x0_0, x0_1, x0_2, x0_3, self.up(x1_3)], 1))\n",
        "\n",
        "        if self.deep_supervision:\n",
        "            output1 = self.final1(x0_1)\n",
        "            output2 = self.final2(x0_2)\n",
        "            output3 = self.final3(x0_3)\n",
        "            output4 = self.final4(x0_4)\n",
        "            return [output1, output2, output3, output4]\n",
        "\n",
        "        else:\n",
        "            output = self.final(x0_4)\n",
        "            return output\n"
      ]
    },
    {
      "cell_type": "code",
      "execution_count": 6,
      "metadata": {
        "id": "hMQAfbxNq3aX"
      },
      "outputs": [],
      "source": [
        "import torch\n",
        "\n",
        "\n",
        "class AverageMeter(object):\n",
        "    \"\"\"Computes and stores the average and current value\"\"\"\n",
        "\n",
        "    def __init__(self):\n",
        "        self.reset()\n",
        "\n",
        "    def reset(self):\n",
        "        self.val = 0\n",
        "        self.avg = 0\n",
        "        self.sum = 0\n",
        "        self.count = 0\n",
        "\n",
        "    def update(self, val, n=1):\n",
        "        self.val = val\n",
        "        self.sum += val * n\n",
        "        self.count += n\n",
        "        self.avg = self.sum / self.count\n",
        "\n",
        "\n",
        "def iou_score(output, target):\n",
        "    smooth = 1e-5\n",
        "\n",
        "    if torch.is_tensor(output):\n",
        "        output = torch.sigmoid(output).data.cpu().numpy()\n",
        "    if torch.is_tensor(target):\n",
        "        target = target.data.cpu().numpy()\n",
        "    output_ = output > 0.5\n",
        "    target_ = target > 0.5\n",
        "    intersection = (output_ & target_).sum()\n",
        "    union = (output_ | target_).sum()\n",
        "\n",
        "    return (intersection + smooth) / (union + smooth)\n"
      ]
    },
    {
      "cell_type": "code",
      "execution_count": 7,
      "metadata": {
        "id": "CxhI-2tcq3aX"
      },
      "outputs": [],
      "source": [
        "import os\n",
        "import yaml\n",
        "import torch\n",
        "import pandas as pd\n",
        "import torch.nn as nn\n",
        "import torch.optim as optim\n",
        "\n",
        "from glob import glob\n",
        "from tqdm import tqdm\n",
        "from collections import OrderedDict\n",
        "# from source.utils import iou_score, AverageMeter\n",
        "from albumentations import Resize\n",
        "from albumentations.augmentations import transforms\n",
        "from sklearn.model_selection import train_test_split\n",
        "from albumentations.core.composition import Compose, OneOf\n",
        "from albumentations import RandomRotate90\n",
        "# from source.network import UNetPP\n",
        "# from source.dataset import DataSet\n",
        "\n",
        "\n",
        "def train(deep_sup, train_loader, model, criterion, optimizer):\n",
        "    avg_meters = {'loss': AverageMeter(),\n",
        "                  'iou': AverageMeter()}\n",
        "\n",
        "    model.train()\n",
        "\n",
        "    pbar = tqdm(total=len(train_loader))\n",
        "    device = torch.device(\"cuda:0\" if torch.cuda.is_available() else \"cpu\")\n",
        "    for input, target, _ in train_loader:\n",
        "        input = input.to(device)\n",
        "        target = target.to(device)\n",
        "\n",
        "        # compute output\n",
        "        if deep_sup:\n",
        "            outputs = model(input)\n",
        "            loss = 0\n",
        "            for output in outputs:\n",
        "                loss += criterion(output, target)\n",
        "            loss /= len(outputs)\n",
        "            iou = iou_score(outputs[-1], target)\n",
        "        else:\n",
        "            output = model(input)\n",
        "            loss = criterion(output, target)\n",
        "            iou = iou_score(output, target)\n",
        "\n",
        "        # compute gradient and do optimizing step\n",
        "        optimizer.zero_grad()\n",
        "        loss.backward()\n",
        "        optimizer.step()\n",
        "\n",
        "        avg_meters['loss'].update(loss.item(), input.size(0))\n",
        "        avg_meters['iou'].update(iou, input.size(0))\n",
        "\n",
        "        postfix = OrderedDict([\n",
        "            ('loss', avg_meters['loss'].avg),\n",
        "            ('iou', avg_meters['iou'].avg),\n",
        "        ])\n",
        "        pbar.set_postfix(postfix)\n",
        "        pbar.update(1)\n",
        "    pbar.close()\n",
        "\n",
        "    return OrderedDict([('loss', avg_meters['loss'].avg),\n",
        "                        ('iou', avg_meters['iou'].avg)])\n",
        "\n",
        "\n",
        "def validate(deep_sup, val_loader, model, criterion):\n",
        "    avg_meters = {'loss': AverageMeter(),\n",
        "                  'iou': AverageMeter()}\n",
        "\n",
        "    # switch to evaluate mode\n",
        "    model.eval()\n",
        "    device = torch.device(\"cuda:0\" if torch.cuda.is_available() else \"cpu\")\n",
        "\n",
        "    with torch.no_grad():\n",
        "        pbar = tqdm(total=len(val_loader))\n",
        "        for input, target, _ in val_loader:\n",
        "            input = input.to(device)\n",
        "            target = target.to(device)\n",
        "\n",
        "            # compute output\n",
        "            if deep_sup:\n",
        "                outputs = model(input)\n",
        "                loss = 0\n",
        "                for output in outputs:\n",
        "                    loss += criterion(output, target)\n",
        "                loss /= len(outputs)\n",
        "                iou = iou_score(outputs[-1], target)\n",
        "            else:\n",
        "                output = model(input)\n",
        "                loss = criterion(output, target)\n",
        "                iou = iou_score(output, target)\n",
        "\n",
        "            avg_meters['loss'].update(loss.item(), input.size(0))\n",
        "            avg_meters['iou'].update(iou, input.size(0))\n",
        "\n",
        "            postfix = OrderedDict([\n",
        "                ('loss', avg_meters['loss'].avg),\n",
        "                ('iou', avg_meters['iou'].avg),\n",
        "            ])\n",
        "            pbar.set_postfix(postfix)\n",
        "            pbar.update(1)\n",
        "        pbar.close()\n",
        "\n",
        "    return OrderedDict([('loss', avg_meters['loss'].avg),\n",
        "                        ('iou', avg_meters['iou'].avg)])\n"
      ]
    },
    {
      "cell_type": "code",
      "execution_count": 8,
      "metadata": {
        "id": "1QIpMm4_q3aZ"
      },
      "outputs": [],
      "source": [
        "import cv2\n",
        "import yaml\n",
        "import torch\n",
        "import numpy as np\n",
        "import matplotlib.pyplot as plt\n",
        "\n",
        "# from source.network import UNetPP\n",
        "from argparse import ArgumentParser\n",
        "from albumentations.augmentations import transforms\n",
        "from albumentations.core.composition import Compose\n",
        "from albumentations import Resize\n",
        "\n",
        "\n",
        "val_transform = Compose([\n",
        "    transforms.Resize(256, 256),\n",
        "    transforms.Normalize(),\n",
        "])\n",
        "\n",
        "\n",
        "def image_loader(image_name):\n",
        "    img = cv2.imread(image_name)\n",
        "    img = val_transform(image=img)[\"image\"]\n",
        "    img = img.astype('float32') / 255\n",
        "    img = img.transpose(2, 0, 1)\n",
        "\n",
        "    return img"
      ]
    },
    {
      "cell_type": "code",
      "execution_count": 9,
      "metadata": {
        "id": "nhQmVuXA0cnh"
      },
      "outputs": [],
      "source": [
        "configOne = \"/content/drive/MyDrive/Medical_Image_Segmentation/modular_code/source/config.yaml\"\n"
      ]
    },
    {
      "cell_type": "code",
      "execution_count": 10,
      "metadata": {
        "id": "fC0EEMiGq3aa"
      },
      "outputs": [],
      "source": [
        "with open(configOne) as f:\n",
        "    config = yaml.load(f,Loader=yaml.Loader)\n",
        "\n",
        "extn = config[\"extn\"]\n",
        "epochs = config[\"epochs\"]\n",
        "log_path = config[\"log_path\"]\n",
        "mask_path = config[\"mask_path\"]\n",
        "image_path = config[\"image_path\"]\n",
        "model_path = config[\"model_path\"]"
      ]
    },
    {
      "cell_type": "markdown",
      "metadata": {
        "id": "hI3ifzZdq3ab"
      },
      "source": [
        "## Create log file"
      ]
    },
    {
      "cell_type": "code",
      "execution_count": 11,
      "metadata": {
        "id": "zcj_gXf7q3ac"
      },
      "outputs": [],
      "source": [
        "log = OrderedDict([\n",
        "    ('epoch', []),\n",
        "    ('loss', []),\n",
        "    ('iou', []),\n",
        "    ('val_loss', []),\n",
        "    ('val_iou', []),\n",
        "])\n",
        "\n",
        "best_iou = 0\n",
        "trigger = 0"
      ]
    },
    {
      "cell_type": "markdown",
      "metadata": {
        "id": "MnMi88Kvq3ad"
      },
      "source": [
        "## Split images into train and validation set"
      ]
    },
    {
      "cell_type": "code",
      "execution_count": 12,
      "metadata": {
        "id": "-RXLDPz5q3ae"
      },
      "outputs": [],
      "source": [
        "extn_ = f\"*{extn}\"\n",
        "img_ids = glob(os.path.join(image_path, extn_))\n",
        "img_ids = [os.path.splitext(os.path.basename(p))[0] for p in img_ids]\n",
        "train_img_ids, val_img_ids = train_test_split(img_ids, test_size=0.1)"
      ]
    },
    {
      "cell_type": "markdown",
      "metadata": {
        "id": "vUy1NOcxq3ae"
      },
      "source": [
        "## Define data transformations"
      ]
    },
    {
      "cell_type": "code",
      "execution_count": 13,
      "metadata": {
        "id": "8EEFpiCpq3af"
      },
      "outputs": [],
      "source": [
        "train_transform = Compose([\n",
        "    transforms.RandomRotate90(),\n",
        "    transforms.Flip(),\n",
        "    OneOf([\n",
        "        transforms.HueSaturationValue(),\n",
        "        transforms.RandomBrightness(),\n",
        "        transforms.RandomContrast(),\n",
        "    ], p=1),\n",
        "    transforms.Resize(256, 256),\n",
        "    transforms.Normalize(),\n",
        "])\n",
        "\n",
        "val_transform = Compose([\n",
        "    transforms.Resize(256, 256),\n",
        "    transforms.Normalize(),\n",
        "])"
      ]
    },
    {
      "cell_type": "markdown",
      "metadata": {
        "id": "-ONRq_tmq3af"
      },
      "source": [
        "## Create train and validation dataset"
      ]
    },
    {
      "cell_type": "code",
      "execution_count": 14,
      "metadata": {
        "id": "4UycKqjfq3ag"
      },
      "outputs": [],
      "source": [
        "train_dataset = DataSet(\n",
        "    img_ids=train_img_ids,\n",
        "    img_dir=image_path,\n",
        "    mask_dir=mask_path,\n",
        "    img_ext=extn,\n",
        "    mask_ext=extn,\n",
        "    transform=train_transform)\n",
        "\n",
        "val_dataset = DataSet(\n",
        "    img_ids=val_img_ids,\n",
        "    img_dir=image_path,\n",
        "    mask_dir=mask_path,\n",
        "    img_ext=extn,\n",
        "    mask_ext=extn,\n",
        "    transform=val_transform)"
      ]
    },
    {
      "cell_type": "markdown",
      "metadata": {
        "id": "4_KyxwTiq3ag"
      },
      "source": [
        "## Create train and validation data loaders"
      ]
    },
    {
      "cell_type": "code",
      "execution_count": 15,
      "metadata": {
        "id": "ffDBnT1Zq3ah"
      },
      "outputs": [],
      "source": [
        "train_loader = torch.utils.data.DataLoader(\n",
        "    train_dataset,\n",
        "    batch_size=16,\n",
        "    shuffle=True,\n",
        "    drop_last=True)\n",
        "\n",
        "val_loader = torch.utils.data.DataLoader(\n",
        "    val_dataset,\n",
        "    batch_size=16,\n",
        "    shuffle=False,\n",
        "    drop_last=False)"
      ]
    },
    {
      "cell_type": "markdown",
      "metadata": {
        "id": "Y3Qowjwiq3ah"
      },
      "source": [
        "## Create the model object"
      ]
    },
    {
      "cell_type": "code",
      "execution_count": 16,
      "metadata": {
        "id": "KHl7NXL9q3ak"
      },
      "outputs": [],
      "source": [
        "# Create model object\n",
        "model = UNetPP(1, 3, True)\n",
        "\n",
        "# Port model to GPU if it is available\n",
        "if torch.cuda.is_available():\n",
        "    model.cuda()\n",
        "\n",
        "\n",
        "# Define Loss Function\n",
        "criterion = nn.BCEWithLogitsLoss()\n",
        "params = filter(lambda p: p.requires_grad, model.parameters())\n",
        "\n",
        "# Define Optimizer\n",
        "optimizer = optim.Adam(params, lr=1e-2, weight_decay=1e-4)"
      ]
    },
    {
      "cell_type": "code",
      "execution_count": 17,
      "metadata": {
        "id": "i6xVFR6e-ZUX"
      },
      "outputs": [],
      "source": [
        "model_path= \"/content/drive/MyDrive/Medical_Image_Segmentation/modular_code/output/models/model.pth\"\n",
        "log_path = \"/content/drive/MyDrive/Medical_Image_Segmentation/modular_code/output/models/logs/logs.csv\"\n",
        "image_path = \"/content/drive/MyDrive/Medical_Image_Segmentation/modular_code/input/PNG/Original\"\n",
        "mask_path = \"/content/drive/MyDrive/Medical_Image_Segmentation/modular_code/input/PNG/Ground Truth\"\n",
        "output_path = \"/content/drive/MyDrive/Medical_Image_Segmentation/modular_code/output/prediction.png\"\n"
      ]
    },
    {
      "cell_type": "code",
      "execution_count": 18,
      "metadata": {
        "colab": {
          "base_uri": "https://localhost:8080/"
        },
        "id": "IrrU94XyrrHb",
        "outputId": "617ecf1b-4bbc-4a48-ea43-ab4ad84420ab"
      },
      "outputs": [
        {
          "output_type": "stream",
          "name": "stdout",
          "text": [
            "Model loaded successfully from /content/drive/MyDrive/Medical_Image_Segmentation/modular_code/output/models/model.pth\n"
          ]
        }
      ],
      "source": [
        "# # Load the model before starting the training loop\n",
        "if os.path.exists(model_path):\n",
        "    model.load_state_dict(torch.load(model_path))\n",
        "    model.eval()  # Set to evaluation mode if not training\n",
        "    print(\"Model loaded successfully from\", model_path)\n",
        "else:\n",
        "    print(\"No pre-trained model found, proceeding with training from scratch.\")"
      ]
    },
    {
      "cell_type": "markdown",
      "metadata": {
        "id": "DV2w8kgnq3ak"
      },
      "source": [
        "## Run the train loop"
      ]
    },
    {
      "cell_type": "code",
      "execution_count": 16,
      "metadata": {
        "colab": {
          "base_uri": "https://localhost:8080/"
        },
        "id": "q6Oz1ceZq3ak",
        "outputId": "24dd0c22-5c68-4caf-9b01-5a84a4b8fef5"
      },
      "outputs": [
        {
          "output_type": "stream",
          "name": "stderr",
          "text": [
            "\r  0%|          | 0/30 [00:00<?, ?it/s]"
          ]
        },
        {
          "output_type": "stream",
          "name": "stdout",
          "text": [
            "Epoch [0/300]\n"
          ]
        },
        {
          "output_type": "stream",
          "name": "stderr",
          "text": [
            "100%|██████████| 30/30 [06:59<00:00, 13.99s/it, loss=0.458, iou=0.0376]\n",
            "100%|██████████| 8/8 [01:37<00:00, 12.21s/it, loss=0.45, iou=1.13e-10]\n"
          ]
        },
        {
          "output_type": "stream",
          "name": "stdout",
          "text": [
            "loss 0.4578 - iou 0.0376 - val_loss 0.4496 - val_iou 0.0000\n"
          ]
        },
        {
          "output_type": "stream",
          "name": "stderr",
          "text": [
            "\r  0%|          | 0/30 [00:00<?, ?it/s]"
          ]
        },
        {
          "output_type": "stream",
          "name": "stdout",
          "text": [
            "=> saved best model\n",
            "Epoch [1/300]\n"
          ]
        },
        {
          "output_type": "stream",
          "name": "stderr",
          "text": [
            "100%|██████████| 30/30 [00:45<00:00,  1.53s/it, loss=0.353, iou=0.00232]\n",
            "100%|██████████| 8/8 [00:04<00:00,  1.93it/s, loss=0.325, iou=1.13e-10]\n",
            "  0%|          | 0/30 [00:00<?, ?it/s]"
          ]
        },
        {
          "output_type": "stream",
          "name": "stdout",
          "text": [
            "loss 0.3527 - iou 0.0023 - val_loss 0.3254 - val_iou 0.0000\n",
            "Epoch [2/300]\n"
          ]
        },
        {
          "output_type": "stream",
          "name": "stderr",
          "text": [
            "100%|██████████| 30/30 [00:39<00:00,  1.32s/it, loss=0.305, iou=0.000513]\n",
            "100%|██████████| 8/8 [00:04<00:00,  1.88it/s, loss=0.333, iou=1.13e-10]\n",
            "  0%|          | 0/30 [00:00<?, ?it/s]"
          ]
        },
        {
          "output_type": "stream",
          "name": "stdout",
          "text": [
            "loss 0.3050 - iou 0.0005 - val_loss 0.3330 - val_iou 0.0000\n",
            "Epoch [3/300]\n"
          ]
        },
        {
          "output_type": "stream",
          "name": "stderr",
          "text": [
            "100%|██████████| 30/30 [00:40<00:00,  1.35s/it, loss=0.278, iou=0.000106]\n",
            "100%|██████████| 8/8 [00:04<00:00,  1.84it/s, loss=0.306, iou=1.13e-10]\n",
            "  0%|          | 0/30 [00:00<?, ?it/s]"
          ]
        },
        {
          "output_type": "stream",
          "name": "stdout",
          "text": [
            "loss 0.2778 - iou 0.0001 - val_loss 0.3064 - val_iou 0.0000\n",
            "Epoch [4/300]\n"
          ]
        },
        {
          "output_type": "stream",
          "name": "stderr",
          "text": [
            "100%|██████████| 30/30 [00:40<00:00,  1.34s/it, loss=0.266, iou=2.71e-5]\n",
            "100%|██████████| 8/8 [00:04<00:00,  1.77it/s, loss=0.463, iou=0.0733]\n"
          ]
        },
        {
          "output_type": "stream",
          "name": "stdout",
          "text": [
            "loss 0.2663 - iou 0.0000 - val_loss 0.4630 - val_iou 0.0733\n"
          ]
        },
        {
          "output_type": "stream",
          "name": "stderr",
          "text": [
            "\r  0%|          | 0/30 [00:00<?, ?it/s]"
          ]
        },
        {
          "output_type": "stream",
          "name": "stdout",
          "text": [
            "=> saved best model\n",
            "Epoch [5/300]\n"
          ]
        },
        {
          "output_type": "stream",
          "name": "stderr",
          "text": [
            "100%|██████████| 30/30 [00:40<00:00,  1.34s/it, loss=0.259, iou=0.00178]\n",
            "100%|██████████| 8/8 [00:04<00:00,  1.84it/s, loss=0.307, iou=0.00466]\n",
            "  0%|          | 0/30 [00:00<?, ?it/s]"
          ]
        },
        {
          "output_type": "stream",
          "name": "stdout",
          "text": [
            "loss 0.2586 - iou 0.0018 - val_loss 0.3071 - val_iou 0.0047\n",
            "Epoch [6/300]\n"
          ]
        },
        {
          "output_type": "stream",
          "name": "stderr",
          "text": [
            "100%|██████████| 30/30 [00:40<00:00,  1.33s/it, loss=0.249, iou=0.026]\n",
            "100%|██████████| 8/8 [00:04<00:00,  1.90it/s, loss=0.295, iou=0.0112]\n",
            "  0%|          | 0/30 [00:00<?, ?it/s]"
          ]
        },
        {
          "output_type": "stream",
          "name": "stdout",
          "text": [
            "loss 0.2487 - iou 0.0260 - val_loss 0.2949 - val_iou 0.0112\n",
            "Epoch [7/300]\n"
          ]
        },
        {
          "output_type": "stream",
          "name": "stderr",
          "text": [
            "100%|██████████| 30/30 [00:40<00:00,  1.33s/it, loss=0.249, iou=0.023]\n",
            "100%|██████████| 8/8 [00:04<00:00,  1.91it/s, loss=0.26, iou=0.00069]\n",
            "  0%|          | 0/30 [00:00<?, ?it/s]"
          ]
        },
        {
          "output_type": "stream",
          "name": "stdout",
          "text": [
            "loss 0.2493 - iou 0.0230 - val_loss 0.2601 - val_iou 0.0007\n",
            "Epoch [8/300]\n"
          ]
        },
        {
          "output_type": "stream",
          "name": "stderr",
          "text": [
            "100%|██████████| 30/30 [00:40<00:00,  1.33s/it, loss=0.242, iou=0.0651]\n",
            "100%|██████████| 8/8 [00:04<00:00,  1.83it/s, loss=0.238, iou=1.13e-10]\n",
            "  0%|          | 0/30 [00:00<?, ?it/s]"
          ]
        },
        {
          "output_type": "stream",
          "name": "stdout",
          "text": [
            "loss 0.2420 - iou 0.0651 - val_loss 0.2380 - val_iou 0.0000\n",
            "Epoch [9/300]\n"
          ]
        },
        {
          "output_type": "stream",
          "name": "stderr",
          "text": [
            "100%|██████████| 30/30 [00:39<00:00,  1.33s/it, loss=0.242, iou=0.00961]\n",
            "100%|██████████| 8/8 [00:04<00:00,  1.74it/s, loss=0.259, iou=0.00129]\n",
            "  0%|          | 0/30 [00:00<?, ?it/s]"
          ]
        },
        {
          "output_type": "stream",
          "name": "stdout",
          "text": [
            "loss 0.2418 - iou 0.0096 - val_loss 0.2586 - val_iou 0.0013\n",
            "Epoch [10/300]\n"
          ]
        },
        {
          "output_type": "stream",
          "name": "stderr",
          "text": [
            "100%|██████████| 30/30 [00:39<00:00,  1.33s/it, loss=0.24, iou=0.0211]\n",
            "100%|██████████| 8/8 [00:04<00:00,  1.87it/s, loss=0.255, iou=0.0906]\n",
            "  0%|          | 0/30 [00:00<?, ?it/s]"
          ]
        },
        {
          "output_type": "stream",
          "name": "stdout",
          "text": [
            "loss 0.2404 - iou 0.0211 - val_loss 0.2549 - val_iou 0.0906\n",
            "=> saved best model\n",
            "Epoch [11/300]\n"
          ]
        },
        {
          "output_type": "stream",
          "name": "stderr",
          "text": [
            "100%|██████████| 30/30 [00:40<00:00,  1.34s/it, loss=0.236, iou=0.0892]\n",
            "100%|██████████| 8/8 [00:04<00:00,  1.90it/s, loss=0.255, iou=0.181]\n",
            "  0%|          | 0/30 [00:00<?, ?it/s]"
          ]
        },
        {
          "output_type": "stream",
          "name": "stdout",
          "text": [
            "loss 0.2361 - iou 0.0892 - val_loss 0.2547 - val_iou 0.1813\n",
            "=> saved best model\n",
            "Epoch [12/300]\n"
          ]
        },
        {
          "output_type": "stream",
          "name": "stderr",
          "text": [
            "100%|██████████| 30/30 [00:39<00:00,  1.33s/it, loss=0.238, iou=0.107]\n",
            "100%|██████████| 8/8 [00:04<00:00,  1.91it/s, loss=0.231, iou=0.0117]\n",
            "  0%|          | 0/30 [00:00<?, ?it/s]"
          ]
        },
        {
          "output_type": "stream",
          "name": "stdout",
          "text": [
            "loss 0.2382 - iou 0.1070 - val_loss 0.2313 - val_iou 0.0117\n",
            "Epoch [13/300]\n"
          ]
        },
        {
          "output_type": "stream",
          "name": "stderr",
          "text": [
            "100%|██████████| 30/30 [00:39<00:00,  1.33s/it, loss=0.231, iou=0.136]\n",
            "100%|██████████| 8/8 [00:04<00:00,  1.76it/s, loss=0.239, iou=1.13e-10]\n",
            "  0%|          | 0/30 [00:00<?, ?it/s]"
          ]
        },
        {
          "output_type": "stream",
          "name": "stdout",
          "text": [
            "loss 0.2309 - iou 0.1356 - val_loss 0.2391 - val_iou 0.0000\n",
            "Epoch [14/300]\n"
          ]
        },
        {
          "output_type": "stream",
          "name": "stderr",
          "text": [
            "100%|██████████| 30/30 [00:39<00:00,  1.33s/it, loss=0.23, iou=0.149]\n",
            "100%|██████████| 8/8 [00:04<00:00,  1.83it/s, loss=0.285, iou=0.181]\n",
            "  0%|          | 0/30 [00:00<?, ?it/s]"
          ]
        },
        {
          "output_type": "stream",
          "name": "stdout",
          "text": [
            "loss 0.2299 - iou 0.1488 - val_loss 0.2852 - val_iou 0.1805\n",
            "Epoch [15/300]\n"
          ]
        },
        {
          "output_type": "stream",
          "name": "stderr",
          "text": [
            "100%|██████████| 30/30 [00:40<00:00,  1.34s/it, loss=0.231, iou=0.13]\n",
            "100%|██████████| 8/8 [00:04<00:00,  1.88it/s, loss=0.229, iou=1.13e-10]\n",
            "  0%|          | 0/30 [00:00<?, ?it/s]"
          ]
        },
        {
          "output_type": "stream",
          "name": "stdout",
          "text": [
            "loss 0.2308 - iou 0.1305 - val_loss 0.2288 - val_iou 0.0000\n",
            "Epoch [16/300]\n"
          ]
        },
        {
          "output_type": "stream",
          "name": "stderr",
          "text": [
            "100%|██████████| 30/30 [00:40<00:00,  1.34s/it, loss=0.229, iou=0.199]\n",
            "100%|██████████| 8/8 [00:04<00:00,  1.89it/s, loss=0.239, iou=0.0513]\n",
            "  0%|          | 0/30 [00:00<?, ?it/s]"
          ]
        },
        {
          "output_type": "stream",
          "name": "stdout",
          "text": [
            "loss 0.2291 - iou 0.1990 - val_loss 0.2392 - val_iou 0.0513\n",
            "Epoch [17/300]\n"
          ]
        },
        {
          "output_type": "stream",
          "name": "stderr",
          "text": [
            "100%|██████████| 30/30 [00:40<00:00,  1.34s/it, loss=0.225, iou=0.207]\n",
            "100%|██████████| 8/8 [00:04<00:00,  1.87it/s, loss=0.257, iou=7.49e-5]\n",
            "  0%|          | 0/30 [00:00<?, ?it/s]"
          ]
        },
        {
          "output_type": "stream",
          "name": "stdout",
          "text": [
            "loss 0.2246 - iou 0.2066 - val_loss 0.2566 - val_iou 0.0001\n",
            "Epoch [18/300]\n"
          ]
        },
        {
          "output_type": "stream",
          "name": "stderr",
          "text": [
            "100%|██████████| 30/30 [00:40<00:00,  1.34s/it, loss=0.228, iou=0.181]\n",
            "100%|██████████| 8/8 [00:04<00:00,  1.73it/s, loss=0.21, iou=0.0988]\n",
            "  0%|          | 0/30 [00:00<?, ?it/s]"
          ]
        },
        {
          "output_type": "stream",
          "name": "stdout",
          "text": [
            "loss 0.2283 - iou 0.1813 - val_loss 0.2104 - val_iou 0.0988\n",
            "Epoch [19/300]\n"
          ]
        },
        {
          "output_type": "stream",
          "name": "stderr",
          "text": [
            "100%|██████████| 30/30 [00:39<00:00,  1.33s/it, loss=0.224, iou=0.198]\n",
            "100%|██████████| 8/8 [00:04<00:00,  1.86it/s, loss=0.251, iou=0.00543]\n",
            "  0%|          | 0/30 [00:00<?, ?it/s]"
          ]
        },
        {
          "output_type": "stream",
          "name": "stdout",
          "text": [
            "loss 0.2237 - iou 0.1978 - val_loss 0.2513 - val_iou 0.0054\n",
            "Epoch [20/300]\n"
          ]
        },
        {
          "output_type": "stream",
          "name": "stderr",
          "text": [
            "100%|██████████| 30/30 [00:40<00:00,  1.33s/it, loss=0.224, iou=0.206]\n",
            "100%|██████████| 8/8 [00:04<00:00,  1.90it/s, loss=0.325, iou=0.00318]\n",
            "  0%|          | 0/30 [00:00<?, ?it/s]"
          ]
        },
        {
          "output_type": "stream",
          "name": "stdout",
          "text": [
            "loss 0.2241 - iou 0.2058 - val_loss 0.3247 - val_iou 0.0032\n",
            "Epoch [21/300]\n"
          ]
        },
        {
          "output_type": "stream",
          "name": "stderr",
          "text": [
            "100%|██████████| 30/30 [00:39<00:00,  1.33s/it, loss=0.218, iou=0.236]\n",
            "100%|██████████| 8/8 [00:04<00:00,  1.89it/s, loss=0.22, iou=0.248]\n",
            "  0%|          | 0/30 [00:00<?, ?it/s]"
          ]
        },
        {
          "output_type": "stream",
          "name": "stdout",
          "text": [
            "loss 0.2177 - iou 0.2357 - val_loss 0.2204 - val_iou 0.2475\n",
            "=> saved best model\n",
            "Epoch [22/300]\n"
          ]
        },
        {
          "output_type": "stream",
          "name": "stderr",
          "text": [
            "100%|██████████| 30/30 [00:40<00:00,  1.34s/it, loss=0.223, iou=0.218]\n",
            "100%|██████████| 8/8 [00:04<00:00,  1.76it/s, loss=0.277, iou=0.261]\n"
          ]
        },
        {
          "output_type": "stream",
          "name": "stdout",
          "text": [
            "loss 0.2226 - iou 0.2178 - val_loss 0.2772 - val_iou 0.2613\n"
          ]
        },
        {
          "output_type": "stream",
          "name": "stderr",
          "text": [
            "\r  0%|          | 0/30 [00:00<?, ?it/s]"
          ]
        },
        {
          "output_type": "stream",
          "name": "stdout",
          "text": [
            "=> saved best model\n",
            "Epoch [23/300]\n"
          ]
        },
        {
          "output_type": "stream",
          "name": "stderr",
          "text": [
            "100%|██████████| 30/30 [00:39<00:00,  1.33s/it, loss=0.22, iou=0.257]\n",
            "100%|██████████| 8/8 [00:04<00:00,  1.84it/s, loss=0.235, iou=0.221]\n",
            "  0%|          | 0/30 [00:00<?, ?it/s]"
          ]
        },
        {
          "output_type": "stream",
          "name": "stdout",
          "text": [
            "loss 0.2199 - iou 0.2569 - val_loss 0.2351 - val_iou 0.2209\n",
            "Epoch [24/300]\n"
          ]
        },
        {
          "output_type": "stream",
          "name": "stderr",
          "text": [
            "100%|██████████| 30/30 [00:39<00:00,  1.33s/it, loss=0.218, iou=0.255]\n",
            "100%|██████████| 8/8 [00:04<00:00,  1.90it/s, loss=0.399, iou=0.166]\n",
            "  0%|          | 0/30 [00:00<?, ?it/s]"
          ]
        },
        {
          "output_type": "stream",
          "name": "stdout",
          "text": [
            "loss 0.2180 - iou 0.2549 - val_loss 0.3990 - val_iou 0.1663\n",
            "Epoch [25/300]\n"
          ]
        },
        {
          "output_type": "stream",
          "name": "stderr",
          "text": [
            "100%|██████████| 30/30 [00:39<00:00,  1.33s/it, loss=0.218, iou=0.281]\n",
            "100%|██████████| 8/8 [00:04<00:00,  1.92it/s, loss=0.414, iou=0.185]\n",
            "  0%|          | 0/30 [00:00<?, ?it/s]"
          ]
        },
        {
          "output_type": "stream",
          "name": "stdout",
          "text": [
            "loss 0.2180 - iou 0.2807 - val_loss 0.4141 - val_iou 0.1849\n",
            "Epoch [26/300]\n"
          ]
        },
        {
          "output_type": "stream",
          "name": "stderr",
          "text": [
            "100%|██████████| 30/30 [00:39<00:00,  1.33s/it, loss=0.211, iou=0.292]\n",
            "100%|██████████| 8/8 [00:04<00:00,  1.83it/s, loss=0.256, iou=1.13e-10]\n",
            "  0%|          | 0/30 [00:00<?, ?it/s]"
          ]
        },
        {
          "output_type": "stream",
          "name": "stdout",
          "text": [
            "loss 0.2111 - iou 0.2918 - val_loss 0.2561 - val_iou 0.0000\n",
            "Epoch [27/300]\n"
          ]
        },
        {
          "output_type": "stream",
          "name": "stderr",
          "text": [
            "100%|██████████| 30/30 [00:39<00:00,  1.33s/it, loss=0.211, iou=0.291]\n",
            "100%|██████████| 8/8 [00:04<00:00,  1.75it/s, loss=0.42, iou=0.198]\n",
            "  0%|          | 0/30 [00:00<?, ?it/s]"
          ]
        },
        {
          "output_type": "stream",
          "name": "stdout",
          "text": [
            "loss 0.2107 - iou 0.2914 - val_loss 0.4205 - val_iou 0.1982\n",
            "Epoch [28/300]\n"
          ]
        },
        {
          "output_type": "stream",
          "name": "stderr",
          "text": [
            "100%|██████████| 30/30 [00:39<00:00,  1.33s/it, loss=0.209, iou=0.297]\n",
            "100%|██████████| 8/8 [00:04<00:00,  1.88it/s, loss=0.266, iou=0.154]\n",
            "  0%|          | 0/30 [00:00<?, ?it/s]"
          ]
        },
        {
          "output_type": "stream",
          "name": "stdout",
          "text": [
            "loss 0.2094 - iou 0.2970 - val_loss 0.2656 - val_iou 0.1545\n",
            "Epoch [29/300]\n"
          ]
        },
        {
          "output_type": "stream",
          "name": "stderr",
          "text": [
            "100%|██████████| 30/30 [00:39<00:00,  1.33s/it, loss=0.209, iou=0.298]\n",
            "100%|██████████| 8/8 [00:04<00:00,  1.90it/s, loss=0.271, iou=0.289]\n",
            "  0%|          | 0/30 [00:00<?, ?it/s]"
          ]
        },
        {
          "output_type": "stream",
          "name": "stdout",
          "text": [
            "loss 0.2094 - iou 0.2975 - val_loss 0.2706 - val_iou 0.2894\n",
            "=> saved best model\n",
            "Epoch [30/300]\n"
          ]
        },
        {
          "output_type": "stream",
          "name": "stderr",
          "text": [
            "100%|██████████| 30/30 [00:40<00:00,  1.34s/it, loss=0.207, iou=0.329]\n",
            "100%|██████████| 8/8 [00:04<00:00,  1.91it/s, loss=0.205, iou=0.123]\n",
            "  0%|          | 0/30 [00:00<?, ?it/s]"
          ]
        },
        {
          "output_type": "stream",
          "name": "stdout",
          "text": [
            "loss 0.2069 - iou 0.3295 - val_loss 0.2049 - val_iou 0.1233\n",
            "Epoch [31/300]\n"
          ]
        },
        {
          "output_type": "stream",
          "name": "stderr",
          "text": [
            "100%|██████████| 30/30 [00:39<00:00,  1.33s/it, loss=0.211, iou=0.299]\n",
            "100%|██████████| 8/8 [00:04<00:00,  1.82it/s, loss=0.246, iou=0.0491]\n",
            "  0%|          | 0/30 [00:00<?, ?it/s]"
          ]
        },
        {
          "output_type": "stream",
          "name": "stdout",
          "text": [
            "loss 0.2108 - iou 0.2991 - val_loss 0.2464 - val_iou 0.0491\n",
            "Epoch [32/300]\n"
          ]
        },
        {
          "output_type": "stream",
          "name": "stderr",
          "text": [
            "100%|██████████| 30/30 [00:40<00:00,  1.34s/it, loss=0.21, iou=0.292]\n",
            "100%|██████████| 8/8 [00:04<00:00,  1.80it/s, loss=0.259, iou=1.13e-10]\n",
            "  0%|          | 0/30 [00:00<?, ?it/s]"
          ]
        },
        {
          "output_type": "stream",
          "name": "stdout",
          "text": [
            "loss 0.2099 - iou 0.2922 - val_loss 0.2588 - val_iou 0.0000\n",
            "Epoch [33/300]\n"
          ]
        },
        {
          "output_type": "stream",
          "name": "stderr",
          "text": [
            "100%|██████████| 30/30 [00:39<00:00,  1.33s/it, loss=0.207, iou=0.346]\n",
            "100%|██████████| 8/8 [00:04<00:00,  1.91it/s, loss=0.238, iou=0.36]\n",
            "  0%|          | 0/30 [00:00<?, ?it/s]"
          ]
        },
        {
          "output_type": "stream",
          "name": "stdout",
          "text": [
            "loss 0.2071 - iou 0.3461 - val_loss 0.2383 - val_iou 0.3599\n",
            "=> saved best model\n",
            "Epoch [34/300]\n"
          ]
        },
        {
          "output_type": "stream",
          "name": "stderr",
          "text": [
            "100%|██████████| 30/30 [00:40<00:00,  1.34s/it, loss=0.202, iou=0.353]\n",
            "100%|██████████| 8/8 [00:04<00:00,  1.89it/s, loss=0.289, iou=1.13e-10]\n",
            "  0%|          | 0/30 [00:00<?, ?it/s]"
          ]
        },
        {
          "output_type": "stream",
          "name": "stdout",
          "text": [
            "loss 0.2020 - iou 0.3532 - val_loss 0.2886 - val_iou 0.0000\n",
            "Epoch [35/300]\n"
          ]
        },
        {
          "output_type": "stream",
          "name": "stderr",
          "text": [
            "100%|██████████| 30/30 [00:39<00:00,  1.33s/it, loss=0.207, iou=0.326]\n",
            "100%|██████████| 8/8 [00:04<00:00,  1.89it/s, loss=0.229, iou=0.0981]\n",
            "  0%|          | 0/30 [00:00<?, ?it/s]"
          ]
        },
        {
          "output_type": "stream",
          "name": "stdout",
          "text": [
            "loss 0.2066 - iou 0.3258 - val_loss 0.2287 - val_iou 0.0981\n",
            "Epoch [36/300]\n"
          ]
        },
        {
          "output_type": "stream",
          "name": "stderr",
          "text": [
            "100%|██████████| 30/30 [00:40<00:00,  1.33s/it, loss=0.199, iou=0.369]\n",
            "100%|██████████| 8/8 [00:04<00:00,  1.76it/s, loss=0.264, iou=0.0862]\n",
            "  0%|          | 0/30 [00:00<?, ?it/s]"
          ]
        },
        {
          "output_type": "stream",
          "name": "stdout",
          "text": [
            "loss 0.1995 - iou 0.3692 - val_loss 0.2638 - val_iou 0.0862\n",
            "Epoch [37/300]\n"
          ]
        },
        {
          "output_type": "stream",
          "name": "stderr",
          "text": [
            "100%|██████████| 30/30 [00:39<00:00,  1.33s/it, loss=0.201, iou=0.352]\n",
            "100%|██████████| 8/8 [00:04<00:00,  1.82it/s, loss=0.325, iou=0.324]\n",
            "  0%|          | 0/30 [00:00<?, ?it/s]"
          ]
        },
        {
          "output_type": "stream",
          "name": "stdout",
          "text": [
            "loss 0.2009 - iou 0.3517 - val_loss 0.3249 - val_iou 0.3240\n",
            "Epoch [38/300]\n"
          ]
        },
        {
          "output_type": "stream",
          "name": "stderr",
          "text": [
            "100%|██████████| 30/30 [00:39<00:00,  1.33s/it, loss=0.197, iou=0.37]\n",
            "100%|██████████| 8/8 [00:04<00:00,  1.90it/s, loss=0.221, iou=0.245]\n",
            "  0%|          | 0/30 [00:00<?, ?it/s]"
          ]
        },
        {
          "output_type": "stream",
          "name": "stdout",
          "text": [
            "loss 0.1971 - iou 0.3701 - val_loss 0.2211 - val_iou 0.2455\n",
            "Epoch [39/300]\n"
          ]
        },
        {
          "output_type": "stream",
          "name": "stderr",
          "text": [
            "100%|██████████| 30/30 [00:39<00:00,  1.33s/it, loss=0.198, iou=0.356]\n",
            "100%|██████████| 8/8 [00:04<00:00,  1.90it/s, loss=0.268, iou=1.13e-10]\n",
            "  0%|          | 0/30 [00:00<?, ?it/s]"
          ]
        },
        {
          "output_type": "stream",
          "name": "stdout",
          "text": [
            "loss 0.1978 - iou 0.3560 - val_loss 0.2683 - val_iou 0.0000\n",
            "Epoch [40/300]\n"
          ]
        },
        {
          "output_type": "stream",
          "name": "stderr",
          "text": [
            "100%|██████████| 30/30 [00:39<00:00,  1.33s/it, loss=0.201, iou=0.359]\n",
            "100%|██████████| 8/8 [00:04<00:00,  1.87it/s, loss=0.233, iou=0.317]\n",
            "  0%|          | 0/30 [00:00<?, ?it/s]"
          ]
        },
        {
          "output_type": "stream",
          "name": "stdout",
          "text": [
            "loss 0.2010 - iou 0.3594 - val_loss 0.2332 - val_iou 0.3174\n",
            "Epoch [41/300]\n"
          ]
        },
        {
          "output_type": "stream",
          "name": "stderr",
          "text": [
            "100%|██████████| 30/30 [00:39<00:00,  1.33s/it, loss=0.193, iou=0.404]\n",
            "100%|██████████| 8/8 [00:04<00:00,  1.76it/s, loss=0.765, iou=0.175]\n",
            "  0%|          | 0/30 [00:00<?, ?it/s]"
          ]
        },
        {
          "output_type": "stream",
          "name": "stdout",
          "text": [
            "loss 0.1931 - iou 0.4037 - val_loss 0.7649 - val_iou 0.1748\n",
            "Epoch [42/300]\n"
          ]
        },
        {
          "output_type": "stream",
          "name": "stderr",
          "text": [
            "100%|██████████| 30/30 [00:39<00:00,  1.33s/it, loss=0.192, iou=0.406]\n",
            "100%|██████████| 8/8 [00:04<00:00,  1.85it/s, loss=0.365, iou=0.193]\n",
            "  0%|          | 0/30 [00:00<?, ?it/s]"
          ]
        },
        {
          "output_type": "stream",
          "name": "stdout",
          "text": [
            "loss 0.1920 - iou 0.4056 - val_loss 0.3646 - val_iou 0.1926\n",
            "Epoch [43/300]\n"
          ]
        },
        {
          "output_type": "stream",
          "name": "stderr",
          "text": [
            "100%|██████████| 30/30 [00:40<00:00,  1.33s/it, loss=0.198, iou=0.363]\n",
            "100%|██████████| 8/8 [00:04<00:00,  1.91it/s, loss=0.233, iou=0.138]\n",
            "  0%|          | 0/30 [00:00<?, ?it/s]"
          ]
        },
        {
          "output_type": "stream",
          "name": "stdout",
          "text": [
            "loss 0.1978 - iou 0.3633 - val_loss 0.2326 - val_iou 0.1383\n",
            "Epoch [44/300]\n"
          ]
        },
        {
          "output_type": "stream",
          "name": "stderr",
          "text": [
            "100%|██████████| 30/30 [00:39<00:00,  1.33s/it, loss=0.193, iou=0.41]\n",
            "100%|██████████| 8/8 [00:04<00:00,  1.90it/s, loss=0.284, iou=1.13e-10]\n",
            "  0%|          | 0/30 [00:00<?, ?it/s]"
          ]
        },
        {
          "output_type": "stream",
          "name": "stdout",
          "text": [
            "loss 0.1927 - iou 0.4100 - val_loss 0.2835 - val_iou 0.0000\n",
            "Epoch [45/300]\n"
          ]
        },
        {
          "output_type": "stream",
          "name": "stderr",
          "text": [
            "100%|██████████| 30/30 [00:39<00:00,  1.33s/it, loss=0.19, iou=0.403]\n",
            "100%|██████████| 8/8 [00:04<00:00,  1.83it/s, loss=0.24, iou=0.203]\n",
            "  0%|          | 0/30 [00:00<?, ?it/s]"
          ]
        },
        {
          "output_type": "stream",
          "name": "stdout",
          "text": [
            "loss 0.1900 - iou 0.4028 - val_loss 0.2402 - val_iou 0.2032\n",
            "Epoch [46/300]\n"
          ]
        },
        {
          "output_type": "stream",
          "name": "stderr",
          "text": [
            "100%|██████████| 30/30 [00:39<00:00,  1.33s/it, loss=0.189, iou=0.423]\n",
            "100%|██████████| 8/8 [00:04<00:00,  1.76it/s, loss=0.269, iou=1.13e-10]\n",
            "  0%|          | 0/30 [00:00<?, ?it/s]"
          ]
        },
        {
          "output_type": "stream",
          "name": "stdout",
          "text": [
            "loss 0.1893 - iou 0.4233 - val_loss 0.2692 - val_iou 0.0000\n",
            "Epoch [47/300]\n"
          ]
        },
        {
          "output_type": "stream",
          "name": "stderr",
          "text": [
            "100%|██████████| 30/30 [00:39<00:00,  1.33s/it, loss=0.191, iou=0.418]\n",
            "100%|██████████| 8/8 [00:04<00:00,  1.88it/s, loss=0.439, iou=0.233]\n",
            "  0%|          | 0/30 [00:00<?, ?it/s]"
          ]
        },
        {
          "output_type": "stream",
          "name": "stdout",
          "text": [
            "loss 0.1908 - iou 0.4176 - val_loss 0.4392 - val_iou 0.2328\n",
            "Epoch [48/300]\n"
          ]
        },
        {
          "output_type": "stream",
          "name": "stderr",
          "text": [
            "100%|██████████| 30/30 [00:39<00:00,  1.33s/it, loss=0.186, iou=0.443]\n",
            "100%|██████████| 8/8 [00:04<00:00,  1.91it/s, loss=0.263, iou=0.00561]\n",
            "  0%|          | 0/30 [00:00<?, ?it/s]"
          ]
        },
        {
          "output_type": "stream",
          "name": "stdout",
          "text": [
            "loss 0.1856 - iou 0.4430 - val_loss 0.2633 - val_iou 0.0056\n",
            "Epoch [49/300]\n"
          ]
        },
        {
          "output_type": "stream",
          "name": "stderr",
          "text": [
            "100%|██████████| 30/30 [00:39<00:00,  1.33s/it, loss=0.189, iou=0.446]\n",
            "100%|██████████| 8/8 [00:04<00:00,  1.92it/s, loss=0.295, iou=0.00503]\n",
            "  0%|          | 0/30 [00:00<?, ?it/s]"
          ]
        },
        {
          "output_type": "stream",
          "name": "stdout",
          "text": [
            "loss 0.1887 - iou 0.4456 - val_loss 0.2952 - val_iou 0.0050\n",
            "Epoch [50/300]\n"
          ]
        },
        {
          "output_type": "stream",
          "name": "stderr",
          "text": [
            "100%|██████████| 30/30 [00:40<00:00,  1.33s/it, loss=0.187, iou=0.419]\n",
            "100%|██████████| 8/8 [00:04<00:00,  1.80it/s, loss=0.238, iou=0.146]\n",
            "  0%|          | 0/30 [00:00<?, ?it/s]"
          ]
        },
        {
          "output_type": "stream",
          "name": "stdout",
          "text": [
            "loss 0.1872 - iou 0.4190 - val_loss 0.2384 - val_iou 0.1459\n",
            "Epoch [51/300]\n"
          ]
        },
        {
          "output_type": "stream",
          "name": "stderr",
          "text": [
            "100%|██████████| 30/30 [00:39<00:00,  1.33s/it, loss=0.186, iou=0.431]\n",
            "100%|██████████| 8/8 [00:04<00:00,  1.81it/s, loss=0.331, iou=0.162]\n",
            "  0%|          | 0/30 [00:00<?, ?it/s]"
          ]
        },
        {
          "output_type": "stream",
          "name": "stdout",
          "text": [
            "loss 0.1857 - iou 0.4315 - val_loss 0.3315 - val_iou 0.1620\n",
            "Epoch [52/300]\n"
          ]
        },
        {
          "output_type": "stream",
          "name": "stderr",
          "text": [
            "100%|██████████| 30/30 [00:39<00:00,  1.33s/it, loss=0.186, iou=0.454]\n",
            "100%|██████████| 8/8 [00:04<00:00,  1.90it/s, loss=0.21, iou=0.148]\n",
            "  0%|          | 0/30 [00:00<?, ?it/s]"
          ]
        },
        {
          "output_type": "stream",
          "name": "stdout",
          "text": [
            "loss 0.1864 - iou 0.4537 - val_loss 0.2105 - val_iou 0.1477\n",
            "Epoch [53/300]\n"
          ]
        },
        {
          "output_type": "stream",
          "name": "stderr",
          "text": [
            "100%|██████████| 30/30 [00:39<00:00,  1.33s/it, loss=0.181, iou=0.471]\n",
            "100%|██████████| 8/8 [00:04<00:00,  1.91it/s, loss=0.286, iou=1.13e-10]\n",
            "  0%|          | 0/30 [00:00<?, ?it/s]"
          ]
        },
        {
          "output_type": "stream",
          "name": "stdout",
          "text": [
            "loss 0.1808 - iou 0.4709 - val_loss 0.2857 - val_iou 0.0000\n",
            "Epoch [54/300]\n"
          ]
        },
        {
          "output_type": "stream",
          "name": "stderr",
          "text": [
            "100%|██████████| 30/30 [00:39<00:00,  1.32s/it, loss=0.18, iou=0.473]\n",
            "100%|██████████| 8/8 [00:04<00:00,  1.90it/s, loss=0.266, iou=1.13e-10]\n",
            "  0%|          | 0/30 [00:00<?, ?it/s]"
          ]
        },
        {
          "output_type": "stream",
          "name": "stdout",
          "text": [
            "loss 0.1804 - iou 0.4727 - val_loss 0.2664 - val_iou 0.0000\n",
            "Epoch [55/300]\n"
          ]
        },
        {
          "output_type": "stream",
          "name": "stderr",
          "text": [
            "100%|██████████| 30/30 [00:39<00:00,  1.32s/it, loss=0.176, iou=0.493]\n",
            "100%|██████████| 8/8 [00:04<00:00,  1.79it/s, loss=0.459, iou=0.235]\n",
            "  0%|          | 0/30 [00:00<?, ?it/s]"
          ]
        },
        {
          "output_type": "stream",
          "name": "stdout",
          "text": [
            "loss 0.1761 - iou 0.4929 - val_loss 0.4591 - val_iou 0.2353\n",
            "Epoch [56/300]\n"
          ]
        },
        {
          "output_type": "stream",
          "name": "stderr",
          "text": [
            "100%|██████████| 30/30 [00:39<00:00,  1.32s/it, loss=0.173, iou=0.502]\n",
            "100%|██████████| 8/8 [00:04<00:00,  1.82it/s, loss=0.294, iou=0.000695]\n",
            "  0%|          | 0/30 [00:00<?, ?it/s]"
          ]
        },
        {
          "output_type": "stream",
          "name": "stdout",
          "text": [
            "loss 0.1727 - iou 0.5023 - val_loss 0.2943 - val_iou 0.0007\n",
            "Epoch [57/300]\n"
          ]
        },
        {
          "output_type": "stream",
          "name": "stderr",
          "text": [
            "100%|██████████| 30/30 [00:39<00:00,  1.33s/it, loss=0.18, iou=0.498]\n",
            "100%|██████████| 8/8 [00:04<00:00,  1.89it/s, loss=0.25, iou=0.15]\n",
            "  0%|          | 0/30 [00:00<?, ?it/s]"
          ]
        },
        {
          "output_type": "stream",
          "name": "stdout",
          "text": [
            "loss 0.1805 - iou 0.4982 - val_loss 0.2503 - val_iou 0.1500\n",
            "Epoch [58/300]\n"
          ]
        },
        {
          "output_type": "stream",
          "name": "stderr",
          "text": [
            "100%|██████████| 30/30 [00:39<00:00,  1.33s/it, loss=0.177, iou=0.494]\n",
            "100%|██████████| 8/8 [00:04<00:00,  1.92it/s, loss=0.292, iou=1.13e-10]\n",
            "  0%|          | 0/30 [00:00<?, ?it/s]"
          ]
        },
        {
          "output_type": "stream",
          "name": "stdout",
          "text": [
            "loss 0.1767 - iou 0.4939 - val_loss 0.2925 - val_iou 0.0000\n",
            "Epoch [59/300]\n"
          ]
        },
        {
          "output_type": "stream",
          "name": "stderr",
          "text": [
            "100%|██████████| 30/30 [00:39<00:00,  1.33s/it, loss=0.175, iou=0.496]\n",
            "100%|██████████| 8/8 [00:04<00:00,  1.90it/s, loss=0.359, iou=0.000386]\n",
            "  0%|          | 0/30 [00:00<?, ?it/s]"
          ]
        },
        {
          "output_type": "stream",
          "name": "stdout",
          "text": [
            "loss 0.1752 - iou 0.4965 - val_loss 0.3587 - val_iou 0.0004\n",
            "Epoch [60/300]\n"
          ]
        },
        {
          "output_type": "stream",
          "name": "stderr",
          "text": [
            "100%|██████████| 30/30 [00:39<00:00,  1.32s/it, loss=0.17, iou=0.547]\n",
            "100%|██████████| 8/8 [00:04<00:00,  1.81it/s, loss=0.295, iou=1.13e-10]\n",
            "  0%|          | 0/30 [00:00<?, ?it/s]"
          ]
        },
        {
          "output_type": "stream",
          "name": "stdout",
          "text": [
            "loss 0.1699 - iou 0.5467 - val_loss 0.2948 - val_iou 0.0000\n",
            "Epoch [61/300]\n"
          ]
        },
        {
          "output_type": "stream",
          "name": "stderr",
          "text": [
            "100%|██████████| 30/30 [00:39<00:00,  1.32s/it, loss=0.169, iou=0.539]\n",
            "100%|██████████| 8/8 [00:04<00:00,  1.82it/s, loss=0.267, iou=1.13e-10]\n",
            "  0%|          | 0/30 [00:00<?, ?it/s]"
          ]
        },
        {
          "output_type": "stream",
          "name": "stdout",
          "text": [
            "loss 0.1686 - iou 0.5391 - val_loss 0.2667 - val_iou 0.0000\n",
            "Epoch [62/300]\n"
          ]
        },
        {
          "output_type": "stream",
          "name": "stderr",
          "text": [
            "100%|██████████| 30/30 [00:40<00:00,  1.34s/it, loss=0.17, iou=0.525]\n",
            "100%|██████████| 8/8 [00:04<00:00,  1.91it/s, loss=0.318, iou=1.13e-10]\n",
            "  0%|          | 0/30 [00:00<?, ?it/s]"
          ]
        },
        {
          "output_type": "stream",
          "name": "stdout",
          "text": [
            "loss 0.1704 - iou 0.5251 - val_loss 0.3178 - val_iou 0.0000\n",
            "Epoch [63/300]\n"
          ]
        },
        {
          "output_type": "stream",
          "name": "stderr",
          "text": [
            "100%|██████████| 30/30 [00:39<00:00,  1.32s/it, loss=0.164, iou=0.568]\n",
            "100%|██████████| 8/8 [00:04<00:00,  1.90it/s, loss=0.392, iou=0.211]\n",
            "  0%|          | 0/30 [00:00<?, ?it/s]"
          ]
        },
        {
          "output_type": "stream",
          "name": "stdout",
          "text": [
            "loss 0.1644 - iou 0.5678 - val_loss 0.3917 - val_iou 0.2111\n",
            "Epoch [64/300]\n"
          ]
        },
        {
          "output_type": "stream",
          "name": "stderr",
          "text": [
            "100%|██████████| 30/30 [00:39<00:00,  1.33s/it, loss=0.168, iou=0.55]\n",
            "100%|██████████| 8/8 [00:04<00:00,  1.91it/s, loss=0.263, iou=0.087]\n",
            "  0%|          | 0/30 [00:00<?, ?it/s]"
          ]
        },
        {
          "output_type": "stream",
          "name": "stdout",
          "text": [
            "loss 0.1675 - iou 0.5503 - val_loss 0.2627 - val_iou 0.0870\n",
            "Epoch [65/300]\n"
          ]
        },
        {
          "output_type": "stream",
          "name": "stderr",
          "text": [
            "100%|██████████| 30/30 [00:39<00:00,  1.32s/it, loss=0.163, iou=0.568]\n",
            "100%|██████████| 8/8 [00:04<00:00,  1.83it/s, loss=0.264, iou=0.116]\n",
            "  0%|          | 0/30 [00:00<?, ?it/s]"
          ]
        },
        {
          "output_type": "stream",
          "name": "stdout",
          "text": [
            "loss 0.1631 - iou 0.5684 - val_loss 0.2645 - val_iou 0.1157\n",
            "Epoch [66/300]\n"
          ]
        },
        {
          "output_type": "stream",
          "name": "stderr",
          "text": [
            "100%|██████████| 30/30 [00:39<00:00,  1.33s/it, loss=0.168, iou=0.533]\n",
            "100%|██████████| 8/8 [00:04<00:00,  1.76it/s, loss=0.325, iou=0.265]\n",
            "  0%|          | 0/30 [00:00<?, ?it/s]"
          ]
        },
        {
          "output_type": "stream",
          "name": "stdout",
          "text": [
            "loss 0.1681 - iou 0.5328 - val_loss 0.3246 - val_iou 0.2652\n",
            "Epoch [67/300]\n"
          ]
        },
        {
          "output_type": "stream",
          "name": "stderr",
          "text": [
            "100%|██████████| 30/30 [00:39<00:00,  1.33s/it, loss=0.171, iou=0.544]\n",
            "100%|██████████| 8/8 [00:04<00:00,  1.91it/s, loss=0.226, iou=0.156]\n",
            "  0%|          | 0/30 [00:00<?, ?it/s]"
          ]
        },
        {
          "output_type": "stream",
          "name": "stdout",
          "text": [
            "loss 0.1709 - iou 0.5441 - val_loss 0.2261 - val_iou 0.1558\n",
            "Epoch [68/300]\n"
          ]
        },
        {
          "output_type": "stream",
          "name": "stderr",
          "text": [
            "100%|██████████| 30/30 [00:39<00:00,  1.33s/it, loss=0.162, iou=0.576]\n",
            "100%|██████████| 8/8 [00:04<00:00,  1.90it/s, loss=0.328, iou=1.13e-10]\n",
            "  0%|          | 0/30 [00:00<?, ?it/s]"
          ]
        },
        {
          "output_type": "stream",
          "name": "stdout",
          "text": [
            "loss 0.1618 - iou 0.5765 - val_loss 0.3277 - val_iou 0.0000\n",
            "Epoch [69/300]\n"
          ]
        },
        {
          "output_type": "stream",
          "name": "stderr",
          "text": [
            "100%|██████████| 30/30 [00:39<00:00,  1.32s/it, loss=0.16, iou=0.589]\n",
            "100%|██████████| 8/8 [00:04<00:00,  1.91it/s, loss=0.281, iou=1.13e-10]\n",
            "  0%|          | 0/30 [00:00<?, ?it/s]"
          ]
        },
        {
          "output_type": "stream",
          "name": "stdout",
          "text": [
            "loss 0.1597 - iou 0.5888 - val_loss 0.2807 - val_iou 0.0000\n",
            "Epoch [70/300]\n"
          ]
        },
        {
          "output_type": "stream",
          "name": "stderr",
          "text": [
            "100%|██████████| 30/30 [00:39<00:00,  1.33s/it, loss=0.168, iou=0.568]\n",
            "100%|██████████| 8/8 [00:04<00:00,  1.82it/s, loss=0.183, iou=0.414]\n"
          ]
        },
        {
          "output_type": "stream",
          "name": "stdout",
          "text": [
            "loss 0.1681 - iou 0.5675 - val_loss 0.1833 - val_iou 0.4138\n"
          ]
        },
        {
          "output_type": "stream",
          "name": "stderr",
          "text": [
            "\r  0%|          | 0/30 [00:00<?, ?it/s]"
          ]
        },
        {
          "output_type": "stream",
          "name": "stdout",
          "text": [
            "=> saved best model\n",
            "Epoch [71/300]\n"
          ]
        },
        {
          "output_type": "stream",
          "name": "stderr",
          "text": [
            "100%|██████████| 30/30 [00:39<00:00,  1.33s/it, loss=0.164, iou=0.577]\n",
            "100%|██████████| 8/8 [00:04<00:00,  1.81it/s, loss=0.352, iou=1.13e-10]\n",
            "  0%|          | 0/30 [00:00<?, ?it/s]"
          ]
        },
        {
          "output_type": "stream",
          "name": "stdout",
          "text": [
            "loss 0.1644 - iou 0.5771 - val_loss 0.3523 - val_iou 0.0000\n",
            "Epoch [72/300]\n"
          ]
        },
        {
          "output_type": "stream",
          "name": "stderr",
          "text": [
            "100%|██████████| 30/30 [00:39<00:00,  1.33s/it, loss=0.159, iou=0.59]\n",
            "100%|██████████| 8/8 [00:04<00:00,  1.90it/s, loss=0.352, iou=0.00102]\n",
            "  0%|          | 0/30 [00:00<?, ?it/s]"
          ]
        },
        {
          "output_type": "stream",
          "name": "stdout",
          "text": [
            "loss 0.1590 - iou 0.5903 - val_loss 0.3520 - val_iou 0.0010\n",
            "Epoch [73/300]\n"
          ]
        },
        {
          "output_type": "stream",
          "name": "stderr",
          "text": [
            "100%|██████████| 30/30 [00:39<00:00,  1.33s/it, loss=0.154, iou=0.614]\n",
            "100%|██████████| 8/8 [00:04<00:00,  1.92it/s, loss=0.349, iou=0.0784]\n",
            "  0%|          | 0/30 [00:00<?, ?it/s]"
          ]
        },
        {
          "output_type": "stream",
          "name": "stdout",
          "text": [
            "loss 0.1537 - iou 0.6140 - val_loss 0.3494 - val_iou 0.0784\n",
            "Epoch [74/300]\n"
          ]
        },
        {
          "output_type": "stream",
          "name": "stderr",
          "text": [
            "100%|██████████| 30/30 [00:39<00:00,  1.32s/it, loss=0.152, iou=0.625]\n",
            "100%|██████████| 8/8 [00:04<00:00,  1.91it/s, loss=0.195, iou=0.308]\n",
            "  0%|          | 0/30 [00:00<?, ?it/s]"
          ]
        },
        {
          "output_type": "stream",
          "name": "stdout",
          "text": [
            "loss 0.1522 - iou 0.6250 - val_loss 0.1952 - val_iou 0.3079\n",
            "Epoch [75/300]\n"
          ]
        },
        {
          "output_type": "stream",
          "name": "stderr",
          "text": [
            "100%|██████████| 30/30 [00:39<00:00,  1.32s/it, loss=0.157, iou=0.605]\n",
            "100%|██████████| 8/8 [00:04<00:00,  1.83it/s, loss=0.484, iou=0.202]\n",
            "  0%|          | 0/30 [00:00<?, ?it/s]"
          ]
        },
        {
          "output_type": "stream",
          "name": "stdout",
          "text": [
            "loss 0.1573 - iou 0.6054 - val_loss 0.4839 - val_iou 0.2020\n",
            "Epoch [76/300]\n"
          ]
        },
        {
          "output_type": "stream",
          "name": "stderr",
          "text": [
            "100%|██████████| 30/30 [00:39<00:00,  1.33s/it, loss=0.157, iou=0.591]\n",
            "100%|██████████| 8/8 [00:04<00:00,  1.77it/s, loss=0.361, iou=1.13e-10]\n",
            "  0%|          | 0/30 [00:00<?, ?it/s]"
          ]
        },
        {
          "output_type": "stream",
          "name": "stdout",
          "text": [
            "loss 0.1571 - iou 0.5909 - val_loss 0.3612 - val_iou 0.0000\n",
            "Epoch [77/300]\n"
          ]
        },
        {
          "output_type": "stream",
          "name": "stderr",
          "text": [
            "100%|██████████| 30/30 [00:39<00:00,  1.32s/it, loss=0.159, iou=0.596]\n",
            "100%|██████████| 8/8 [00:04<00:00,  1.89it/s, loss=0.179, iou=0.477]\n",
            "  0%|          | 0/30 [00:00<?, ?it/s]"
          ]
        },
        {
          "output_type": "stream",
          "name": "stdout",
          "text": [
            "loss 0.1592 - iou 0.5956 - val_loss 0.1787 - val_iou 0.4767\n",
            "=> saved best model\n",
            "Epoch [78/300]\n"
          ]
        },
        {
          "output_type": "stream",
          "name": "stderr",
          "text": [
            "100%|██████████| 30/30 [00:39<00:00,  1.33s/it, loss=0.152, iou=0.621]\n",
            "100%|██████████| 8/8 [00:04<00:00,  1.92it/s, loss=0.305, iou=1.13e-10]\n",
            "  0%|          | 0/30 [00:00<?, ?it/s]"
          ]
        },
        {
          "output_type": "stream",
          "name": "stdout",
          "text": [
            "loss 0.1518 - iou 0.6209 - val_loss 0.3050 - val_iou 0.0000\n",
            "Epoch [79/300]\n"
          ]
        },
        {
          "output_type": "stream",
          "name": "stderr",
          "text": [
            "100%|██████████| 30/30 [00:39<00:00,  1.32s/it, loss=0.153, iou=0.624]\n",
            "100%|██████████| 8/8 [00:04<00:00,  1.92it/s, loss=0.292, iou=0.000641]\n",
            "  0%|          | 0/30 [00:00<?, ?it/s]"
          ]
        },
        {
          "output_type": "stream",
          "name": "stdout",
          "text": [
            "loss 0.1527 - iou 0.6236 - val_loss 0.2920 - val_iou 0.0006\n",
            "Epoch [80/300]\n"
          ]
        },
        {
          "output_type": "stream",
          "name": "stderr",
          "text": [
            "100%|██████████| 30/30 [00:39<00:00,  1.32s/it, loss=0.154, iou=0.617]\n",
            "100%|██████████| 8/8 [00:04<00:00,  1.85it/s, loss=0.29, iou=0.166]\n",
            "  0%|          | 0/30 [00:00<?, ?it/s]"
          ]
        },
        {
          "output_type": "stream",
          "name": "stdout",
          "text": [
            "loss 0.1542 - iou 0.6167 - val_loss 0.2896 - val_iou 0.1655\n",
            "Epoch [81/300]\n"
          ]
        },
        {
          "output_type": "stream",
          "name": "stderr",
          "text": [
            "100%|██████████| 30/30 [00:39<00:00,  1.32s/it, loss=0.156, iou=0.609]\n",
            "100%|██████████| 8/8 [00:04<00:00,  1.76it/s, loss=0.279, iou=1.13e-10]\n",
            "  0%|          | 0/30 [00:00<?, ?it/s]"
          ]
        },
        {
          "output_type": "stream",
          "name": "stdout",
          "text": [
            "loss 0.1559 - iou 0.6092 - val_loss 0.2786 - val_iou 0.0000\n",
            "Epoch [82/300]\n"
          ]
        },
        {
          "output_type": "stream",
          "name": "stderr",
          "text": [
            "100%|██████████| 30/30 [00:39<00:00,  1.32s/it, loss=0.152, iou=0.618]\n",
            "100%|██████████| 8/8 [00:04<00:00,  1.88it/s, loss=0.324, iou=1.13e-10]\n",
            "  0%|          | 0/30 [00:00<?, ?it/s]"
          ]
        },
        {
          "output_type": "stream",
          "name": "stdout",
          "text": [
            "loss 0.1525 - iou 0.6183 - val_loss 0.3242 - val_iou 0.0000\n",
            "Epoch [83/300]\n"
          ]
        },
        {
          "output_type": "stream",
          "name": "stderr",
          "text": [
            "100%|██████████| 30/30 [00:40<00:00,  1.35s/it, loss=0.154, iou=0.635]\n",
            "100%|██████████| 8/8 [00:04<00:00,  1.85it/s, loss=0.191, iou=0.378]\n",
            "  0%|          | 0/30 [00:00<?, ?it/s]"
          ]
        },
        {
          "output_type": "stream",
          "name": "stdout",
          "text": [
            "loss 0.1539 - iou 0.6347 - val_loss 0.1910 - val_iou 0.3779\n",
            "Epoch [84/300]\n"
          ]
        },
        {
          "output_type": "stream",
          "name": "stderr",
          "text": [
            "100%|██████████| 30/30 [00:39<00:00,  1.32s/it, loss=0.155, iou=0.623]\n",
            "100%|██████████| 8/8 [00:04<00:00,  1.93it/s, loss=0.342, iou=1.13e-10]\n",
            "  0%|          | 0/30 [00:00<?, ?it/s]"
          ]
        },
        {
          "output_type": "stream",
          "name": "stdout",
          "text": [
            "loss 0.1549 - iou 0.6227 - val_loss 0.3418 - val_iou 0.0000\n",
            "Epoch [85/300]\n"
          ]
        },
        {
          "output_type": "stream",
          "name": "stderr",
          "text": [
            "100%|██████████| 30/30 [00:39<00:00,  1.32s/it, loss=0.152, iou=0.65]\n",
            "100%|██████████| 8/8 [00:04<00:00,  1.88it/s, loss=0.202, iou=0.377]\n",
            "  0%|          | 0/30 [00:00<?, ?it/s]"
          ]
        },
        {
          "output_type": "stream",
          "name": "stdout",
          "text": [
            "loss 0.1522 - iou 0.6504 - val_loss 0.2017 - val_iou 0.3772\n",
            "Epoch [86/300]\n"
          ]
        },
        {
          "output_type": "stream",
          "name": "stderr",
          "text": [
            "100%|██████████| 30/30 [00:39<00:00,  1.32s/it, loss=0.152, iou=0.64]\n",
            "100%|██████████| 8/8 [00:04<00:00,  1.77it/s, loss=0.359, iou=0.00715]\n",
            "  0%|          | 0/30 [00:00<?, ?it/s]"
          ]
        },
        {
          "output_type": "stream",
          "name": "stdout",
          "text": [
            "loss 0.1518 - iou 0.6403 - val_loss 0.3592 - val_iou 0.0072\n",
            "Epoch [87/300]\n"
          ]
        },
        {
          "output_type": "stream",
          "name": "stderr",
          "text": [
            "100%|██████████| 30/30 [00:39<00:00,  1.31s/it, loss=0.149, iou=0.637]\n",
            "100%|██████████| 8/8 [00:04<00:00,  1.84it/s, loss=0.317, iou=8.34e-6]\n",
            "  0%|          | 0/30 [00:00<?, ?it/s]"
          ]
        },
        {
          "output_type": "stream",
          "name": "stdout",
          "text": [
            "loss 0.1490 - iou 0.6371 - val_loss 0.3171 - val_iou 0.0000\n",
            "Epoch [88/300]\n"
          ]
        },
        {
          "output_type": "stream",
          "name": "stderr",
          "text": [
            "100%|██████████| 30/30 [00:39<00:00,  1.32s/it, loss=0.148, iou=0.654]\n",
            "100%|██████████| 8/8 [00:04<00:00,  1.92it/s, loss=0.279, iou=0.0883]\n",
            "  0%|          | 0/30 [00:00<?, ?it/s]"
          ]
        },
        {
          "output_type": "stream",
          "name": "stdout",
          "text": [
            "loss 0.1477 - iou 0.6539 - val_loss 0.2794 - val_iou 0.0883\n",
            "Epoch [89/300]\n"
          ]
        },
        {
          "output_type": "stream",
          "name": "stderr",
          "text": [
            "100%|██████████| 30/30 [00:39<00:00,  1.32s/it, loss=0.147, iou=0.66]\n",
            "100%|██████████| 8/8 [00:04<00:00,  1.92it/s, loss=0.291, iou=0.000345]\n",
            "  0%|          | 0/30 [00:00<?, ?it/s]"
          ]
        },
        {
          "output_type": "stream",
          "name": "stdout",
          "text": [
            "loss 0.1466 - iou 0.6597 - val_loss 0.2912 - val_iou 0.0003\n",
            "Epoch [90/300]\n"
          ]
        },
        {
          "output_type": "stream",
          "name": "stderr",
          "text": [
            "100%|██████████| 30/30 [00:39<00:00,  1.32s/it, loss=0.144, iou=0.673]\n",
            "100%|██████████| 8/8 [00:04<00:00,  1.92it/s, loss=0.267, iou=0.126]\n",
            "  0%|          | 0/30 [00:00<?, ?it/s]"
          ]
        },
        {
          "output_type": "stream",
          "name": "stdout",
          "text": [
            "loss 0.1441 - iou 0.6732 - val_loss 0.2668 - val_iou 0.1261\n",
            "Epoch [91/300]\n"
          ]
        },
        {
          "output_type": "stream",
          "name": "stderr",
          "text": [
            "100%|██████████| 30/30 [00:39<00:00,  1.31s/it, loss=0.146, iou=0.663]\n",
            "100%|██████████| 8/8 [00:04<00:00,  1.82it/s, loss=0.213, iou=0.363]\n",
            "  0%|          | 0/30 [00:00<?, ?it/s]"
          ]
        },
        {
          "output_type": "stream",
          "name": "stdout",
          "text": [
            "loss 0.1462 - iou 0.6627 - val_loss 0.2135 - val_iou 0.3626\n",
            "Epoch [92/300]\n"
          ]
        },
        {
          "output_type": "stream",
          "name": "stderr",
          "text": [
            "100%|██████████| 30/30 [00:39<00:00,  1.32s/it, loss=0.145, iou=0.661]\n",
            "100%|██████████| 8/8 [00:04<00:00,  1.82it/s, loss=0.334, iou=1.13e-10]\n",
            "  0%|          | 0/30 [00:00<?, ?it/s]"
          ]
        },
        {
          "output_type": "stream",
          "name": "stdout",
          "text": [
            "loss 0.1451 - iou 0.6609 - val_loss 0.3343 - val_iou 0.0000\n",
            "Epoch [93/300]\n"
          ]
        },
        {
          "output_type": "stream",
          "name": "stderr",
          "text": [
            "100%|██████████| 30/30 [00:39<00:00,  1.32s/it, loss=0.147, iou=0.666]\n",
            "100%|██████████| 8/8 [00:04<00:00,  1.94it/s, loss=0.34, iou=1.13e-10]\n",
            "  0%|          | 0/30 [00:00<?, ?it/s]"
          ]
        },
        {
          "output_type": "stream",
          "name": "stdout",
          "text": [
            "loss 0.1469 - iou 0.6663 - val_loss 0.3397 - val_iou 0.0000\n",
            "Epoch [94/300]\n"
          ]
        },
        {
          "output_type": "stream",
          "name": "stderr",
          "text": [
            "100%|██████████| 30/30 [00:39<00:00,  1.32s/it, loss=0.144, iou=0.67]\n",
            "100%|██████████| 8/8 [00:04<00:00,  1.94it/s, loss=0.331, iou=0.249]\n",
            "  0%|          | 0/30 [00:00<?, ?it/s]"
          ]
        },
        {
          "output_type": "stream",
          "name": "stdout",
          "text": [
            "loss 0.1437 - iou 0.6696 - val_loss 0.3315 - val_iou 0.2485\n",
            "Epoch [95/300]\n"
          ]
        },
        {
          "output_type": "stream",
          "name": "stderr",
          "text": [
            "100%|██████████| 30/30 [00:39<00:00,  1.32s/it, loss=0.145, iou=0.672]\n",
            "100%|██████████| 8/8 [00:04<00:00,  1.93it/s, loss=0.404, iou=1.13e-10]\n",
            "  0%|          | 0/30 [00:00<?, ?it/s]"
          ]
        },
        {
          "output_type": "stream",
          "name": "stdout",
          "text": [
            "loss 0.1448 - iou 0.6718 - val_loss 0.4038 - val_iou 0.0000\n",
            "Epoch [96/300]\n"
          ]
        },
        {
          "output_type": "stream",
          "name": "stderr",
          "text": [
            "100%|██████████| 30/30 [00:39<00:00,  1.32s/it, loss=0.142, iou=0.673]\n",
            "100%|██████████| 8/8 [00:04<00:00,  1.85it/s, loss=0.25, iou=0.315]\n",
            "  0%|          | 0/30 [00:00<?, ?it/s]"
          ]
        },
        {
          "output_type": "stream",
          "name": "stdout",
          "text": [
            "loss 0.1419 - iou 0.6734 - val_loss 0.2503 - val_iou 0.3153\n",
            "Epoch [97/300]\n"
          ]
        },
        {
          "output_type": "stream",
          "name": "stderr",
          "text": [
            "100%|██████████| 30/30 [00:39<00:00,  1.31s/it, loss=0.142, iou=0.677]\n",
            "100%|██████████| 8/8 [00:04<00:00,  1.78it/s, loss=0.222, iou=0.348]\n",
            "  0%|          | 0/30 [00:00<?, ?it/s]"
          ]
        },
        {
          "output_type": "stream",
          "name": "stdout",
          "text": [
            "loss 0.1415 - iou 0.6768 - val_loss 0.2219 - val_iou 0.3476\n",
            "Epoch [98/300]\n"
          ]
        },
        {
          "output_type": "stream",
          "name": "stderr",
          "text": [
            "100%|██████████| 30/30 [00:39<00:00,  1.32s/it, loss=0.144, iou=0.678]\n",
            "100%|██████████| 8/8 [00:04<00:00,  1.89it/s, loss=0.292, iou=0.138]\n",
            "  0%|          | 0/30 [00:00<?, ?it/s]"
          ]
        },
        {
          "output_type": "stream",
          "name": "stdout",
          "text": [
            "loss 0.1445 - iou 0.6778 - val_loss 0.2920 - val_iou 0.1385\n",
            "Epoch [99/300]\n"
          ]
        },
        {
          "output_type": "stream",
          "name": "stderr",
          "text": [
            "100%|██████████| 30/30 [00:39<00:00,  1.32s/it, loss=0.143, iou=0.673]\n",
            "100%|██████████| 8/8 [00:04<00:00,  1.92it/s, loss=0.351, iou=1.13e-10]\n",
            "  0%|          | 0/30 [00:00<?, ?it/s]"
          ]
        },
        {
          "output_type": "stream",
          "name": "stdout",
          "text": [
            "loss 0.1428 - iou 0.6731 - val_loss 0.3507 - val_iou 0.0000\n",
            "Epoch [100/300]\n"
          ]
        },
        {
          "output_type": "stream",
          "name": "stderr",
          "text": [
            "100%|██████████| 30/30 [00:39<00:00,  1.32s/it, loss=0.138, iou=0.686]\n",
            "100%|██████████| 8/8 [00:04<00:00,  1.92it/s, loss=0.392, iou=1.13e-10]\n",
            "  0%|          | 0/30 [00:00<?, ?it/s]"
          ]
        },
        {
          "output_type": "stream",
          "name": "stdout",
          "text": [
            "loss 0.1380 - iou 0.6855 - val_loss 0.3916 - val_iou 0.0000\n",
            "Epoch [101/300]\n"
          ]
        },
        {
          "output_type": "stream",
          "name": "stderr",
          "text": [
            "100%|██████████| 30/30 [00:39<00:00,  1.32s/it, loss=0.134, iou=0.723]\n",
            "100%|██████████| 8/8 [00:04<00:00,  1.84it/s, loss=0.304, iou=0.0175]\n",
            "  0%|          | 0/30 [00:00<?, ?it/s]"
          ]
        },
        {
          "output_type": "stream",
          "name": "stdout",
          "text": [
            "loss 0.1345 - iou 0.7235 - val_loss 0.3042 - val_iou 0.0175\n",
            "Epoch [102/300]\n"
          ]
        },
        {
          "output_type": "stream",
          "name": "stderr",
          "text": [
            "100%|██████████| 30/30 [00:39<00:00,  1.32s/it, loss=0.135, iou=0.717]\n",
            "100%|██████████| 8/8 [00:04<00:00,  1.78it/s, loss=0.306, iou=0.0426]\n",
            "  0%|          | 0/30 [00:00<?, ?it/s]"
          ]
        },
        {
          "output_type": "stream",
          "name": "stdout",
          "text": [
            "loss 0.1350 - iou 0.7167 - val_loss 0.3063 - val_iou 0.0426\n",
            "Epoch [103/300]\n"
          ]
        },
        {
          "output_type": "stream",
          "name": "stderr",
          "text": [
            "100%|██████████| 30/30 [00:39<00:00,  1.31s/it, loss=0.138, iou=0.716]\n",
            "100%|██████████| 8/8 [00:04<00:00,  1.90it/s, loss=0.291, iou=0.228]\n",
            "  0%|          | 0/30 [00:00<?, ?it/s]"
          ]
        },
        {
          "output_type": "stream",
          "name": "stdout",
          "text": [
            "loss 0.1376 - iou 0.7157 - val_loss 0.2912 - val_iou 0.2277\n",
            "Epoch [104/300]\n"
          ]
        },
        {
          "output_type": "stream",
          "name": "stderr",
          "text": [
            "100%|██████████| 30/30 [00:39<00:00,  1.31s/it, loss=0.137, iou=0.702]\n",
            "100%|██████████| 8/8 [00:04<00:00,  1.92it/s, loss=0.254, iou=0.116]\n",
            "  0%|          | 0/30 [00:00<?, ?it/s]"
          ]
        },
        {
          "output_type": "stream",
          "name": "stdout",
          "text": [
            "loss 0.1369 - iou 0.7016 - val_loss 0.2538 - val_iou 0.1156\n",
            "Epoch [105/300]\n"
          ]
        },
        {
          "output_type": "stream",
          "name": "stderr",
          "text": [
            "100%|██████████| 30/30 [00:39<00:00,  1.32s/it, loss=0.138, iou=0.695]\n",
            "100%|██████████| 8/8 [00:04<00:00,  1.94it/s, loss=0.322, iou=0.218]\n",
            "  0%|          | 0/30 [00:00<?, ?it/s]"
          ]
        },
        {
          "output_type": "stream",
          "name": "stdout",
          "text": [
            "loss 0.1385 - iou 0.6948 - val_loss 0.3220 - val_iou 0.2177\n",
            "Epoch [106/300]\n"
          ]
        },
        {
          "output_type": "stream",
          "name": "stderr",
          "text": [
            "100%|██████████| 30/30 [00:39<00:00,  1.32s/it, loss=0.134, iou=0.718]\n",
            "100%|██████████| 8/8 [00:04<00:00,  1.89it/s, loss=0.236, iou=0.392]\n",
            "  0%|          | 0/30 [00:00<?, ?it/s]"
          ]
        },
        {
          "output_type": "stream",
          "name": "stdout",
          "text": [
            "loss 0.1337 - iou 0.7180 - val_loss 0.2362 - val_iou 0.3917\n",
            "Epoch [107/300]\n"
          ]
        },
        {
          "output_type": "stream",
          "name": "stderr",
          "text": [
            "100%|██████████| 30/30 [00:39<00:00,  1.31s/it, loss=0.139, iou=0.69]\n",
            "100%|██████████| 8/8 [00:04<00:00,  1.78it/s, loss=0.168, iou=0.565]\n"
          ]
        },
        {
          "output_type": "stream",
          "name": "stdout",
          "text": [
            "loss 0.1387 - iou 0.6897 - val_loss 0.1681 - val_iou 0.5646\n"
          ]
        },
        {
          "output_type": "stream",
          "name": "stderr",
          "text": [
            "\r  0%|          | 0/30 [00:00<?, ?it/s]"
          ]
        },
        {
          "output_type": "stream",
          "name": "stdout",
          "text": [
            "=> saved best model\n",
            "Epoch [108/300]\n"
          ]
        },
        {
          "output_type": "stream",
          "name": "stderr",
          "text": [
            "100%|██████████| 30/30 [00:39<00:00,  1.31s/it, loss=0.135, iou=0.716]\n",
            "100%|██████████| 8/8 [00:04<00:00,  1.82it/s, loss=0.246, iou=0.201]\n",
            "  0%|          | 0/30 [00:00<?, ?it/s]"
          ]
        },
        {
          "output_type": "stream",
          "name": "stdout",
          "text": [
            "loss 0.1350 - iou 0.7162 - val_loss 0.2460 - val_iou 0.2007\n",
            "Epoch [109/300]\n"
          ]
        },
        {
          "output_type": "stream",
          "name": "stderr",
          "text": [
            "100%|██████████| 30/30 [00:39<00:00,  1.32s/it, loss=0.137, iou=0.708]\n",
            "100%|██████████| 8/8 [00:04<00:00,  1.93it/s, loss=0.288, iou=0.000115]\n",
            "  0%|          | 0/30 [00:00<?, ?it/s]"
          ]
        },
        {
          "output_type": "stream",
          "name": "stdout",
          "text": [
            "loss 0.1369 - iou 0.7076 - val_loss 0.2882 - val_iou 0.0001\n",
            "Epoch [110/300]\n"
          ]
        },
        {
          "output_type": "stream",
          "name": "stderr",
          "text": [
            "100%|██████████| 30/30 [00:39<00:00,  1.31s/it, loss=0.141, iou=0.701]\n",
            "100%|██████████| 8/8 [00:04<00:00,  1.90it/s, loss=0.212, iou=0.587]\n",
            "  0%|          | 0/30 [00:00<?, ?it/s]"
          ]
        },
        {
          "output_type": "stream",
          "name": "stdout",
          "text": [
            "loss 0.1414 - iou 0.7006 - val_loss 0.2115 - val_iou 0.5869\n",
            "=> saved best model\n",
            "Epoch [111/300]\n"
          ]
        },
        {
          "output_type": "stream",
          "name": "stderr",
          "text": [
            "100%|██████████| 30/30 [00:39<00:00,  1.32s/it, loss=0.136, iou=0.723]\n",
            "100%|██████████| 8/8 [00:04<00:00,  1.90it/s, loss=0.271, iou=0.167]\n",
            "  0%|          | 0/30 [00:00<?, ?it/s]"
          ]
        },
        {
          "output_type": "stream",
          "name": "stdout",
          "text": [
            "loss 0.1356 - iou 0.7230 - val_loss 0.2706 - val_iou 0.1667\n",
            "Epoch [112/300]\n"
          ]
        },
        {
          "output_type": "stream",
          "name": "stderr",
          "text": [
            "100%|██████████| 30/30 [00:39<00:00,  1.31s/it, loss=0.131, iou=0.74]\n",
            "100%|██████████| 8/8 [00:04<00:00,  1.80it/s, loss=0.263, iou=0.152]\n",
            "  0%|          | 0/30 [00:00<?, ?it/s]"
          ]
        },
        {
          "output_type": "stream",
          "name": "stdout",
          "text": [
            "loss 0.1314 - iou 0.7400 - val_loss 0.2630 - val_iou 0.1524\n",
            "Epoch [113/300]\n"
          ]
        },
        {
          "output_type": "stream",
          "name": "stderr",
          "text": [
            "100%|██████████| 30/30 [00:39<00:00,  1.32s/it, loss=0.128, iou=0.733]\n",
            "100%|██████████| 8/8 [00:04<00:00,  1.81it/s, loss=0.391, iou=0.13]\n",
            "  0%|          | 0/30 [00:00<?, ?it/s]"
          ]
        },
        {
          "output_type": "stream",
          "name": "stdout",
          "text": [
            "loss 0.1281 - iou 0.7329 - val_loss 0.3906 - val_iou 0.1301\n",
            "Epoch [114/300]\n"
          ]
        },
        {
          "output_type": "stream",
          "name": "stderr",
          "text": [
            "100%|██████████| 30/30 [00:39<00:00,  1.32s/it, loss=0.136, iou=0.714]\n",
            "100%|██████████| 8/8 [00:04<00:00,  1.92it/s, loss=0.329, iou=0.00011]\n",
            "  0%|          | 0/30 [00:00<?, ?it/s]"
          ]
        },
        {
          "output_type": "stream",
          "name": "stdout",
          "text": [
            "loss 0.1359 - iou 0.7140 - val_loss 0.3290 - val_iou 0.0001\n",
            "Epoch [115/300]\n"
          ]
        },
        {
          "output_type": "stream",
          "name": "stderr",
          "text": [
            "100%|██████████| 30/30 [00:39<00:00,  1.32s/it, loss=0.128, iou=0.75]\n",
            "100%|██████████| 8/8 [00:04<00:00,  1.93it/s, loss=0.238, iou=0.22]\n",
            "  0%|          | 0/30 [00:00<?, ?it/s]"
          ]
        },
        {
          "output_type": "stream",
          "name": "stdout",
          "text": [
            "loss 0.1279 - iou 0.7500 - val_loss 0.2382 - val_iou 0.2198\n",
            "Epoch [116/300]\n"
          ]
        },
        {
          "output_type": "stream",
          "name": "stderr",
          "text": [
            "100%|██████████| 30/30 [00:39<00:00,  1.31s/it, loss=0.14, iou=0.701]\n",
            "100%|██████████| 8/8 [00:04<00:00,  1.93it/s, loss=0.23, iou=0.175]\n",
            "  0%|          | 0/30 [00:00<?, ?it/s]"
          ]
        },
        {
          "output_type": "stream",
          "name": "stdout",
          "text": [
            "loss 0.1398 - iou 0.7012 - val_loss 0.2295 - val_iou 0.1746\n",
            "Epoch [117/300]\n"
          ]
        },
        {
          "output_type": "stream",
          "name": "stderr",
          "text": [
            "100%|██████████| 30/30 [00:39<00:00,  1.31s/it, loss=0.135, iou=0.719]\n",
            "100%|██████████| 8/8 [00:04<00:00,  1.82it/s, loss=0.178, iou=0.558]\n",
            "  0%|          | 0/30 [00:00<?, ?it/s]"
          ]
        },
        {
          "output_type": "stream",
          "name": "stdout",
          "text": [
            "loss 0.1345 - iou 0.7189 - val_loss 0.1781 - val_iou 0.5578\n",
            "Epoch [118/300]\n"
          ]
        },
        {
          "output_type": "stream",
          "name": "stderr",
          "text": [
            "100%|██████████| 30/30 [00:39<00:00,  1.31s/it, loss=0.129, iou=0.736]\n",
            "100%|██████████| 8/8 [00:04<00:00,  1.83it/s, loss=0.306, iou=0.0592]\n",
            "  0%|          | 0/30 [00:00<?, ?it/s]"
          ]
        },
        {
          "output_type": "stream",
          "name": "stdout",
          "text": [
            "loss 0.1292 - iou 0.7363 - val_loss 0.3056 - val_iou 0.0592\n",
            "Epoch [119/300]\n"
          ]
        },
        {
          "output_type": "stream",
          "name": "stderr",
          "text": [
            "100%|██████████| 30/30 [00:39<00:00,  1.31s/it, loss=0.135, iou=0.715]\n",
            "100%|██████████| 8/8 [00:04<00:00,  1.93it/s, loss=0.413, iou=0.00415]\n",
            "  0%|          | 0/30 [00:00<?, ?it/s]"
          ]
        },
        {
          "output_type": "stream",
          "name": "stdout",
          "text": [
            "loss 0.1348 - iou 0.7147 - val_loss 0.4126 - val_iou 0.0041\n",
            "Epoch [120/300]\n"
          ]
        },
        {
          "output_type": "stream",
          "name": "stderr",
          "text": [
            "100%|██████████| 30/30 [00:39<00:00,  1.32s/it, loss=0.133, iou=0.731]\n",
            "100%|██████████| 8/8 [00:04<00:00,  1.89it/s, loss=0.301, iou=0.0381]\n",
            "  0%|          | 0/30 [00:00<?, ?it/s]"
          ]
        },
        {
          "output_type": "stream",
          "name": "stdout",
          "text": [
            "loss 0.1327 - iou 0.7314 - val_loss 0.3013 - val_iou 0.0381\n",
            "Epoch [121/300]\n"
          ]
        },
        {
          "output_type": "stream",
          "name": "stderr",
          "text": [
            "100%|██████████| 30/30 [00:39<00:00,  1.32s/it, loss=0.126, iou=0.754]\n",
            "100%|██████████| 8/8 [00:04<00:00,  1.91it/s, loss=0.228, iou=0.182]\n",
            "  0%|          | 0/30 [00:00<?, ?it/s]"
          ]
        },
        {
          "output_type": "stream",
          "name": "stdout",
          "text": [
            "loss 0.1255 - iou 0.7541 - val_loss 0.2280 - val_iou 0.1823\n",
            "Epoch [122/300]\n"
          ]
        },
        {
          "output_type": "stream",
          "name": "stderr",
          "text": [
            "100%|██████████| 30/30 [00:39<00:00,  1.31s/it, loss=0.128, iou=0.748]\n",
            "100%|██████████| 8/8 [00:04<00:00,  1.83it/s, loss=0.333, iou=0.0544]\n",
            "  0%|          | 0/30 [00:00<?, ?it/s]"
          ]
        },
        {
          "output_type": "stream",
          "name": "stdout",
          "text": [
            "loss 0.1277 - iou 0.7481 - val_loss 0.3327 - val_iou 0.0544\n",
            "Epoch [123/300]\n"
          ]
        },
        {
          "output_type": "stream",
          "name": "stderr",
          "text": [
            "100%|██████████| 30/30 [00:39<00:00,  1.31s/it, loss=0.13, iou=0.737]\n",
            "100%|██████████| 8/8 [00:04<00:00,  1.81it/s, loss=0.305, iou=1.13e-10]\n",
            "  0%|          | 0/30 [00:00<?, ?it/s]"
          ]
        },
        {
          "output_type": "stream",
          "name": "stdout",
          "text": [
            "loss 0.1300 - iou 0.7375 - val_loss 0.3053 - val_iou 0.0000\n",
            "Epoch [124/300]\n"
          ]
        },
        {
          "output_type": "stream",
          "name": "stderr",
          "text": [
            "100%|██████████| 30/30 [00:39<00:00,  1.31s/it, loss=0.131, iou=0.741]\n",
            "100%|██████████| 8/8 [00:04<00:00,  1.87it/s, loss=0.438, iou=1.13e-10]\n",
            "  0%|          | 0/30 [00:00<?, ?it/s]"
          ]
        },
        {
          "output_type": "stream",
          "name": "stdout",
          "text": [
            "loss 0.1315 - iou 0.7413 - val_loss 0.4381 - val_iou 0.0000\n",
            "Epoch [125/300]\n"
          ]
        },
        {
          "output_type": "stream",
          "name": "stderr",
          "text": [
            "100%|██████████| 30/30 [00:39<00:00,  1.31s/it, loss=0.126, iou=0.748]\n",
            "100%|██████████| 8/8 [00:04<00:00,  1.91it/s, loss=0.297, iou=0.0426]\n",
            "  0%|          | 0/30 [00:00<?, ?it/s]"
          ]
        },
        {
          "output_type": "stream",
          "name": "stdout",
          "text": [
            "loss 0.1264 - iou 0.7480 - val_loss 0.2973 - val_iou 0.0426\n",
            "Epoch [126/300]\n"
          ]
        },
        {
          "output_type": "stream",
          "name": "stderr",
          "text": [
            "100%|██████████| 30/30 [00:39<00:00,  1.31s/it, loss=0.132, iou=0.738]\n",
            "100%|██████████| 8/8 [00:04<00:00,  1.91it/s, loss=0.205, iou=0.363]\n",
            "  0%|          | 0/30 [00:00<?, ?it/s]"
          ]
        },
        {
          "output_type": "stream",
          "name": "stdout",
          "text": [
            "loss 0.1316 - iou 0.7384 - val_loss 0.2050 - val_iou 0.3626\n",
            "Epoch [127/300]\n"
          ]
        },
        {
          "output_type": "stream",
          "name": "stderr",
          "text": [
            "100%|██████████| 30/30 [00:39<00:00,  1.32s/it, loss=0.129, iou=0.738]\n",
            "100%|██████████| 8/8 [00:04<00:00,  1.89it/s, loss=0.25, iou=0.368]\n",
            "  0%|          | 0/30 [00:00<?, ?it/s]"
          ]
        },
        {
          "output_type": "stream",
          "name": "stdout",
          "text": [
            "loss 0.1291 - iou 0.7377 - val_loss 0.2499 - val_iou 0.3676\n",
            "Epoch [128/300]\n"
          ]
        },
        {
          "output_type": "stream",
          "name": "stderr",
          "text": [
            "100%|██████████| 30/30 [00:39<00:00,  1.31s/it, loss=0.126, iou=0.762]\n",
            "100%|██████████| 8/8 [00:04<00:00,  1.86it/s, loss=0.379, iou=1.13e-10]\n",
            "  0%|          | 0/30 [00:00<?, ?it/s]"
          ]
        },
        {
          "output_type": "stream",
          "name": "stdout",
          "text": [
            "loss 0.1256 - iou 0.7620 - val_loss 0.3793 - val_iou 0.0000\n",
            "Epoch [129/300]\n"
          ]
        },
        {
          "output_type": "stream",
          "name": "stderr",
          "text": [
            "100%|██████████| 30/30 [00:39<00:00,  1.31s/it, loss=0.131, iou=0.735]\n",
            "100%|██████████| 8/8 [00:04<00:00,  1.78it/s, loss=0.208, iou=0.415]\n",
            "  0%|          | 0/30 [00:00<?, ?it/s]"
          ]
        },
        {
          "output_type": "stream",
          "name": "stdout",
          "text": [
            "loss 0.1311 - iou 0.7351 - val_loss 0.2079 - val_iou 0.4150\n",
            "Epoch [130/300]\n"
          ]
        },
        {
          "output_type": "stream",
          "name": "stderr",
          "text": [
            "100%|██████████| 30/30 [00:39<00:00,  1.31s/it, loss=0.128, iou=0.743]\n",
            "100%|██████████| 8/8 [00:04<00:00,  1.85it/s, loss=0.335, iou=1.13e-10]\n",
            "  0%|          | 0/30 [00:00<?, ?it/s]"
          ]
        },
        {
          "output_type": "stream",
          "name": "stdout",
          "text": [
            "loss 0.1279 - iou 0.7429 - val_loss 0.3347 - val_iou 0.0000\n",
            "Epoch [131/300]\n"
          ]
        },
        {
          "output_type": "stream",
          "name": "stderr",
          "text": [
            "100%|██████████| 30/30 [00:39<00:00,  1.31s/it, loss=0.123, iou=0.773]\n",
            "100%|██████████| 8/8 [00:04<00:00,  1.93it/s, loss=0.174, iou=0.518]\n",
            "  0%|          | 0/30 [00:00<?, ?it/s]"
          ]
        },
        {
          "output_type": "stream",
          "name": "stdout",
          "text": [
            "loss 0.1234 - iou 0.7734 - val_loss 0.1743 - val_iou 0.5182\n",
            "Epoch [132/300]\n"
          ]
        },
        {
          "output_type": "stream",
          "name": "stderr",
          "text": [
            "100%|██████████| 30/30 [00:39<00:00,  1.32s/it, loss=0.123, iou=0.764]\n",
            "100%|██████████| 8/8 [00:04<00:00,  1.89it/s, loss=0.298, iou=0.0191]\n",
            "  0%|          | 0/30 [00:00<?, ?it/s]"
          ]
        },
        {
          "output_type": "stream",
          "name": "stdout",
          "text": [
            "loss 0.1231 - iou 0.7644 - val_loss 0.2980 - val_iou 0.0191\n",
            "Epoch [133/300]\n"
          ]
        },
        {
          "output_type": "stream",
          "name": "stderr",
          "text": [
            "100%|██████████| 30/30 [00:39<00:00,  1.32s/it, loss=0.127, iou=0.759]\n",
            "100%|██████████| 8/8 [00:04<00:00,  1.90it/s, loss=0.281, iou=0.0557]\n",
            "  0%|          | 0/30 [00:00<?, ?it/s]"
          ]
        },
        {
          "output_type": "stream",
          "name": "stdout",
          "text": [
            "loss 0.1267 - iou 0.7594 - val_loss 0.2812 - val_iou 0.0557\n",
            "Epoch [134/300]\n"
          ]
        },
        {
          "output_type": "stream",
          "name": "stderr",
          "text": [
            "100%|██████████| 30/30 [00:39<00:00,  1.31s/it, loss=0.128, iou=0.742]\n",
            "100%|██████████| 8/8 [00:04<00:00,  1.80it/s, loss=0.258, iou=0.318]\n",
            "  0%|          | 0/30 [00:00<?, ?it/s]"
          ]
        },
        {
          "output_type": "stream",
          "name": "stdout",
          "text": [
            "loss 0.1285 - iou 0.7423 - val_loss 0.2576 - val_iou 0.3183\n",
            "Epoch [135/300]\n"
          ]
        },
        {
          "output_type": "stream",
          "name": "stderr",
          "text": [
            "100%|██████████| 30/30 [00:39<00:00,  1.32s/it, loss=0.125, iou=0.763]\n",
            "100%|██████████| 8/8 [00:04<00:00,  1.83it/s, loss=0.302, iou=0.104]\n",
            "  0%|          | 0/30 [00:00<?, ?it/s]"
          ]
        },
        {
          "output_type": "stream",
          "name": "stdout",
          "text": [
            "loss 0.1249 - iou 0.7628 - val_loss 0.3021 - val_iou 0.1039\n",
            "Epoch [136/300]\n"
          ]
        },
        {
          "output_type": "stream",
          "name": "stderr",
          "text": [
            "100%|██████████| 30/30 [00:39<00:00,  1.32s/it, loss=0.122, iou=0.767]\n",
            "100%|██████████| 8/8 [00:04<00:00,  1.89it/s, loss=0.16, iou=0.59]\n",
            "  0%|          | 0/30 [00:00<?, ?it/s]"
          ]
        },
        {
          "output_type": "stream",
          "name": "stdout",
          "text": [
            "loss 0.1222 - iou 0.7669 - val_loss 0.1602 - val_iou 0.5897\n",
            "=> saved best model\n",
            "Epoch [137/300]\n"
          ]
        },
        {
          "output_type": "stream",
          "name": "stderr",
          "text": [
            "100%|██████████| 30/30 [00:39<00:00,  1.32s/it, loss=0.129, iou=0.75]\n",
            "100%|██████████| 8/8 [00:04<00:00,  1.92it/s, loss=0.218, iou=0.368]\n",
            "  0%|          | 0/30 [00:00<?, ?it/s]"
          ]
        },
        {
          "output_type": "stream",
          "name": "stdout",
          "text": [
            "loss 0.1294 - iou 0.7496 - val_loss 0.2182 - val_iou 0.3676\n",
            "Epoch [138/300]\n"
          ]
        },
        {
          "output_type": "stream",
          "name": "stderr",
          "text": [
            "100%|██████████| 30/30 [00:39<00:00,  1.32s/it, loss=0.123, iou=0.778]\n",
            "100%|██████████| 8/8 [00:04<00:00,  1.90it/s, loss=0.233, iou=0.385]\n",
            "  0%|          | 0/30 [00:00<?, ?it/s]"
          ]
        },
        {
          "output_type": "stream",
          "name": "stdout",
          "text": [
            "loss 0.1231 - iou 0.7777 - val_loss 0.2334 - val_iou 0.3846\n",
            "Epoch [139/300]\n"
          ]
        },
        {
          "output_type": "stream",
          "name": "stderr",
          "text": [
            "100%|██████████| 30/30 [00:39<00:00,  1.32s/it, loss=0.116, iou=0.792]\n",
            "100%|██████████| 8/8 [00:04<00:00,  1.88it/s, loss=0.35, iou=1.13e-10]\n",
            "  0%|          | 0/30 [00:00<?, ?it/s]"
          ]
        },
        {
          "output_type": "stream",
          "name": "stdout",
          "text": [
            "loss 0.1162 - iou 0.7917 - val_loss 0.3498 - val_iou 0.0000\n",
            "Epoch [140/300]\n"
          ]
        },
        {
          "output_type": "stream",
          "name": "stderr",
          "text": [
            "100%|██████████| 30/30 [00:39<00:00,  1.32s/it, loss=0.121, iou=0.776]\n",
            "100%|██████████| 8/8 [00:04<00:00,  1.81it/s, loss=0.285, iou=0.132]\n",
            "  0%|          | 0/30 [00:00<?, ?it/s]"
          ]
        },
        {
          "output_type": "stream",
          "name": "stdout",
          "text": [
            "loss 0.1213 - iou 0.7764 - val_loss 0.2852 - val_iou 0.1315\n",
            "Epoch [141/300]\n"
          ]
        },
        {
          "output_type": "stream",
          "name": "stderr",
          "text": [
            "100%|██████████| 30/30 [00:39<00:00,  1.31s/it, loss=0.124, iou=0.765]\n",
            "100%|██████████| 8/8 [00:04<00:00,  1.82it/s, loss=0.22, iou=0.46]\n",
            "  0%|          | 0/30 [00:00<?, ?it/s]"
          ]
        },
        {
          "output_type": "stream",
          "name": "stdout",
          "text": [
            "loss 0.1239 - iou 0.7647 - val_loss 0.2205 - val_iou 0.4601\n",
            "Epoch [142/300]\n"
          ]
        },
        {
          "output_type": "stream",
          "name": "stderr",
          "text": [
            "100%|██████████| 30/30 [00:39<00:00,  1.32s/it, loss=0.121, iou=0.784]\n",
            "100%|██████████| 8/8 [00:04<00:00,  1.95it/s, loss=0.263, iou=0.319]\n",
            "  0%|          | 0/30 [00:00<?, ?it/s]"
          ]
        },
        {
          "output_type": "stream",
          "name": "stdout",
          "text": [
            "loss 0.1211 - iou 0.7837 - val_loss 0.2625 - val_iou 0.3187\n",
            "Epoch [143/300]\n"
          ]
        },
        {
          "output_type": "stream",
          "name": "stderr",
          "text": [
            "100%|██████████| 30/30 [00:39<00:00,  1.32s/it, loss=0.121, iou=0.78]\n",
            "100%|██████████| 8/8 [00:04<00:00,  1.89it/s, loss=0.277, iou=0.0411]\n",
            "  0%|          | 0/30 [00:00<?, ?it/s]"
          ]
        },
        {
          "output_type": "stream",
          "name": "stdout",
          "text": [
            "loss 0.1215 - iou 0.7797 - val_loss 0.2767 - val_iou 0.0411\n",
            "Epoch [144/300]\n"
          ]
        },
        {
          "output_type": "stream",
          "name": "stderr",
          "text": [
            "100%|██████████| 30/30 [00:39<00:00,  1.31s/it, loss=0.122, iou=0.759]\n",
            "100%|██████████| 8/8 [00:04<00:00,  1.91it/s, loss=0.322, iou=0.0358]\n",
            "  0%|          | 0/30 [00:00<?, ?it/s]"
          ]
        },
        {
          "output_type": "stream",
          "name": "stdout",
          "text": [
            "loss 0.1219 - iou 0.7594 - val_loss 0.3218 - val_iou 0.0358\n",
            "Epoch [145/300]\n"
          ]
        },
        {
          "output_type": "stream",
          "name": "stderr",
          "text": [
            "100%|██████████| 30/30 [00:39<00:00,  1.32s/it, loss=0.12, iou=0.778]\n",
            "100%|██████████| 8/8 [00:04<00:00,  1.91it/s, loss=0.51, iou=0.357]\n",
            "  0%|          | 0/30 [00:00<?, ?it/s]"
          ]
        },
        {
          "output_type": "stream",
          "name": "stdout",
          "text": [
            "loss 0.1203 - iou 0.7784 - val_loss 0.5103 - val_iou 0.3574\n",
            "Epoch [146/300]\n"
          ]
        },
        {
          "output_type": "stream",
          "name": "stderr",
          "text": [
            "100%|██████████| 30/30 [00:39<00:00,  1.31s/it, loss=0.12, iou=0.782]\n",
            "100%|██████████| 8/8 [00:04<00:00,  1.82it/s, loss=0.327, iou=0.000215]\n",
            "  0%|          | 0/30 [00:00<?, ?it/s]"
          ]
        },
        {
          "output_type": "stream",
          "name": "stdout",
          "text": [
            "loss 0.1200 - iou 0.7818 - val_loss 0.3267 - val_iou 0.0002\n",
            "Epoch [147/300]\n"
          ]
        },
        {
          "output_type": "stream",
          "name": "stderr",
          "text": [
            "100%|██████████| 30/30 [00:39<00:00,  1.31s/it, loss=0.125, iou=0.742]\n",
            "100%|██████████| 8/8 [00:04<00:00,  1.78it/s, loss=0.364, iou=0.205]\n",
            "  0%|          | 0/30 [00:00<?, ?it/s]"
          ]
        },
        {
          "output_type": "stream",
          "name": "stdout",
          "text": [
            "loss 0.1254 - iou 0.7420 - val_loss 0.3642 - val_iou 0.2053\n",
            "Epoch [148/300]\n"
          ]
        },
        {
          "output_type": "stream",
          "name": "stderr",
          "text": [
            "100%|██████████| 30/30 [00:39<00:00,  1.31s/it, loss=0.118, iou=0.777]\n",
            "100%|██████████| 8/8 [00:04<00:00,  1.90it/s, loss=0.238, iou=0.295]\n",
            "  0%|          | 0/30 [00:00<?, ?it/s]"
          ]
        },
        {
          "output_type": "stream",
          "name": "stdout",
          "text": [
            "loss 0.1184 - iou 0.7767 - val_loss 0.2381 - val_iou 0.2954\n",
            "Epoch [149/300]\n"
          ]
        },
        {
          "output_type": "stream",
          "name": "stderr",
          "text": [
            "100%|██████████| 30/30 [00:39<00:00,  1.32s/it, loss=0.123, iou=0.772]\n",
            "100%|██████████| 8/8 [00:04<00:00,  1.91it/s, loss=0.168, iou=0.558]\n",
            "  0%|          | 0/30 [00:00<?, ?it/s]"
          ]
        },
        {
          "output_type": "stream",
          "name": "stdout",
          "text": [
            "loss 0.1228 - iou 0.7715 - val_loss 0.1681 - val_iou 0.5579\n",
            "Epoch [150/300]\n"
          ]
        },
        {
          "output_type": "stream",
          "name": "stderr",
          "text": [
            "100%|██████████| 30/30 [00:39<00:00,  1.31s/it, loss=0.119, iou=0.791]\n",
            "100%|██████████| 8/8 [00:04<00:00,  1.92it/s, loss=0.504, iou=0.313]\n",
            "  0%|          | 0/30 [00:00<?, ?it/s]"
          ]
        },
        {
          "output_type": "stream",
          "name": "stdout",
          "text": [
            "loss 0.1189 - iou 0.7911 - val_loss 0.5045 - val_iou 0.3133\n",
            "Epoch [151/300]\n"
          ]
        },
        {
          "output_type": "stream",
          "name": "stderr",
          "text": [
            "100%|██████████| 30/30 [00:39<00:00,  1.31s/it, loss=0.124, iou=0.754]\n",
            "100%|██████████| 8/8 [00:04<00:00,  1.90it/s, loss=0.462, iou=1.13e-10]\n",
            "  0%|          | 0/30 [00:00<?, ?it/s]"
          ]
        },
        {
          "output_type": "stream",
          "name": "stdout",
          "text": [
            "loss 0.1236 - iou 0.7539 - val_loss 0.4625 - val_iou 0.0000\n",
            "Epoch [152/300]\n"
          ]
        },
        {
          "output_type": "stream",
          "name": "stderr",
          "text": [
            "100%|██████████| 30/30 [00:39<00:00,  1.31s/it, loss=0.117, iou=0.796]\n",
            "100%|██████████| 8/8 [00:04<00:00,  1.83it/s, loss=0.211, iou=0.399]\n",
            "  0%|          | 0/30 [00:00<?, ?it/s]"
          ]
        },
        {
          "output_type": "stream",
          "name": "stdout",
          "text": [
            "loss 0.1168 - iou 0.7964 - val_loss 0.2111 - val_iou 0.3987\n",
            "Epoch [153/300]\n"
          ]
        },
        {
          "output_type": "stream",
          "name": "stderr",
          "text": [
            "100%|██████████| 30/30 [00:39<00:00,  1.31s/it, loss=0.125, iou=0.776]\n",
            "100%|██████████| 8/8 [00:04<00:00,  1.78it/s, loss=0.457, iou=0.138]\n",
            "  0%|          | 0/30 [00:00<?, ?it/s]"
          ]
        },
        {
          "output_type": "stream",
          "name": "stdout",
          "text": [
            "loss 0.1245 - iou 0.7762 - val_loss 0.4572 - val_iou 0.1380\n",
            "Epoch [154/300]\n"
          ]
        },
        {
          "output_type": "stream",
          "name": "stderr",
          "text": [
            "100%|██████████| 30/30 [00:39<00:00,  1.31s/it, loss=0.12, iou=0.785]\n",
            "100%|██████████| 8/8 [00:04<00:00,  1.91it/s, loss=0.375, iou=0.352]\n",
            "  0%|          | 0/30 [00:00<?, ?it/s]"
          ]
        },
        {
          "output_type": "stream",
          "name": "stdout",
          "text": [
            "loss 0.1196 - iou 0.7845 - val_loss 0.3750 - val_iou 0.3524\n",
            "Epoch [155/300]\n"
          ]
        },
        {
          "output_type": "stream",
          "name": "stderr",
          "text": [
            "100%|██████████| 30/30 [00:39<00:00,  1.31s/it, loss=0.117, iou=0.794]\n",
            "100%|██████████| 8/8 [00:04<00:00,  1.90it/s, loss=0.39, iou=1.13e-10]\n",
            "  0%|          | 0/30 [00:00<?, ?it/s]"
          ]
        },
        {
          "output_type": "stream",
          "name": "stdout",
          "text": [
            "loss 0.1175 - iou 0.7938 - val_loss 0.3897 - val_iou 0.0000\n",
            "Epoch [156/300]\n"
          ]
        },
        {
          "output_type": "stream",
          "name": "stderr",
          "text": [
            "100%|██████████| 30/30 [00:39<00:00,  1.32s/it, loss=0.118, iou=0.777]\n",
            "100%|██████████| 8/8 [00:04<00:00,  1.93it/s, loss=0.329, iou=0.00146]\n",
            "  0%|          | 0/30 [00:00<?, ?it/s]"
          ]
        },
        {
          "output_type": "stream",
          "name": "stdout",
          "text": [
            "loss 0.1180 - iou 0.7773 - val_loss 0.3293 - val_iou 0.0015\n",
            "Epoch [157/300]\n"
          ]
        },
        {
          "output_type": "stream",
          "name": "stderr",
          "text": [
            "100%|██████████| 30/30 [00:39<00:00,  1.32s/it, loss=0.123, iou=0.768]\n",
            "100%|██████████| 8/8 [00:04<00:00,  1.88it/s, loss=0.39, iou=0.0148]\n",
            "  0%|          | 0/30 [00:00<?, ?it/s]"
          ]
        },
        {
          "output_type": "stream",
          "name": "stdout",
          "text": [
            "loss 0.1226 - iou 0.7678 - val_loss 0.3902 - val_iou 0.0148\n",
            "Epoch [158/300]\n"
          ]
        },
        {
          "output_type": "stream",
          "name": "stderr",
          "text": [
            "100%|██████████| 30/30 [00:39<00:00,  1.32s/it, loss=0.116, iou=0.789]\n",
            "100%|██████████| 8/8 [00:04<00:00,  1.76it/s, loss=0.242, iou=0.463]\n",
            "  0%|          | 0/30 [00:00<?, ?it/s]"
          ]
        },
        {
          "output_type": "stream",
          "name": "stdout",
          "text": [
            "loss 0.1155 - iou 0.7891 - val_loss 0.2421 - val_iou 0.4634\n",
            "Epoch [159/300]\n"
          ]
        },
        {
          "output_type": "stream",
          "name": "stderr",
          "text": [
            "100%|██████████| 30/30 [00:39<00:00,  1.31s/it, loss=0.118, iou=0.779]\n",
            "100%|██████████| 8/8 [00:04<00:00,  1.79it/s, loss=0.348, iou=0.0153]\n",
            "  0%|          | 0/30 [00:00<?, ?it/s]"
          ]
        },
        {
          "output_type": "stream",
          "name": "stdout",
          "text": [
            "loss 0.1180 - iou 0.7793 - val_loss 0.3482 - val_iou 0.0153\n",
            "Epoch [160/300]\n"
          ]
        },
        {
          "output_type": "stream",
          "name": "stderr",
          "text": [
            "100%|██████████| 30/30 [00:39<00:00,  1.31s/it, loss=0.121, iou=0.782]\n",
            "100%|██████████| 8/8 [00:04<00:00,  1.89it/s, loss=0.275, iou=0.00286]\n",
            "  0%|          | 0/30 [00:00<?, ?it/s]"
          ]
        },
        {
          "output_type": "stream",
          "name": "stdout",
          "text": [
            "loss 0.1206 - iou 0.7817 - val_loss 0.2751 - val_iou 0.0029\n",
            "Epoch [161/300]\n"
          ]
        },
        {
          "output_type": "stream",
          "name": "stderr",
          "text": [
            "100%|██████████| 30/30 [00:39<00:00,  1.31s/it, loss=0.113, iou=0.814]\n",
            "100%|██████████| 8/8 [00:04<00:00,  1.93it/s, loss=0.159, iou=0.673]\n",
            "  0%|          | 0/30 [00:00<?, ?it/s]"
          ]
        },
        {
          "output_type": "stream",
          "name": "stdout",
          "text": [
            "loss 0.1133 - iou 0.8140 - val_loss 0.1592 - val_iou 0.6734\n",
            "=> saved best model\n",
            "Epoch [162/300]\n"
          ]
        },
        {
          "output_type": "stream",
          "name": "stderr",
          "text": [
            "100%|██████████| 30/30 [00:39<00:00,  1.31s/it, loss=0.112, iou=0.807]\n",
            "100%|██████████| 8/8 [00:04<00:00,  1.90it/s, loss=0.344, iou=0.127]\n",
            "  0%|          | 0/30 [00:00<?, ?it/s]"
          ]
        },
        {
          "output_type": "stream",
          "name": "stdout",
          "text": [
            "loss 0.1117 - iou 0.8066 - val_loss 0.3439 - val_iou 0.1273\n",
            "Epoch [163/300]\n"
          ]
        },
        {
          "output_type": "stream",
          "name": "stderr",
          "text": [
            "100%|██████████| 30/30 [00:39<00:00,  1.32s/it, loss=0.118, iou=0.783]\n",
            "100%|██████████| 8/8 [00:04<00:00,  1.88it/s, loss=0.3, iou=0.0377]\n",
            "  0%|          | 0/30 [00:00<?, ?it/s]"
          ]
        },
        {
          "output_type": "stream",
          "name": "stdout",
          "text": [
            "loss 0.1183 - iou 0.7825 - val_loss 0.2996 - val_iou 0.0377\n",
            "Epoch [164/300]\n"
          ]
        },
        {
          "output_type": "stream",
          "name": "stderr",
          "text": [
            "100%|██████████| 30/30 [00:39<00:00,  1.31s/it, loss=0.121, iou=0.772]\n",
            "100%|██████████| 8/8 [00:04<00:00,  1.78it/s, loss=0.252, iou=0.155]\n",
            "  0%|          | 0/30 [00:00<?, ?it/s]"
          ]
        },
        {
          "output_type": "stream",
          "name": "stdout",
          "text": [
            "loss 0.1210 - iou 0.7722 - val_loss 0.2525 - val_iou 0.1549\n",
            "Epoch [165/300]\n"
          ]
        },
        {
          "output_type": "stream",
          "name": "stderr",
          "text": [
            "100%|██████████| 30/30 [00:39<00:00,  1.31s/it, loss=0.121, iou=0.789]\n",
            "100%|██████████| 8/8 [00:04<00:00,  1.84it/s, loss=0.23, iou=0.303]\n",
            "  0%|          | 0/30 [00:00<?, ?it/s]"
          ]
        },
        {
          "output_type": "stream",
          "name": "stdout",
          "text": [
            "loss 0.1209 - iou 0.7895 - val_loss 0.2300 - val_iou 0.3033\n",
            "Epoch [166/300]\n"
          ]
        },
        {
          "output_type": "stream",
          "name": "stderr",
          "text": [
            "100%|██████████| 30/30 [00:39<00:00,  1.31s/it, loss=0.121, iou=0.781]\n",
            "100%|██████████| 8/8 [00:04<00:00,  1.94it/s, loss=0.313, iou=0.0196]\n",
            "  0%|          | 0/30 [00:00<?, ?it/s]"
          ]
        },
        {
          "output_type": "stream",
          "name": "stdout",
          "text": [
            "loss 0.1214 - iou 0.7812 - val_loss 0.3128 - val_iou 0.0196\n",
            "Epoch [167/300]\n"
          ]
        },
        {
          "output_type": "stream",
          "name": "stderr",
          "text": [
            "100%|██████████| 30/30 [00:39<00:00,  1.31s/it, loss=0.116, iou=0.798]\n",
            "100%|██████████| 8/8 [00:04<00:00,  1.92it/s, loss=0.241, iou=0.23]\n",
            "  0%|          | 0/30 [00:00<?, ?it/s]"
          ]
        },
        {
          "output_type": "stream",
          "name": "stdout",
          "text": [
            "loss 0.1160 - iou 0.7984 - val_loss 0.2407 - val_iou 0.2302\n",
            "Epoch [168/300]\n"
          ]
        },
        {
          "output_type": "stream",
          "name": "stderr",
          "text": [
            "100%|██████████| 30/30 [00:39<00:00,  1.31s/it, loss=0.117, iou=0.8]\n",
            "100%|██████████| 8/8 [00:04<00:00,  1.93it/s, loss=0.266, iou=0.23]\n",
            "  0%|          | 0/30 [00:00<?, ?it/s]"
          ]
        },
        {
          "output_type": "stream",
          "name": "stdout",
          "text": [
            "loss 0.1165 - iou 0.7998 - val_loss 0.2663 - val_iou 0.2301\n",
            "Epoch [169/300]\n"
          ]
        },
        {
          "output_type": "stream",
          "name": "stderr",
          "text": [
            "100%|██████████| 30/30 [00:39<00:00,  1.32s/it, loss=0.115, iou=0.797]\n",
            "100%|██████████| 8/8 [00:04<00:00,  1.88it/s, loss=0.305, iou=0.0132]\n",
            "  0%|          | 0/30 [00:00<?, ?it/s]"
          ]
        },
        {
          "output_type": "stream",
          "name": "stdout",
          "text": [
            "loss 0.1146 - iou 0.7970 - val_loss 0.3053 - val_iou 0.0132\n",
            "Epoch [170/300]\n"
          ]
        },
        {
          "output_type": "stream",
          "name": "stderr",
          "text": [
            "100%|██████████| 30/30 [00:39<00:00,  1.31s/it, loss=0.113, iou=0.802]\n",
            "100%|██████████| 8/8 [00:04<00:00,  1.78it/s, loss=0.435, iou=3.14e-5]\n",
            "  0%|          | 0/30 [00:00<?, ?it/s]"
          ]
        },
        {
          "output_type": "stream",
          "name": "stdout",
          "text": [
            "loss 0.1127 - iou 0.8017 - val_loss 0.4355 - val_iou 0.0000\n",
            "Epoch [171/300]\n"
          ]
        },
        {
          "output_type": "stream",
          "name": "stderr",
          "text": [
            "100%|██████████| 30/30 [00:39<00:00,  1.31s/it, loss=0.117, iou=0.794]\n",
            "100%|██████████| 8/8 [00:04<00:00,  1.83it/s, loss=0.689, iou=0.17]\n",
            "  0%|          | 0/30 [00:00<?, ?it/s]"
          ]
        },
        {
          "output_type": "stream",
          "name": "stdout",
          "text": [
            "loss 0.1168 - iou 0.7940 - val_loss 0.6891 - val_iou 0.1700\n",
            "Epoch [172/300]\n"
          ]
        },
        {
          "output_type": "stream",
          "name": "stderr",
          "text": [
            "100%|██████████| 30/30 [00:39<00:00,  1.31s/it, loss=0.117, iou=0.79]\n",
            "100%|██████████| 8/8 [00:04<00:00,  1.93it/s, loss=0.335, iou=0.0294]\n",
            "  0%|          | 0/30 [00:00<?, ?it/s]"
          ]
        },
        {
          "output_type": "stream",
          "name": "stdout",
          "text": [
            "loss 0.1169 - iou 0.7897 - val_loss 0.3352 - val_iou 0.0294\n",
            "Epoch [173/300]\n"
          ]
        },
        {
          "output_type": "stream",
          "name": "stderr",
          "text": [
            "100%|██████████| 30/30 [00:39<00:00,  1.31s/it, loss=0.118, iou=0.784]\n",
            "100%|██████████| 8/8 [00:04<00:00,  1.92it/s, loss=0.474, iou=0.228]\n",
            "  0%|          | 0/30 [00:00<?, ?it/s]"
          ]
        },
        {
          "output_type": "stream",
          "name": "stdout",
          "text": [
            "loss 0.1177 - iou 0.7840 - val_loss 0.4742 - val_iou 0.2277\n",
            "Epoch [174/300]\n"
          ]
        },
        {
          "output_type": "stream",
          "name": "stderr",
          "text": [
            "100%|██████████| 30/30 [00:39<00:00,  1.31s/it, loss=0.117, iou=0.803]\n",
            "100%|██████████| 8/8 [00:04<00:00,  1.94it/s, loss=0.25, iou=0.264]\n",
            "  0%|          | 0/30 [00:00<?, ?it/s]"
          ]
        },
        {
          "output_type": "stream",
          "name": "stdout",
          "text": [
            "loss 0.1165 - iou 0.8026 - val_loss 0.2503 - val_iou 0.2643\n",
            "Epoch [175/300]\n"
          ]
        },
        {
          "output_type": "stream",
          "name": "stderr",
          "text": [
            "100%|██████████| 30/30 [00:39<00:00,  1.31s/it, loss=0.113, iou=0.8]\n",
            "100%|██████████| 8/8 [00:04<00:00,  1.92it/s, loss=0.253, iou=0.24]\n",
            "  0%|          | 0/30 [00:00<?, ?it/s]"
          ]
        },
        {
          "output_type": "stream",
          "name": "stdout",
          "text": [
            "loss 0.1129 - iou 0.7996 - val_loss 0.2526 - val_iou 0.2399\n",
            "Epoch [176/300]\n"
          ]
        },
        {
          "output_type": "stream",
          "name": "stderr",
          "text": [
            "100%|██████████| 30/30 [00:39<00:00,  1.31s/it, loss=0.111, iou=0.821]\n",
            "100%|██████████| 8/8 [00:04<00:00,  1.81it/s, loss=0.312, iou=0.0898]\n",
            "  0%|          | 0/30 [00:00<?, ?it/s]"
          ]
        },
        {
          "output_type": "stream",
          "name": "stdout",
          "text": [
            "loss 0.1112 - iou 0.8213 - val_loss 0.3123 - val_iou 0.0898\n",
            "Epoch [177/300]\n"
          ]
        },
        {
          "output_type": "stream",
          "name": "stderr",
          "text": [
            "100%|██████████| 30/30 [00:39<00:00,  1.31s/it, loss=0.115, iou=0.805]\n",
            "100%|██████████| 8/8 [00:04<00:00,  1.82it/s, loss=0.335, iou=0.11]\n",
            "  0%|          | 0/30 [00:00<?, ?it/s]"
          ]
        },
        {
          "output_type": "stream",
          "name": "stdout",
          "text": [
            "loss 0.1152 - iou 0.8048 - val_loss 0.3351 - val_iou 0.1103\n",
            "Epoch [178/300]\n"
          ]
        },
        {
          "output_type": "stream",
          "name": "stderr",
          "text": [
            "100%|██████████| 30/30 [00:39<00:00,  1.31s/it, loss=0.115, iou=0.807]\n",
            "100%|██████████| 8/8 [00:04<00:00,  1.87it/s, loss=0.185, iou=0.484]\n",
            "  0%|          | 0/30 [00:00<?, ?it/s]"
          ]
        },
        {
          "output_type": "stream",
          "name": "stdout",
          "text": [
            "loss 0.1148 - iou 0.8069 - val_loss 0.1849 - val_iou 0.4838\n",
            "Epoch [179/300]\n"
          ]
        },
        {
          "output_type": "stream",
          "name": "stderr",
          "text": [
            "100%|██████████| 30/30 [00:39<00:00,  1.31s/it, loss=0.118, iou=0.79]\n",
            "100%|██████████| 8/8 [00:04<00:00,  1.89it/s, loss=0.962, iou=0.193]\n",
            "  0%|          | 0/30 [00:00<?, ?it/s]"
          ]
        },
        {
          "output_type": "stream",
          "name": "stdout",
          "text": [
            "loss 0.1177 - iou 0.7902 - val_loss 0.9620 - val_iou 0.1933\n",
            "Epoch [180/300]\n"
          ]
        },
        {
          "output_type": "stream",
          "name": "stderr",
          "text": [
            "100%|██████████| 30/30 [00:39<00:00,  1.31s/it, loss=0.119, iou=0.784]\n",
            "100%|██████████| 8/8 [00:04<00:00,  1.92it/s, loss=0.261, iou=0.094]\n",
            "  0%|          | 0/30 [00:00<?, ?it/s]"
          ]
        },
        {
          "output_type": "stream",
          "name": "stdout",
          "text": [
            "loss 0.1186 - iou 0.7836 - val_loss 0.2606 - val_iou 0.0940\n",
            "Epoch [181/300]\n"
          ]
        },
        {
          "output_type": "stream",
          "name": "stderr",
          "text": [
            "100%|██████████| 30/30 [00:39<00:00,  1.31s/it, loss=0.114, iou=0.806]\n",
            "100%|██████████| 8/8 [00:04<00:00,  1.95it/s, loss=0.342, iou=0.0234]\n",
            "  0%|          | 0/30 [00:00<?, ?it/s]"
          ]
        },
        {
          "output_type": "stream",
          "name": "stdout",
          "text": [
            "loss 0.1140 - iou 0.8062 - val_loss 0.3423 - val_iou 0.0234\n",
            "Epoch [182/300]\n"
          ]
        },
        {
          "output_type": "stream",
          "name": "stderr",
          "text": [
            "100%|██████████| 30/30 [00:39<00:00,  1.31s/it, loss=0.108, iou=0.828]\n",
            "100%|██████████| 8/8 [00:04<00:00,  1.85it/s, loss=0.322, iou=0.0756]\n",
            "  0%|          | 0/30 [00:00<?, ?it/s]"
          ]
        },
        {
          "output_type": "stream",
          "name": "stdout",
          "text": [
            "loss 0.1077 - iou 0.8279 - val_loss 0.3222 - val_iou 0.0756\n",
            "Epoch [183/300]\n"
          ]
        },
        {
          "output_type": "stream",
          "name": "stderr",
          "text": [
            "100%|██████████| 30/30 [00:39<00:00,  1.31s/it, loss=0.112, iou=0.809]\n",
            "100%|██████████| 8/8 [00:04<00:00,  1.78it/s, loss=0.339, iou=0.0232]\n",
            "  0%|          | 0/30 [00:00<?, ?it/s]"
          ]
        },
        {
          "output_type": "stream",
          "name": "stdout",
          "text": [
            "loss 0.1124 - iou 0.8089 - val_loss 0.3394 - val_iou 0.0232\n",
            "Epoch [184/300]\n"
          ]
        },
        {
          "output_type": "stream",
          "name": "stderr",
          "text": [
            "100%|██████████| 30/30 [00:39<00:00,  1.31s/it, loss=0.113, iou=0.809]\n",
            "100%|██████████| 8/8 [00:04<00:00,  1.83it/s, loss=0.327, iou=0.0126]\n",
            "  0%|          | 0/30 [00:00<?, ?it/s]"
          ]
        },
        {
          "output_type": "stream",
          "name": "stdout",
          "text": [
            "loss 0.1128 - iou 0.8092 - val_loss 0.3274 - val_iou 0.0126\n",
            "Epoch [185/300]\n"
          ]
        },
        {
          "output_type": "stream",
          "name": "stderr",
          "text": [
            "100%|██████████| 30/30 [00:39<00:00,  1.31s/it, loss=0.117, iou=0.786]\n",
            "100%|██████████| 8/8 [00:04<00:00,  1.93it/s, loss=0.288, iou=0.00168]\n",
            "  0%|          | 0/30 [00:00<?, ?it/s]"
          ]
        },
        {
          "output_type": "stream",
          "name": "stdout",
          "text": [
            "loss 0.1175 - iou 0.7863 - val_loss 0.2882 - val_iou 0.0017\n",
            "Epoch [186/300]\n"
          ]
        },
        {
          "output_type": "stream",
          "name": "stderr",
          "text": [
            "100%|██████████| 30/30 [00:39<00:00,  1.31s/it, loss=0.113, iou=0.801]\n",
            "100%|██████████| 8/8 [00:04<00:00,  1.93it/s, loss=0.279, iou=0.141]\n",
            "  0%|          | 0/30 [00:00<?, ?it/s]"
          ]
        },
        {
          "output_type": "stream",
          "name": "stdout",
          "text": [
            "loss 0.1134 - iou 0.8013 - val_loss 0.2791 - val_iou 0.1412\n",
            "Epoch [187/300]\n"
          ]
        },
        {
          "output_type": "stream",
          "name": "stderr",
          "text": [
            "100%|██████████| 30/30 [00:39<00:00,  1.31s/it, loss=0.115, iou=0.808]\n",
            "100%|██████████| 8/8 [00:04<00:00,  1.93it/s, loss=0.28, iou=0.0374]\n",
            "  0%|          | 0/30 [00:00<?, ?it/s]"
          ]
        },
        {
          "output_type": "stream",
          "name": "stdout",
          "text": [
            "loss 0.1151 - iou 0.8075 - val_loss 0.2796 - val_iou 0.0374\n",
            "Epoch [188/300]\n"
          ]
        },
        {
          "output_type": "stream",
          "name": "stderr",
          "text": [
            "100%|██████████| 30/30 [00:39<00:00,  1.31s/it, loss=0.113, iou=0.817]\n",
            "100%|██████████| 8/8 [00:04<00:00,  1.89it/s, loss=0.482, iou=1.13e-10]\n",
            "  0%|          | 0/30 [00:00<?, ?it/s]"
          ]
        },
        {
          "output_type": "stream",
          "name": "stdout",
          "text": [
            "loss 0.1126 - iou 0.8173 - val_loss 0.4823 - val_iou 0.0000\n",
            "Epoch [189/300]\n"
          ]
        },
        {
          "output_type": "stream",
          "name": "stderr",
          "text": [
            "100%|██████████| 30/30 [00:39<00:00,  1.31s/it, loss=0.115, iou=0.798]\n",
            "100%|██████████| 8/8 [00:04<00:00,  1.82it/s, loss=0.406, iou=1.13e-10]\n",
            "  0%|          | 0/30 [00:00<?, ?it/s]"
          ]
        },
        {
          "output_type": "stream",
          "name": "stdout",
          "text": [
            "loss 0.1152 - iou 0.7983 - val_loss 0.4055 - val_iou 0.0000\n",
            "Epoch [190/300]\n"
          ]
        },
        {
          "output_type": "stream",
          "name": "stderr",
          "text": [
            "100%|██████████| 30/30 [00:39<00:00,  1.31s/it, loss=0.115, iou=0.805]\n",
            "100%|██████████| 8/8 [00:04<00:00,  1.78it/s, loss=0.428, iou=1.13e-10]\n",
            "  0%|          | 0/30 [00:00<?, ?it/s]"
          ]
        },
        {
          "output_type": "stream",
          "name": "stdout",
          "text": [
            "loss 0.1151 - iou 0.8052 - val_loss 0.4276 - val_iou 0.0000\n",
            "Epoch [191/300]\n"
          ]
        },
        {
          "output_type": "stream",
          "name": "stderr",
          "text": [
            "100%|██████████| 30/30 [00:39<00:00,  1.31s/it, loss=0.115, iou=0.81]\n",
            "100%|██████████| 8/8 [00:04<00:00,  1.87it/s, loss=0.36, iou=0.00621]\n",
            "  0%|          | 0/30 [00:00<?, ?it/s]"
          ]
        },
        {
          "output_type": "stream",
          "name": "stdout",
          "text": [
            "loss 0.1149 - iou 0.8104 - val_loss 0.3602 - val_iou 0.0062\n",
            "Epoch [192/300]\n"
          ]
        },
        {
          "output_type": "stream",
          "name": "stderr",
          "text": [
            "100%|██████████| 30/30 [00:39<00:00,  1.32s/it, loss=0.111, iou=0.807]\n",
            "100%|██████████| 8/8 [00:04<00:00,  1.93it/s, loss=0.56, iou=0.0808]\n",
            "  0%|          | 0/30 [00:00<?, ?it/s]"
          ]
        },
        {
          "output_type": "stream",
          "name": "stdout",
          "text": [
            "loss 0.1108 - iou 0.8071 - val_loss 0.5597 - val_iou 0.0808\n",
            "Epoch [193/300]\n"
          ]
        },
        {
          "output_type": "stream",
          "name": "stderr",
          "text": [
            "100%|██████████| 30/30 [00:39<00:00,  1.31s/it, loss=0.11, iou=0.814]\n",
            "100%|██████████| 8/8 [00:04<00:00,  1.92it/s, loss=0.202, iou=0.44]\n",
            "  0%|          | 0/30 [00:00<?, ?it/s]"
          ]
        },
        {
          "output_type": "stream",
          "name": "stdout",
          "text": [
            "loss 0.1100 - iou 0.8137 - val_loss 0.2020 - val_iou 0.4397\n",
            "Epoch [194/300]\n"
          ]
        },
        {
          "output_type": "stream",
          "name": "stderr",
          "text": [
            "100%|██████████| 30/30 [00:39<00:00,  1.31s/it, loss=0.11, iou=0.826]\n",
            "100%|██████████| 8/8 [00:04<00:00,  1.94it/s, loss=0.184, iou=0.592]\n",
            "  0%|          | 0/30 [00:00<?, ?it/s]"
          ]
        },
        {
          "output_type": "stream",
          "name": "stdout",
          "text": [
            "loss 0.1097 - iou 0.8259 - val_loss 0.1841 - val_iou 0.5917\n",
            "Epoch [195/300]\n"
          ]
        },
        {
          "output_type": "stream",
          "name": "stderr",
          "text": [
            "100%|██████████| 30/30 [00:39<00:00,  1.31s/it, loss=0.111, iou=0.807]\n",
            "100%|██████████| 8/8 [00:04<00:00,  1.84it/s, loss=0.227, iou=0.418]\n",
            "  0%|          | 0/30 [00:00<?, ?it/s]"
          ]
        },
        {
          "output_type": "stream",
          "name": "stdout",
          "text": [
            "loss 0.1106 - iou 0.8066 - val_loss 0.2268 - val_iou 0.4180\n",
            "Epoch [196/300]\n"
          ]
        },
        {
          "output_type": "stream",
          "name": "stderr",
          "text": [
            "100%|██████████| 30/30 [00:39<00:00,  1.31s/it, loss=0.113, iou=0.799]\n",
            "100%|██████████| 8/8 [00:04<00:00,  1.78it/s, loss=0.35, iou=0.00969]\n",
            "  0%|          | 0/30 [00:00<?, ?it/s]"
          ]
        },
        {
          "output_type": "stream",
          "name": "stdout",
          "text": [
            "loss 0.1134 - iou 0.7989 - val_loss 0.3500 - val_iou 0.0097\n",
            "Epoch [197/300]\n"
          ]
        },
        {
          "output_type": "stream",
          "name": "stderr",
          "text": [
            "100%|██████████| 30/30 [00:39<00:00,  1.31s/it, loss=0.115, iou=0.802]\n",
            "100%|██████████| 8/8 [00:04<00:00,  1.90it/s, loss=0.216, iou=0.427]\n",
            "  0%|          | 0/30 [00:00<?, ?it/s]"
          ]
        },
        {
          "output_type": "stream",
          "name": "stdout",
          "text": [
            "loss 0.1153 - iou 0.8022 - val_loss 0.2163 - val_iou 0.4265\n",
            "Epoch [198/300]\n"
          ]
        },
        {
          "output_type": "stream",
          "name": "stderr",
          "text": [
            "100%|██████████| 30/30 [00:39<00:00,  1.31s/it, loss=0.111, iou=0.812]\n",
            "100%|██████████| 8/8 [00:04<00:00,  1.93it/s, loss=0.401, iou=1.13e-10]\n",
            "  0%|          | 0/30 [00:00<?, ?it/s]"
          ]
        },
        {
          "output_type": "stream",
          "name": "stdout",
          "text": [
            "loss 0.1110 - iou 0.8121 - val_loss 0.4015 - val_iou 0.0000\n",
            "Epoch [199/300]\n"
          ]
        },
        {
          "output_type": "stream",
          "name": "stderr",
          "text": [
            "100%|██████████| 30/30 [00:39<00:00,  1.31s/it, loss=0.115, iou=0.801]\n",
            "100%|██████████| 8/8 [00:04<00:00,  1.92it/s, loss=0.198, iou=0.426]\n",
            "  0%|          | 0/30 [00:00<?, ?it/s]"
          ]
        },
        {
          "output_type": "stream",
          "name": "stdout",
          "text": [
            "loss 0.1149 - iou 0.8011 - val_loss 0.1981 - val_iou 0.4262\n",
            "Epoch [200/300]\n"
          ]
        },
        {
          "output_type": "stream",
          "name": "stderr",
          "text": [
            "100%|██████████| 30/30 [00:39<00:00,  1.31s/it, loss=0.109, iou=0.825]\n",
            "100%|██████████| 8/8 [00:04<00:00,  1.92it/s, loss=0.355, iou=0.00326]\n",
            "  0%|          | 0/30 [00:00<?, ?it/s]"
          ]
        },
        {
          "output_type": "stream",
          "name": "stdout",
          "text": [
            "loss 0.1091 - iou 0.8252 - val_loss 0.3550 - val_iou 0.0033\n",
            "Epoch [201/300]\n"
          ]
        },
        {
          "output_type": "stream",
          "name": "stderr",
          "text": [
            "100%|██████████| 30/30 [00:39<00:00,  1.31s/it, loss=0.108, iou=0.823]\n",
            "100%|██████████| 8/8 [00:04<00:00,  1.84it/s, loss=0.191, iou=0.554]\n",
            "  0%|          | 0/30 [00:00<?, ?it/s]"
          ]
        },
        {
          "output_type": "stream",
          "name": "stdout",
          "text": [
            "loss 0.1080 - iou 0.8233 - val_loss 0.1913 - val_iou 0.5541\n",
            "Epoch [202/300]\n"
          ]
        },
        {
          "output_type": "stream",
          "name": "stderr",
          "text": [
            "100%|██████████| 30/30 [00:39<00:00,  1.31s/it, loss=0.109, iou=0.825]\n",
            "100%|██████████| 8/8 [00:04<00:00,  1.80it/s, loss=0.313, iou=0.102]\n",
            "  0%|          | 0/30 [00:00<?, ?it/s]"
          ]
        },
        {
          "output_type": "stream",
          "name": "stdout",
          "text": [
            "loss 0.1093 - iou 0.8249 - val_loss 0.3132 - val_iou 0.1016\n",
            "Epoch [203/300]\n"
          ]
        },
        {
          "output_type": "stream",
          "name": "stderr",
          "text": [
            "100%|██████████| 30/30 [00:38<00:00,  1.30s/it, loss=0.116, iou=0.801]\n",
            "100%|██████████| 8/8 [00:04<00:00,  1.88it/s, loss=0.4, iou=0.00142]\n",
            "  0%|          | 0/30 [00:00<?, ?it/s]"
          ]
        },
        {
          "output_type": "stream",
          "name": "stdout",
          "text": [
            "loss 0.1163 - iou 0.8011 - val_loss 0.4002 - val_iou 0.0014\n",
            "Epoch [204/300]\n"
          ]
        },
        {
          "output_type": "stream",
          "name": "stderr",
          "text": [
            "100%|██████████| 30/30 [00:39<00:00,  1.31s/it, loss=0.114, iou=0.812]\n",
            "100%|██████████| 8/8 [00:04<00:00,  1.93it/s, loss=0.278, iou=0.212]\n",
            "  0%|          | 0/30 [00:00<?, ?it/s]"
          ]
        },
        {
          "output_type": "stream",
          "name": "stdout",
          "text": [
            "loss 0.1142 - iou 0.8125 - val_loss 0.2778 - val_iou 0.2118\n",
            "Epoch [205/300]\n"
          ]
        },
        {
          "output_type": "stream",
          "name": "stderr",
          "text": [
            "100%|██████████| 30/30 [00:39<00:00,  1.31s/it, loss=0.117, iou=0.799]\n",
            "100%|██████████| 8/8 [00:04<00:00,  1.93it/s, loss=0.445, iou=0.0026]\n",
            "  0%|          | 0/30 [00:00<?, ?it/s]"
          ]
        },
        {
          "output_type": "stream",
          "name": "stdout",
          "text": [
            "loss 0.1167 - iou 0.7986 - val_loss 0.4453 - val_iou 0.0026\n",
            "Epoch [206/300]\n"
          ]
        },
        {
          "output_type": "stream",
          "name": "stderr",
          "text": [
            "100%|██████████| 30/30 [00:39<00:00,  1.31s/it, loss=0.107, iou=0.83]\n",
            "100%|██████████| 8/8 [00:04<00:00,  1.89it/s, loss=0.214, iou=0.495]\n",
            "  0%|          | 0/30 [00:00<?, ?it/s]"
          ]
        },
        {
          "output_type": "stream",
          "name": "stdout",
          "text": [
            "loss 0.1071 - iou 0.8304 - val_loss 0.2137 - val_iou 0.4953\n",
            "Epoch [207/300]\n"
          ]
        },
        {
          "output_type": "stream",
          "name": "stderr",
          "text": [
            "100%|██████████| 30/30 [00:39<00:00,  1.31s/it, loss=0.113, iou=0.817]\n",
            "100%|██████████| 8/8 [00:04<00:00,  1.86it/s, loss=0.199, iou=0.426]\n",
            "  0%|          | 0/30 [00:00<?, ?it/s]"
          ]
        },
        {
          "output_type": "stream",
          "name": "stdout",
          "text": [
            "loss 0.1134 - iou 0.8173 - val_loss 0.1990 - val_iou 0.4263\n",
            "Epoch [208/300]\n"
          ]
        },
        {
          "output_type": "stream",
          "name": "stderr",
          "text": [
            "100%|██████████| 30/30 [00:39<00:00,  1.30s/it, loss=0.108, iou=0.83]\n",
            "100%|██████████| 8/8 [00:04<00:00,  1.80it/s, loss=0.407, iou=0.000899]\n",
            "  0%|          | 0/30 [00:00<?, ?it/s]"
          ]
        },
        {
          "output_type": "stream",
          "name": "stdout",
          "text": [
            "loss 0.1078 - iou 0.8301 - val_loss 0.4071 - val_iou 0.0009\n",
            "Epoch [209/300]\n"
          ]
        },
        {
          "output_type": "stream",
          "name": "stderr",
          "text": [
            "100%|██████████| 30/30 [00:39<00:00,  1.30s/it, loss=0.107, iou=0.826]\n",
            "100%|██████████| 8/8 [00:04<00:00,  1.82it/s, loss=0.323, iou=0.0868]\n",
            "  0%|          | 0/30 [00:00<?, ?it/s]"
          ]
        },
        {
          "output_type": "stream",
          "name": "stdout",
          "text": [
            "loss 0.1069 - iou 0.8262 - val_loss 0.3230 - val_iou 0.0868\n",
            "Epoch [210/300]\n"
          ]
        },
        {
          "output_type": "stream",
          "name": "stderr",
          "text": [
            "100%|██████████| 30/30 [00:39<00:00,  1.31s/it, loss=0.11, iou=0.812]\n",
            "100%|██████████| 8/8 [00:04<00:00,  1.91it/s, loss=0.28, iou=0.0863]\n",
            "  0%|          | 0/30 [00:00<?, ?it/s]"
          ]
        },
        {
          "output_type": "stream",
          "name": "stdout",
          "text": [
            "loss 0.1096 - iou 0.8123 - val_loss 0.2804 - val_iou 0.0863\n",
            "Epoch [211/300]\n"
          ]
        },
        {
          "output_type": "stream",
          "name": "stderr",
          "text": [
            "100%|██████████| 30/30 [00:39<00:00,  1.31s/it, loss=0.11, iou=0.818]\n",
            "100%|██████████| 8/8 [00:04<00:00,  1.93it/s, loss=0.374, iou=0.000359]\n",
            "  0%|          | 0/30 [00:00<?, ?it/s]"
          ]
        },
        {
          "output_type": "stream",
          "name": "stdout",
          "text": [
            "loss 0.1099 - iou 0.8184 - val_loss 0.3736 - val_iou 0.0004\n",
            "Epoch [212/300]\n"
          ]
        },
        {
          "output_type": "stream",
          "name": "stderr",
          "text": [
            "100%|██████████| 30/30 [00:39<00:00,  1.30s/it, loss=0.105, iou=0.84]\n",
            "100%|██████████| 8/8 [00:04<00:00,  1.94it/s, loss=0.252, iou=0.341]\n",
            "  0%|          | 0/30 [00:00<?, ?it/s]"
          ]
        },
        {
          "output_type": "stream",
          "name": "stdout",
          "text": [
            "loss 0.1051 - iou 0.8403 - val_loss 0.2516 - val_iou 0.3410\n",
            "Epoch [213/300]\n"
          ]
        },
        {
          "output_type": "stream",
          "name": "stderr",
          "text": [
            "100%|██████████| 30/30 [00:39<00:00,  1.31s/it, loss=0.107, iou=0.837]\n",
            "100%|██████████| 8/8 [00:04<00:00,  1.91it/s, loss=0.285, iou=0.0869]\n",
            "  0%|          | 0/30 [00:00<?, ?it/s]"
          ]
        },
        {
          "output_type": "stream",
          "name": "stdout",
          "text": [
            "loss 0.1074 - iou 0.8370 - val_loss 0.2851 - val_iou 0.0869\n",
            "Epoch [214/300]\n"
          ]
        },
        {
          "output_type": "stream",
          "name": "stderr",
          "text": [
            "100%|██████████| 30/30 [00:39<00:00,  1.31s/it, loss=0.113, iou=0.818]\n",
            "100%|██████████| 8/8 [00:04<00:00,  1.82it/s, loss=0.312, iou=0.182]\n",
            "  0%|          | 0/30 [00:00<?, ?it/s]"
          ]
        },
        {
          "output_type": "stream",
          "name": "stdout",
          "text": [
            "loss 0.1125 - iou 0.8183 - val_loss 0.3116 - val_iou 0.1819\n",
            "Epoch [215/300]\n"
          ]
        },
        {
          "output_type": "stream",
          "name": "stderr",
          "text": [
            "100%|██████████| 30/30 [00:39<00:00,  1.30s/it, loss=0.113, iou=0.81]\n",
            "100%|██████████| 8/8 [00:04<00:00,  1.79it/s, loss=0.191, iou=0.416]\n",
            "  0%|          | 0/30 [00:00<?, ?it/s]"
          ]
        },
        {
          "output_type": "stream",
          "name": "stdout",
          "text": [
            "loss 0.1134 - iou 0.8096 - val_loss 0.1908 - val_iou 0.4162\n",
            "Epoch [216/300]\n"
          ]
        },
        {
          "output_type": "stream",
          "name": "stderr",
          "text": [
            "100%|██████████| 30/30 [00:39<00:00,  1.30s/it, loss=0.109, iou=0.823]\n",
            "100%|██████████| 8/8 [00:04<00:00,  1.84it/s, loss=0.32, iou=0.099]\n",
            "  0%|          | 0/30 [00:00<?, ?it/s]"
          ]
        },
        {
          "output_type": "stream",
          "name": "stdout",
          "text": [
            "loss 0.1087 - iou 0.8231 - val_loss 0.3204 - val_iou 0.0990\n",
            "Epoch [217/300]\n"
          ]
        },
        {
          "output_type": "stream",
          "name": "stderr",
          "text": [
            "100%|██████████| 30/30 [00:39<00:00,  1.31s/it, loss=0.103, iou=0.848]\n",
            "100%|██████████| 8/8 [00:04<00:00,  1.91it/s, loss=0.337, iou=0.0388]\n",
            "  0%|          | 0/30 [00:00<?, ?it/s]"
          ]
        },
        {
          "output_type": "stream",
          "name": "stdout",
          "text": [
            "loss 0.1031 - iou 0.8481 - val_loss 0.3367 - val_iou 0.0388\n",
            "Epoch [218/300]\n"
          ]
        },
        {
          "output_type": "stream",
          "name": "stderr",
          "text": [
            "100%|██████████| 30/30 [00:39<00:00,  1.30s/it, loss=0.108, iou=0.838]\n",
            "100%|██████████| 8/8 [00:04<00:00,  1.92it/s, loss=0.199, iou=0.472]\n",
            "  0%|          | 0/30 [00:00<?, ?it/s]"
          ]
        },
        {
          "output_type": "stream",
          "name": "stdout",
          "text": [
            "loss 0.1078 - iou 0.8377 - val_loss 0.1992 - val_iou 0.4722\n",
            "Epoch [219/300]\n"
          ]
        },
        {
          "output_type": "stream",
          "name": "stderr",
          "text": [
            "100%|██████████| 30/30 [00:39<00:00,  1.31s/it, loss=0.114, iou=0.799]\n",
            "100%|██████████| 8/8 [00:04<00:00,  1.93it/s, loss=0.282, iou=0.00753]\n",
            "  0%|          | 0/30 [00:00<?, ?it/s]"
          ]
        },
        {
          "output_type": "stream",
          "name": "stdout",
          "text": [
            "loss 0.1144 - iou 0.7989 - val_loss 0.2824 - val_iou 0.0075\n",
            "Epoch [220/300]\n"
          ]
        },
        {
          "output_type": "stream",
          "name": "stderr",
          "text": [
            "100%|██████████| 30/30 [00:39<00:00,  1.31s/it, loss=0.111, iou=0.817]\n",
            "100%|██████████| 8/8 [00:04<00:00,  1.92it/s, loss=0.251, iou=0.463]\n",
            "  0%|          | 0/30 [00:00<?, ?it/s]"
          ]
        },
        {
          "output_type": "stream",
          "name": "stdout",
          "text": [
            "loss 0.1109 - iou 0.8168 - val_loss 0.2507 - val_iou 0.4626\n",
            "Epoch [221/300]\n"
          ]
        },
        {
          "output_type": "stream",
          "name": "stderr",
          "text": [
            "100%|██████████| 30/30 [00:39<00:00,  1.30s/it, loss=0.108, iou=0.825]\n",
            "100%|██████████| 8/8 [00:04<00:00,  1.79it/s, loss=0.179, iou=0.561]\n",
            "  0%|          | 0/30 [00:00<?, ?it/s]"
          ]
        },
        {
          "output_type": "stream",
          "name": "stdout",
          "text": [
            "loss 0.1084 - iou 0.8249 - val_loss 0.1790 - val_iou 0.5609\n",
            "Epoch [222/300]\n"
          ]
        },
        {
          "output_type": "stream",
          "name": "stderr",
          "text": [
            "100%|██████████| 30/30 [00:39<00:00,  1.31s/it, loss=0.112, iou=0.812]\n",
            "100%|██████████| 8/8 [00:04<00:00,  1.79it/s, loss=0.257, iou=0.252]\n",
            "  0%|          | 0/30 [00:00<?, ?it/s]"
          ]
        },
        {
          "output_type": "stream",
          "name": "stdout",
          "text": [
            "loss 0.1120 - iou 0.8120 - val_loss 0.2568 - val_iou 0.2520\n",
            "Epoch [223/300]\n"
          ]
        },
        {
          "output_type": "stream",
          "name": "stderr",
          "text": [
            "100%|██████████| 30/30 [00:38<00:00,  1.30s/it, loss=0.11, iou=0.822]\n",
            "100%|██████████| 8/8 [00:04<00:00,  1.89it/s, loss=0.361, iou=1.13e-10]\n",
            "  0%|          | 0/30 [00:00<?, ?it/s]"
          ]
        },
        {
          "output_type": "stream",
          "name": "stdout",
          "text": [
            "loss 0.1104 - iou 0.8224 - val_loss 0.3606 - val_iou 0.0000\n",
            "Epoch [224/300]\n"
          ]
        },
        {
          "output_type": "stream",
          "name": "stderr",
          "text": [
            "100%|██████████| 30/30 [00:39<00:00,  1.30s/it, loss=0.107, iou=0.835]\n",
            "100%|██████████| 8/8 [00:04<00:00,  1.94it/s, loss=0.359, iou=0.00554]\n",
            "  0%|          | 0/30 [00:00<?, ?it/s]"
          ]
        },
        {
          "output_type": "stream",
          "name": "stdout",
          "text": [
            "loss 0.1067 - iou 0.8347 - val_loss 0.3593 - val_iou 0.0055\n",
            "Epoch [225/300]\n"
          ]
        },
        {
          "output_type": "stream",
          "name": "stderr",
          "text": [
            "100%|██████████| 30/30 [00:38<00:00,  1.30s/it, loss=0.107, iou=0.832]\n",
            "100%|██████████| 8/8 [00:04<00:00,  1.94it/s, loss=0.309, iou=0.000874]\n",
            "  0%|          | 0/30 [00:00<?, ?it/s]"
          ]
        },
        {
          "output_type": "stream",
          "name": "stdout",
          "text": [
            "loss 0.1070 - iou 0.8319 - val_loss 0.3085 - val_iou 0.0009\n",
            "Epoch [226/300]\n"
          ]
        },
        {
          "output_type": "stream",
          "name": "stderr",
          "text": [
            "100%|██████████| 30/30 [00:39<00:00,  1.31s/it, loss=0.11, iou=0.826]\n",
            "100%|██████████| 8/8 [00:04<00:00,  1.94it/s, loss=0.445, iou=0.182]\n",
            "  0%|          | 0/30 [00:00<?, ?it/s]"
          ]
        },
        {
          "output_type": "stream",
          "name": "stdout",
          "text": [
            "loss 0.1101 - iou 0.8259 - val_loss 0.4453 - val_iou 0.1818\n",
            "Epoch [227/300]\n"
          ]
        },
        {
          "output_type": "stream",
          "name": "stderr",
          "text": [
            "100%|██████████| 30/30 [00:39<00:00,  1.31s/it, loss=0.105, iou=0.848]\n",
            "100%|██████████| 8/8 [00:04<00:00,  1.89it/s, loss=0.256, iou=0.267]\n",
            "  0%|          | 0/30 [00:00<?, ?it/s]"
          ]
        },
        {
          "output_type": "stream",
          "name": "stdout",
          "text": [
            "loss 0.1047 - iou 0.8485 - val_loss 0.2558 - val_iou 0.2671\n",
            "Epoch [228/300]\n"
          ]
        },
        {
          "output_type": "stream",
          "name": "stderr",
          "text": [
            "100%|██████████| 30/30 [00:39<00:00,  1.30s/it, loss=0.103, iou=0.848]\n",
            "100%|██████████| 8/8 [00:04<00:00,  1.79it/s, loss=0.316, iou=0.111]\n",
            "  0%|          | 0/30 [00:00<?, ?it/s]"
          ]
        },
        {
          "output_type": "stream",
          "name": "stdout",
          "text": [
            "loss 0.1034 - iou 0.8476 - val_loss 0.3162 - val_iou 0.1115\n",
            "Epoch [229/300]\n"
          ]
        },
        {
          "output_type": "stream",
          "name": "stderr",
          "text": [
            "100%|██████████| 30/30 [00:38<00:00,  1.30s/it, loss=0.106, iou=0.845]\n",
            "100%|██████████| 8/8 [00:04<00:00,  1.78it/s, loss=0.276, iou=0.26]\n",
            "  0%|          | 0/30 [00:00<?, ?it/s]"
          ]
        },
        {
          "output_type": "stream",
          "name": "stdout",
          "text": [
            "loss 0.1060 - iou 0.8452 - val_loss 0.2765 - val_iou 0.2600\n",
            "Epoch [230/300]\n"
          ]
        },
        {
          "output_type": "stream",
          "name": "stderr",
          "text": [
            "100%|██████████| 30/30 [00:38<00:00,  1.30s/it, loss=0.115, iou=0.795]\n",
            "100%|██████████| 8/8 [00:04<00:00,  1.84it/s, loss=0.411, iou=1.13e-10]\n",
            "  0%|          | 0/30 [00:00<?, ?it/s]"
          ]
        },
        {
          "output_type": "stream",
          "name": "stdout",
          "text": [
            "loss 0.1149 - iou 0.7950 - val_loss 0.4109 - val_iou 0.0000\n",
            "Epoch [231/300]\n"
          ]
        },
        {
          "output_type": "stream",
          "name": "stderr",
          "text": [
            "100%|██████████| 30/30 [00:39<00:00,  1.30s/it, loss=0.112, iou=0.813]\n",
            "100%|██████████| 8/8 [00:04<00:00,  1.94it/s, loss=0.3, iou=0.107]\n",
            "  0%|          | 0/30 [00:00<?, ?it/s]"
          ]
        },
        {
          "output_type": "stream",
          "name": "stdout",
          "text": [
            "loss 0.1122 - iou 0.8126 - val_loss 0.2999 - val_iou 0.1071\n",
            "Epoch [232/300]\n"
          ]
        },
        {
          "output_type": "stream",
          "name": "stderr",
          "text": [
            "100%|██████████| 30/30 [00:39<00:00,  1.31s/it, loss=0.107, iou=0.821]\n",
            "100%|██████████| 8/8 [00:04<00:00,  1.94it/s, loss=0.212, iou=0.548]\n",
            "  0%|          | 0/30 [00:00<?, ?it/s]"
          ]
        },
        {
          "output_type": "stream",
          "name": "stdout",
          "text": [
            "loss 0.1065 - iou 0.8212 - val_loss 0.2124 - val_iou 0.5477\n",
            "Epoch [233/300]\n"
          ]
        },
        {
          "output_type": "stream",
          "name": "stderr",
          "text": [
            "100%|██████████| 30/30 [00:38<00:00,  1.30s/it, loss=0.108, iou=0.835]\n",
            "100%|██████████| 8/8 [00:04<00:00,  1.93it/s, loss=0.339, iou=0.0293]\n",
            "  0%|          | 0/30 [00:00<?, ?it/s]"
          ]
        },
        {
          "output_type": "stream",
          "name": "stdout",
          "text": [
            "loss 0.1076 - iou 0.8355 - val_loss 0.3388 - val_iou 0.0293\n",
            "Epoch [234/300]\n"
          ]
        },
        {
          "output_type": "stream",
          "name": "stderr",
          "text": [
            "100%|██████████| 30/30 [00:39<00:00,  1.31s/it, loss=0.108, iou=0.816]\n",
            "100%|██████████| 8/8 [00:04<00:00,  1.88it/s, loss=0.181, iou=0.507]\n",
            "  0%|          | 0/30 [00:00<?, ?it/s]"
          ]
        },
        {
          "output_type": "stream",
          "name": "stdout",
          "text": [
            "loss 0.1076 - iou 0.8156 - val_loss 0.1812 - val_iou 0.5069\n",
            "Epoch [235/300]\n"
          ]
        },
        {
          "output_type": "stream",
          "name": "stderr",
          "text": [
            "100%|██████████| 30/30 [00:39<00:00,  1.30s/it, loss=0.109, iou=0.822]\n",
            "100%|██████████| 8/8 [00:04<00:00,  1.86it/s, loss=0.369, iou=0.526]\n",
            "  0%|          | 0/30 [00:00<?, ?it/s]"
          ]
        },
        {
          "output_type": "stream",
          "name": "stdout",
          "text": [
            "loss 0.1087 - iou 0.8219 - val_loss 0.3687 - val_iou 0.5256\n",
            "Epoch [236/300]\n"
          ]
        },
        {
          "output_type": "stream",
          "name": "stderr",
          "text": [
            "100%|██████████| 30/30 [00:38<00:00,  1.30s/it, loss=0.104, iou=0.84]\n",
            "100%|██████████| 8/8 [00:04<00:00,  1.78it/s, loss=0.232, iou=0.261]\n",
            "  0%|          | 0/30 [00:00<?, ?it/s]"
          ]
        },
        {
          "output_type": "stream",
          "name": "stdout",
          "text": [
            "loss 0.1040 - iou 0.8403 - val_loss 0.2324 - val_iou 0.2609\n",
            "Epoch [237/300]\n"
          ]
        },
        {
          "output_type": "stream",
          "name": "stderr",
          "text": [
            "100%|██████████| 30/30 [00:38<00:00,  1.30s/it, loss=0.112, iou=0.812]\n",
            "100%|██████████| 8/8 [00:04<00:00,  1.87it/s, loss=0.221, iou=0.443]\n",
            "  0%|          | 0/30 [00:00<?, ?it/s]"
          ]
        },
        {
          "output_type": "stream",
          "name": "stdout",
          "text": [
            "loss 0.1117 - iou 0.8119 - val_loss 0.2208 - val_iou 0.4426\n",
            "Epoch [238/300]\n"
          ]
        },
        {
          "output_type": "stream",
          "name": "stderr",
          "text": [
            "100%|██████████| 30/30 [00:39<00:00,  1.30s/it, loss=0.111, iou=0.817]\n",
            "100%|██████████| 8/8 [00:04<00:00,  1.92it/s, loss=0.32, iou=0.00808]\n",
            "  0%|          | 0/30 [00:00<?, ?it/s]"
          ]
        },
        {
          "output_type": "stream",
          "name": "stdout",
          "text": [
            "loss 0.1114 - iou 0.8171 - val_loss 0.3204 - val_iou 0.0081\n",
            "Epoch [239/300]\n"
          ]
        },
        {
          "output_type": "stream",
          "name": "stderr",
          "text": [
            "100%|██████████| 30/30 [00:39<00:00,  1.30s/it, loss=0.11, iou=0.822]\n",
            "100%|██████████| 8/8 [00:04<00:00,  1.93it/s, loss=0.206, iou=0.423]\n",
            "  0%|          | 0/30 [00:00<?, ?it/s]"
          ]
        },
        {
          "output_type": "stream",
          "name": "stdout",
          "text": [
            "loss 0.1102 - iou 0.8219 - val_loss 0.2062 - val_iou 0.4226\n",
            "Epoch [240/300]\n"
          ]
        },
        {
          "output_type": "stream",
          "name": "stderr",
          "text": [
            "100%|██████████| 30/30 [00:39<00:00,  1.30s/it, loss=0.111, iou=0.811]\n",
            "100%|██████████| 8/8 [00:04<00:00,  1.92it/s, loss=0.344, iou=1.13e-10]\n",
            "  0%|          | 0/30 [00:00<?, ?it/s]"
          ]
        },
        {
          "output_type": "stream",
          "name": "stdout",
          "text": [
            "loss 0.1112 - iou 0.8108 - val_loss 0.3444 - val_iou 0.0000\n",
            "Epoch [241/300]\n"
          ]
        },
        {
          "output_type": "stream",
          "name": "stderr",
          "text": [
            "100%|██████████| 30/30 [00:39<00:00,  1.30s/it, loss=0.108, iou=0.833]\n",
            "100%|██████████| 8/8 [00:04<00:00,  1.85it/s, loss=0.305, iou=0.0159]\n",
            "  0%|          | 0/30 [00:00<?, ?it/s]"
          ]
        },
        {
          "output_type": "stream",
          "name": "stdout",
          "text": [
            "loss 0.1078 - iou 0.8333 - val_loss 0.3051 - val_iou 0.0159\n",
            "Epoch [242/300]\n"
          ]
        },
        {
          "output_type": "stream",
          "name": "stderr",
          "text": [
            "100%|██████████| 30/30 [00:39<00:00,  1.30s/it, loss=0.105, iou=0.83]\n",
            "100%|██████████| 8/8 [00:04<00:00,  1.80it/s, loss=0.419, iou=0.00646]\n",
            "  0%|          | 0/30 [00:00<?, ?it/s]"
          ]
        },
        {
          "output_type": "stream",
          "name": "stdout",
          "text": [
            "loss 0.1051 - iou 0.8296 - val_loss 0.4187 - val_iou 0.0065\n",
            "Epoch [243/300]\n"
          ]
        },
        {
          "output_type": "stream",
          "name": "stderr",
          "text": [
            "100%|██████████| 30/30 [00:38<00:00,  1.30s/it, loss=0.103, iou=0.841]\n",
            "100%|██████████| 8/8 [00:04<00:00,  1.80it/s, loss=0.254, iou=0.513]\n",
            "  0%|          | 0/30 [00:00<?, ?it/s]"
          ]
        },
        {
          "output_type": "stream",
          "name": "stdout",
          "text": [
            "loss 0.1029 - iou 0.8407 - val_loss 0.2537 - val_iou 0.5129\n",
            "Epoch [244/300]\n"
          ]
        },
        {
          "output_type": "stream",
          "name": "stderr",
          "text": [
            "100%|██████████| 30/30 [00:39<00:00,  1.30s/it, loss=0.104, iou=0.834]\n",
            "100%|██████████| 8/8 [00:04<00:00,  1.91it/s, loss=0.252, iou=0.422]\n",
            "  0%|          | 0/30 [00:00<?, ?it/s]"
          ]
        },
        {
          "output_type": "stream",
          "name": "stdout",
          "text": [
            "loss 0.1042 - iou 0.8343 - val_loss 0.2518 - val_iou 0.4216\n",
            "Epoch [245/300]\n"
          ]
        },
        {
          "output_type": "stream",
          "name": "stderr",
          "text": [
            "100%|██████████| 30/30 [00:39<00:00,  1.30s/it, loss=0.107, iou=0.825]\n",
            "100%|██████████| 8/8 [00:04<00:00,  1.94it/s, loss=0.23, iou=0.313]\n",
            "  0%|          | 0/30 [00:00<?, ?it/s]"
          ]
        },
        {
          "output_type": "stream",
          "name": "stdout",
          "text": [
            "loss 0.1066 - iou 0.8254 - val_loss 0.2297 - val_iou 0.3127\n",
            "Epoch [246/300]\n"
          ]
        },
        {
          "output_type": "stream",
          "name": "stderr",
          "text": [
            "100%|██████████| 30/30 [00:39<00:00,  1.30s/it, loss=0.108, iou=0.825]\n",
            "100%|██████████| 8/8 [00:04<00:00,  1.92it/s, loss=0.232, iou=0.373]\n",
            "  0%|          | 0/30 [00:00<?, ?it/s]"
          ]
        },
        {
          "output_type": "stream",
          "name": "stdout",
          "text": [
            "loss 0.1076 - iou 0.8247 - val_loss 0.2325 - val_iou 0.3733\n",
            "Epoch [247/300]\n"
          ]
        },
        {
          "output_type": "stream",
          "name": "stderr",
          "text": [
            "100%|██████████| 30/30 [00:39<00:00,  1.30s/it, loss=0.106, iou=0.853]\n",
            "100%|██████████| 8/8 [00:04<00:00,  1.93it/s, loss=0.212, iou=0.474]\n",
            "  0%|          | 0/30 [00:00<?, ?it/s]"
          ]
        },
        {
          "output_type": "stream",
          "name": "stdout",
          "text": [
            "loss 0.1059 - iou 0.8529 - val_loss 0.2118 - val_iou 0.4736\n",
            "Epoch [248/300]\n"
          ]
        },
        {
          "output_type": "stream",
          "name": "stderr",
          "text": [
            "100%|██████████| 30/30 [00:38<00:00,  1.30s/it, loss=0.106, iou=0.834]\n",
            "100%|██████████| 8/8 [00:04<00:00,  1.82it/s, loss=0.497, iou=1.13e-10]\n",
            "  0%|          | 0/30 [00:00<?, ?it/s]"
          ]
        },
        {
          "output_type": "stream",
          "name": "stdout",
          "text": [
            "loss 0.1056 - iou 0.8342 - val_loss 0.4967 - val_iou 0.0000\n",
            "Epoch [249/300]\n"
          ]
        },
        {
          "output_type": "stream",
          "name": "stderr",
          "text": [
            "100%|██████████| 30/30 [00:39<00:00,  1.30s/it, loss=0.114, iou=0.793]\n",
            "100%|██████████| 8/8 [00:04<00:00,  1.78it/s, loss=0.377, iou=0.424]\n",
            "  0%|          | 0/30 [00:00<?, ?it/s]"
          ]
        },
        {
          "output_type": "stream",
          "name": "stdout",
          "text": [
            "loss 0.1135 - iou 0.7935 - val_loss 0.3765 - val_iou 0.4237\n",
            "Epoch [250/300]\n"
          ]
        },
        {
          "output_type": "stream",
          "name": "stderr",
          "text": [
            "100%|██████████| 30/30 [00:38<00:00,  1.30s/it, loss=0.11, iou=0.808]\n",
            "100%|██████████| 8/8 [00:04<00:00,  1.86it/s, loss=0.199, iou=0.504]\n",
            "  0%|          | 0/30 [00:00<?, ?it/s]"
          ]
        },
        {
          "output_type": "stream",
          "name": "stdout",
          "text": [
            "loss 0.1098 - iou 0.8082 - val_loss 0.1993 - val_iou 0.5043\n",
            "Epoch [251/300]\n"
          ]
        },
        {
          "output_type": "stream",
          "name": "stderr",
          "text": [
            "100%|██████████| 30/30 [00:39<00:00,  1.30s/it, loss=0.11, iou=0.818]\n",
            "100%|██████████| 8/8 [00:04<00:00,  1.94it/s, loss=0.175, iou=0.543]\n",
            "  0%|          | 0/30 [00:00<?, ?it/s]"
          ]
        },
        {
          "output_type": "stream",
          "name": "stdout",
          "text": [
            "loss 0.1096 - iou 0.8176 - val_loss 0.1749 - val_iou 0.5433\n",
            "Epoch [252/300]\n"
          ]
        },
        {
          "output_type": "stream",
          "name": "stderr",
          "text": [
            "100%|██████████| 30/30 [00:39<00:00,  1.30s/it, loss=0.105, iou=0.843]\n",
            "100%|██████████| 8/8 [00:04<00:00,  1.94it/s, loss=0.249, iou=0.44]\n",
            "  0%|          | 0/30 [00:00<?, ?it/s]"
          ]
        },
        {
          "output_type": "stream",
          "name": "stdout",
          "text": [
            "loss 0.1055 - iou 0.8429 - val_loss 0.2488 - val_iou 0.4403\n",
            "Epoch [253/300]\n"
          ]
        },
        {
          "output_type": "stream",
          "name": "stderr",
          "text": [
            "100%|██████████| 30/30 [00:38<00:00,  1.30s/it, loss=0.104, iou=0.847]\n",
            "100%|██████████| 8/8 [00:04<00:00,  1.90it/s, loss=0.338, iou=0.477]\n",
            "  0%|          | 0/30 [00:00<?, ?it/s]"
          ]
        },
        {
          "output_type": "stream",
          "name": "stdout",
          "text": [
            "loss 0.1042 - iou 0.8466 - val_loss 0.3383 - val_iou 0.4773\n",
            "Epoch [254/300]\n"
          ]
        },
        {
          "output_type": "stream",
          "name": "stderr",
          "text": [
            "100%|██████████| 30/30 [00:39<00:00,  1.30s/it, loss=0.106, iou=0.843]\n",
            "100%|██████████| 8/8 [00:04<00:00,  1.91it/s, loss=0.291, iou=0.158]\n",
            "  0%|          | 0/30 [00:00<?, ?it/s]"
          ]
        },
        {
          "output_type": "stream",
          "name": "stdout",
          "text": [
            "loss 0.1058 - iou 0.8428 - val_loss 0.2914 - val_iou 0.1576\n",
            "Epoch [255/300]\n"
          ]
        },
        {
          "output_type": "stream",
          "name": "stderr",
          "text": [
            "100%|██████████| 30/30 [00:38<00:00,  1.30s/it, loss=0.101, iou=0.84]\n",
            "100%|██████████| 8/8 [00:04<00:00,  1.85it/s, loss=0.264, iou=0.165]\n",
            "  0%|          | 0/30 [00:00<?, ?it/s]"
          ]
        },
        {
          "output_type": "stream",
          "name": "stdout",
          "text": [
            "loss 0.1013 - iou 0.8401 - val_loss 0.2638 - val_iou 0.1646\n",
            "Epoch [256/300]\n"
          ]
        },
        {
          "output_type": "stream",
          "name": "stderr",
          "text": [
            "100%|██████████| 30/30 [00:38<00:00,  1.30s/it, loss=0.103, iou=0.847]\n",
            "100%|██████████| 8/8 [00:04<00:00,  1.77it/s, loss=0.331, iou=0.00259]\n",
            "  0%|          | 0/30 [00:00<?, ?it/s]"
          ]
        },
        {
          "output_type": "stream",
          "name": "stdout",
          "text": [
            "loss 0.1032 - iou 0.8466 - val_loss 0.3314 - val_iou 0.0026\n",
            "Epoch [257/300]\n"
          ]
        },
        {
          "output_type": "stream",
          "name": "stderr",
          "text": [
            "100%|██████████| 30/30 [00:38<00:00,  1.29s/it, loss=0.108, iou=0.828]\n",
            "100%|██████████| 8/8 [00:04<00:00,  1.84it/s, loss=0.207, iou=0.395]\n",
            "  0%|          | 0/30 [00:00<?, ?it/s]"
          ]
        },
        {
          "output_type": "stream",
          "name": "stdout",
          "text": [
            "loss 0.1084 - iou 0.8283 - val_loss 0.2068 - val_iou 0.3952\n",
            "Epoch [258/300]\n"
          ]
        },
        {
          "output_type": "stream",
          "name": "stderr",
          "text": [
            "100%|██████████| 30/30 [00:39<00:00,  1.30s/it, loss=0.106, iou=0.828]\n",
            "100%|██████████| 8/8 [00:04<00:00,  1.91it/s, loss=0.293, iou=0.0268]\n",
            "  0%|          | 0/30 [00:00<?, ?it/s]"
          ]
        },
        {
          "output_type": "stream",
          "name": "stdout",
          "text": [
            "loss 0.1064 - iou 0.8282 - val_loss 0.2931 - val_iou 0.0268\n",
            "Epoch [259/300]\n"
          ]
        },
        {
          "output_type": "stream",
          "name": "stderr",
          "text": [
            "100%|██████████| 30/30 [00:39<00:00,  1.30s/it, loss=0.104, iou=0.845]\n",
            "100%|██████████| 8/8 [00:04<00:00,  1.91it/s, loss=0.211, iou=0.408]\n",
            "  0%|          | 0/30 [00:00<?, ?it/s]"
          ]
        },
        {
          "output_type": "stream",
          "name": "stdout",
          "text": [
            "loss 0.1039 - iou 0.8448 - val_loss 0.2112 - val_iou 0.4075\n",
            "Epoch [260/300]\n"
          ]
        },
        {
          "output_type": "stream",
          "name": "stderr",
          "text": [
            "100%|██████████| 30/30 [00:39<00:00,  1.31s/it, loss=0.104, iou=0.832]\n",
            "100%|██████████| 8/8 [00:04<00:00,  1.94it/s, loss=0.228, iou=0.281]\n",
            "  0%|          | 0/30 [00:00<?, ?it/s]"
          ]
        },
        {
          "output_type": "stream",
          "name": "stdout",
          "text": [
            "loss 0.1038 - iou 0.8316 - val_loss 0.2283 - val_iou 0.2806\n",
            "Epoch [261/300]\n"
          ]
        },
        {
          "output_type": "stream",
          "name": "stderr",
          "text": [
            "100%|██████████| 30/30 [00:38<00:00,  1.30s/it, loss=0.106, iou=0.825]\n",
            "100%|██████████| 8/8 [00:04<00:00,  1.95it/s, loss=0.305, iou=1.67e-6]\n",
            "  0%|          | 0/30 [00:00<?, ?it/s]"
          ]
        },
        {
          "output_type": "stream",
          "name": "stdout",
          "text": [
            "loss 0.1063 - iou 0.8248 - val_loss 0.3049 - val_iou 0.0000\n",
            "Epoch [262/300]\n"
          ]
        },
        {
          "output_type": "stream",
          "name": "stderr",
          "text": [
            "100%|██████████| 30/30 [00:38<00:00,  1.29s/it, loss=0.107, iou=0.83]\n",
            "100%|██████████| 8/8 [00:04<00:00,  1.91it/s, loss=0.317, iou=0.0049]\n",
            "  0%|          | 0/30 [00:00<?, ?it/s]"
          ]
        },
        {
          "output_type": "stream",
          "name": "stdout",
          "text": [
            "loss 0.1067 - iou 0.8298 - val_loss 0.3166 - val_iou 0.0049\n",
            "Epoch [263/300]\n"
          ]
        },
        {
          "output_type": "stream",
          "name": "stderr",
          "text": [
            "100%|██████████| 30/30 [00:38<00:00,  1.30s/it, loss=0.105, iou=0.843]\n",
            "100%|██████████| 8/8 [00:04<00:00,  1.83it/s, loss=0.234, iou=0.327]\n",
            "  0%|          | 0/30 [00:00<?, ?it/s]"
          ]
        },
        {
          "output_type": "stream",
          "name": "stdout",
          "text": [
            "loss 0.1046 - iou 0.8428 - val_loss 0.2342 - val_iou 0.3266\n",
            "Epoch [264/300]\n"
          ]
        },
        {
          "output_type": "stream",
          "name": "stderr",
          "text": [
            "100%|██████████| 30/30 [00:38<00:00,  1.29s/it, loss=0.0992, iou=0.848]\n",
            "100%|██████████| 8/8 [00:04<00:00,  1.78it/s, loss=0.329, iou=0.036]\n",
            "  0%|          | 0/30 [00:00<?, ?it/s]"
          ]
        },
        {
          "output_type": "stream",
          "name": "stdout",
          "text": [
            "loss 0.0992 - iou 0.8481 - val_loss 0.3288 - val_iou 0.0360\n",
            "Epoch [265/300]\n"
          ]
        },
        {
          "output_type": "stream",
          "name": "stderr",
          "text": [
            "100%|██████████| 30/30 [00:38<00:00,  1.29s/it, loss=0.105, iou=0.838]\n",
            "100%|██████████| 8/8 [00:04<00:00,  1.89it/s, loss=0.23, iou=0.346]\n",
            "  0%|          | 0/30 [00:00<?, ?it/s]"
          ]
        },
        {
          "output_type": "stream",
          "name": "stdout",
          "text": [
            "loss 0.1045 - iou 0.8377 - val_loss 0.2299 - val_iou 0.3457\n",
            "Epoch [266/300]\n"
          ]
        },
        {
          "output_type": "stream",
          "name": "stderr",
          "text": [
            "100%|██████████| 30/30 [00:38<00:00,  1.30s/it, loss=0.103, iou=0.841]\n",
            "100%|██████████| 8/8 [00:04<00:00,  1.94it/s, loss=0.342, iou=0.02]\n",
            "  0%|          | 0/30 [00:00<?, ?it/s]"
          ]
        },
        {
          "output_type": "stream",
          "name": "stdout",
          "text": [
            "loss 0.1032 - iou 0.8408 - val_loss 0.3419 - val_iou 0.0200\n",
            "Epoch [267/300]\n"
          ]
        },
        {
          "output_type": "stream",
          "name": "stderr",
          "text": [
            "100%|██████████| 30/30 [00:38<00:00,  1.30s/it, loss=0.11, iou=0.815]\n",
            "100%|██████████| 8/8 [00:04<00:00,  1.94it/s, loss=0.263, iou=0.431]\n",
            "  0%|          | 0/30 [00:00<?, ?it/s]"
          ]
        },
        {
          "output_type": "stream",
          "name": "stdout",
          "text": [
            "loss 0.1099 - iou 0.8147 - val_loss 0.2629 - val_iou 0.4307\n",
            "Epoch [268/300]\n"
          ]
        },
        {
          "output_type": "stream",
          "name": "stderr",
          "text": [
            "100%|██████████| 30/30 [00:39<00:00,  1.30s/it, loss=0.102, iou=0.841]\n",
            "100%|██████████| 8/8 [00:04<00:00,  1.94it/s, loss=0.319, iou=0.0632]\n",
            "  0%|          | 0/30 [00:00<?, ?it/s]"
          ]
        },
        {
          "output_type": "stream",
          "name": "stdout",
          "text": [
            "loss 0.1020 - iou 0.8413 - val_loss 0.3194 - val_iou 0.0632\n",
            "Epoch [269/300]\n"
          ]
        },
        {
          "output_type": "stream",
          "name": "stderr",
          "text": [
            "100%|██████████| 30/30 [00:38<00:00,  1.30s/it, loss=0.102, iou=0.85]\n",
            "100%|██████████| 8/8 [00:04<00:00,  1.90it/s, loss=0.248, iou=0.481]\n",
            "  0%|          | 0/30 [00:00<?, ?it/s]"
          ]
        },
        {
          "output_type": "stream",
          "name": "stdout",
          "text": [
            "loss 0.1016 - iou 0.8499 - val_loss 0.2484 - val_iou 0.4812\n",
            "Epoch [270/300]\n"
          ]
        },
        {
          "output_type": "stream",
          "name": "stderr",
          "text": [
            "100%|██████████| 30/30 [00:39<00:00,  1.30s/it, loss=0.1, iou=0.861]\n",
            "100%|██████████| 8/8 [00:04<00:00,  1.86it/s, loss=0.289, iou=0.301]\n",
            "  0%|          | 0/30 [00:00<?, ?it/s]"
          ]
        },
        {
          "output_type": "stream",
          "name": "stdout",
          "text": [
            "loss 0.1004 - iou 0.8613 - val_loss 0.2892 - val_iou 0.3009\n",
            "Epoch [271/300]\n"
          ]
        },
        {
          "output_type": "stream",
          "name": "stderr",
          "text": [
            "100%|██████████| 30/30 [00:38<00:00,  1.29s/it, loss=0.106, iou=0.833]\n",
            "100%|██████████| 8/8 [00:04<00:00,  1.79it/s, loss=0.276, iou=0.099]\n",
            "  0%|          | 0/30 [00:00<?, ?it/s]"
          ]
        },
        {
          "output_type": "stream",
          "name": "stdout",
          "text": [
            "loss 0.1056 - iou 0.8330 - val_loss 0.2760 - val_iou 0.0990\n",
            "Epoch [272/300]\n"
          ]
        },
        {
          "output_type": "stream",
          "name": "stderr",
          "text": [
            "100%|██████████| 30/30 [00:38<00:00,  1.29s/it, loss=0.102, iou=0.855]\n",
            "100%|██████████| 8/8 [00:04<00:00,  1.83it/s, loss=0.286, iou=0.083]\n",
            "  0%|          | 0/30 [00:00<?, ?it/s]"
          ]
        },
        {
          "output_type": "stream",
          "name": "stdout",
          "text": [
            "loss 0.1023 - iou 0.8549 - val_loss 0.2859 - val_iou 0.0830\n",
            "Epoch [273/300]\n"
          ]
        },
        {
          "output_type": "stream",
          "name": "stderr",
          "text": [
            "100%|██████████| 30/30 [00:38<00:00,  1.29s/it, loss=0.0999, iou=0.861]\n",
            "100%|██████████| 8/8 [00:04<00:00,  1.90it/s, loss=0.276, iou=0.172]\n",
            "  0%|          | 0/30 [00:00<?, ?it/s]"
          ]
        },
        {
          "output_type": "stream",
          "name": "stdout",
          "text": [
            "loss 0.0999 - iou 0.8609 - val_loss 0.2756 - val_iou 0.1717\n",
            "Epoch [274/300]\n"
          ]
        },
        {
          "output_type": "stream",
          "name": "stderr",
          "text": [
            "100%|██████████| 30/30 [00:38<00:00,  1.30s/it, loss=0.103, iou=0.842]\n",
            "100%|██████████| 8/8 [00:04<00:00,  1.94it/s, loss=0.512, iou=0.197]\n",
            "  0%|          | 0/30 [00:00<?, ?it/s]"
          ]
        },
        {
          "output_type": "stream",
          "name": "stdout",
          "text": [
            "loss 0.1028 - iou 0.8420 - val_loss 0.5115 - val_iou 0.1975\n",
            "Epoch [275/300]\n"
          ]
        },
        {
          "output_type": "stream",
          "name": "stderr",
          "text": [
            "100%|██████████| 30/30 [00:38<00:00,  1.29s/it, loss=0.104, iou=0.832]\n",
            "100%|██████████| 8/8 [00:04<00:00,  1.92it/s, loss=0.173, iou=0.61]\n",
            "  0%|          | 0/30 [00:00<?, ?it/s]"
          ]
        },
        {
          "output_type": "stream",
          "name": "stdout",
          "text": [
            "loss 0.1044 - iou 0.8316 - val_loss 0.1726 - val_iou 0.6099\n",
            "Epoch [276/300]\n"
          ]
        },
        {
          "output_type": "stream",
          "name": "stderr",
          "text": [
            "100%|██████████| 30/30 [00:38<00:00,  1.30s/it, loss=0.106, iou=0.835]\n",
            "100%|██████████| 8/8 [00:04<00:00,  1.94it/s, loss=0.349, iou=0.0512]\n",
            "  0%|          | 0/30 [00:00<?, ?it/s]"
          ]
        },
        {
          "output_type": "stream",
          "name": "stdout",
          "text": [
            "loss 0.1059 - iou 0.8352 - val_loss 0.3489 - val_iou 0.0512\n",
            "Epoch [277/300]\n"
          ]
        },
        {
          "output_type": "stream",
          "name": "stderr",
          "text": [
            "100%|██████████| 30/30 [00:38<00:00,  1.30s/it, loss=0.103, iou=0.846]\n",
            "100%|██████████| 8/8 [00:04<00:00,  1.85it/s, loss=0.257, iou=0.453]\n",
            "  0%|          | 0/30 [00:00<?, ?it/s]"
          ]
        },
        {
          "output_type": "stream",
          "name": "stdout",
          "text": [
            "loss 0.1025 - iou 0.8464 - val_loss 0.2573 - val_iou 0.4533\n",
            "Epoch [278/300]\n"
          ]
        },
        {
          "output_type": "stream",
          "name": "stderr",
          "text": [
            "100%|██████████| 30/30 [00:38<00:00,  1.30s/it, loss=0.101, iou=0.854]\n",
            "100%|██████████| 8/8 [00:04<00:00,  1.81it/s, loss=0.16, iou=0.633]\n",
            "  0%|          | 0/30 [00:00<?, ?it/s]"
          ]
        },
        {
          "output_type": "stream",
          "name": "stdout",
          "text": [
            "loss 0.1007 - iou 0.8543 - val_loss 0.1598 - val_iou 0.6326\n",
            "Epoch [279/300]\n"
          ]
        },
        {
          "output_type": "stream",
          "name": "stderr",
          "text": [
            "100%|██████████| 30/30 [00:38<00:00,  1.29s/it, loss=0.104, iou=0.842]\n",
            "100%|██████████| 8/8 [00:04<00:00,  1.84it/s, loss=0.329, iou=0.0915]\n",
            "  0%|          | 0/30 [00:00<?, ?it/s]"
          ]
        },
        {
          "output_type": "stream",
          "name": "stdout",
          "text": [
            "loss 0.1038 - iou 0.8420 - val_loss 0.3293 - val_iou 0.0915\n",
            "Epoch [280/300]\n"
          ]
        },
        {
          "output_type": "stream",
          "name": "stderr",
          "text": [
            "100%|██████████| 30/30 [00:38<00:00,  1.30s/it, loss=0.108, iou=0.825]\n",
            "100%|██████████| 8/8 [00:04<00:00,  1.93it/s, loss=0.209, iou=0.454]\n",
            "  0%|          | 0/30 [00:00<?, ?it/s]"
          ]
        },
        {
          "output_type": "stream",
          "name": "stdout",
          "text": [
            "loss 0.1078 - iou 0.8251 - val_loss 0.2086 - val_iou 0.4543\n",
            "Epoch [281/300]\n"
          ]
        },
        {
          "output_type": "stream",
          "name": "stderr",
          "text": [
            "100%|██████████| 30/30 [00:38<00:00,  1.30s/it, loss=0.103, iou=0.839]\n",
            "100%|██████████| 8/8 [00:04<00:00,  1.92it/s, loss=0.21, iou=0.409]\n",
            "  0%|          | 0/30 [00:00<?, ?it/s]"
          ]
        },
        {
          "output_type": "stream",
          "name": "stdout",
          "text": [
            "loss 0.1025 - iou 0.8394 - val_loss 0.2103 - val_iou 0.4092\n",
            "Epoch [282/300]\n"
          ]
        },
        {
          "output_type": "stream",
          "name": "stderr",
          "text": [
            "100%|██████████| 30/30 [00:38<00:00,  1.30s/it, loss=0.102, iou=0.839]\n",
            "100%|██████████| 8/8 [00:04<00:00,  1.92it/s, loss=0.206, iou=0.501]\n",
            "  0%|          | 0/30 [00:00<?, ?it/s]"
          ]
        },
        {
          "output_type": "stream",
          "name": "stdout",
          "text": [
            "loss 0.1023 - iou 0.8393 - val_loss 0.2060 - val_iou 0.5012\n",
            "Epoch [283/300]\n"
          ]
        },
        {
          "output_type": "stream",
          "name": "stderr",
          "text": [
            "100%|██████████| 30/30 [00:39<00:00,  1.30s/it, loss=0.104, iou=0.826]\n",
            "100%|██████████| 8/8 [00:04<00:00,  1.94it/s, loss=0.257, iou=0.225]\n",
            "  0%|          | 0/30 [00:00<?, ?it/s]"
          ]
        },
        {
          "output_type": "stream",
          "name": "stdout",
          "text": [
            "loss 0.1044 - iou 0.8262 - val_loss 0.2573 - val_iou 0.2249\n",
            "Epoch [284/300]\n"
          ]
        },
        {
          "output_type": "stream",
          "name": "stderr",
          "text": [
            "100%|██████████| 30/30 [00:39<00:00,  1.30s/it, loss=0.103, iou=0.841]\n",
            "100%|██████████| 8/8 [00:04<00:00,  1.88it/s, loss=0.242, iou=0.498]\n",
            "  0%|          | 0/30 [00:00<?, ?it/s]"
          ]
        },
        {
          "output_type": "stream",
          "name": "stdout",
          "text": [
            "loss 0.1030 - iou 0.8411 - val_loss 0.2417 - val_iou 0.4982\n",
            "Epoch [285/300]\n"
          ]
        },
        {
          "output_type": "stream",
          "name": "stderr",
          "text": [
            "100%|██████████| 30/30 [00:38<00:00,  1.30s/it, loss=0.103, iou=0.849]\n",
            "100%|██████████| 8/8 [00:04<00:00,  1.78it/s, loss=0.322, iou=0.0494]\n",
            "  0%|          | 0/30 [00:00<?, ?it/s]"
          ]
        },
        {
          "output_type": "stream",
          "name": "stdout",
          "text": [
            "loss 0.1034 - iou 0.8494 - val_loss 0.3220 - val_iou 0.0494\n",
            "Epoch [286/300]\n"
          ]
        },
        {
          "output_type": "stream",
          "name": "stderr",
          "text": [
            "100%|██████████| 30/30 [00:38<00:00,  1.30s/it, loss=0.103, iou=0.854]\n",
            "100%|██████████| 8/8 [00:04<00:00,  1.82it/s, loss=0.215, iou=0.495]\n",
            "  0%|          | 0/30 [00:00<?, ?it/s]"
          ]
        },
        {
          "output_type": "stream",
          "name": "stdout",
          "text": [
            "loss 0.1030 - iou 0.8540 - val_loss 0.2149 - val_iou 0.4949\n",
            "Epoch [287/300]\n"
          ]
        },
        {
          "output_type": "stream",
          "name": "stderr",
          "text": [
            "100%|██████████| 30/30 [00:38<00:00,  1.29s/it, loss=0.103, iou=0.85]\n",
            "100%|██████████| 8/8 [00:04<00:00,  1.93it/s, loss=0.162, iou=0.589]\n",
            "  0%|          | 0/30 [00:00<?, ?it/s]"
          ]
        },
        {
          "output_type": "stream",
          "name": "stdout",
          "text": [
            "loss 0.1030 - iou 0.8501 - val_loss 0.1621 - val_iou 0.5888\n",
            "Epoch [288/300]\n"
          ]
        },
        {
          "output_type": "stream",
          "name": "stderr",
          "text": [
            "100%|██████████| 30/30 [00:38<00:00,  1.30s/it, loss=0.105, iou=0.846]\n",
            "100%|██████████| 8/8 [00:04<00:00,  1.93it/s, loss=0.429, iou=1.13e-10]\n",
            "  0%|          | 0/30 [00:00<?, ?it/s]"
          ]
        },
        {
          "output_type": "stream",
          "name": "stdout",
          "text": [
            "loss 0.1047 - iou 0.8461 - val_loss 0.4289 - val_iou 0.0000\n",
            "Epoch [289/300]\n"
          ]
        },
        {
          "output_type": "stream",
          "name": "stderr",
          "text": [
            "100%|██████████| 30/30 [00:38<00:00,  1.30s/it, loss=0.105, iou=0.828]\n",
            "100%|██████████| 8/8 [00:04<00:00,  1.94it/s, loss=0.197, iou=0.538]\n",
            "  0%|          | 0/30 [00:00<?, ?it/s]"
          ]
        },
        {
          "output_type": "stream",
          "name": "stdout",
          "text": [
            "loss 0.1053 - iou 0.8276 - val_loss 0.1973 - val_iou 0.5383\n",
            "Epoch [290/300]\n"
          ]
        },
        {
          "output_type": "stream",
          "name": "stderr",
          "text": [
            "100%|██████████| 30/30 [00:38<00:00,  1.30s/it, loss=0.101, iou=0.847]\n",
            "100%|██████████| 8/8 [00:04<00:00,  1.93it/s, loss=0.429, iou=0.0353]\n",
            "  0%|          | 0/30 [00:00<?, ?it/s]"
          ]
        },
        {
          "output_type": "stream",
          "name": "stdout",
          "text": [
            "loss 0.1012 - iou 0.8467 - val_loss 0.4294 - val_iou 0.0353\n",
            "Epoch [291/300]\n"
          ]
        },
        {
          "output_type": "stream",
          "name": "stderr",
          "text": [
            "100%|██████████| 30/30 [00:38<00:00,  1.29s/it, loss=0.0983, iou=0.862]\n",
            "100%|██████████| 8/8 [00:04<00:00,  1.87it/s, loss=0.193, iou=0.496]\n",
            "  0%|          | 0/30 [00:00<?, ?it/s]"
          ]
        },
        {
          "output_type": "stream",
          "name": "stdout",
          "text": [
            "loss 0.0983 - iou 0.8624 - val_loss 0.1934 - val_iou 0.4956\n",
            "Epoch [292/300]\n"
          ]
        },
        {
          "output_type": "stream",
          "name": "stderr",
          "text": [
            "100%|██████████| 30/30 [00:38<00:00,  1.30s/it, loss=0.102, iou=0.855]\n",
            "100%|██████████| 8/8 [00:04<00:00,  1.80it/s, loss=0.394, iou=0.000209]\n",
            "  0%|          | 0/30 [00:00<?, ?it/s]"
          ]
        },
        {
          "output_type": "stream",
          "name": "stdout",
          "text": [
            "loss 0.1018 - iou 0.8548 - val_loss 0.3943 - val_iou 0.0002\n",
            "Epoch [293/300]\n"
          ]
        },
        {
          "output_type": "stream",
          "name": "stderr",
          "text": [
            "100%|██████████| 30/30 [00:38<00:00,  1.30s/it, loss=0.101, iou=0.85]\n",
            "100%|██████████| 8/8 [00:04<00:00,  1.82it/s, loss=0.16, iou=0.592]\n",
            "  0%|          | 0/30 [00:00<?, ?it/s]"
          ]
        },
        {
          "output_type": "stream",
          "name": "stdout",
          "text": [
            "loss 0.1010 - iou 0.8498 - val_loss 0.1598 - val_iou 0.5919\n",
            "Epoch [294/300]\n"
          ]
        },
        {
          "output_type": "stream",
          "name": "stderr",
          "text": [
            "100%|██████████| 30/30 [00:38<00:00,  1.29s/it, loss=0.106, iou=0.828]\n",
            "100%|██████████| 8/8 [00:04<00:00,  1.91it/s, loss=0.225, iou=0.377]\n",
            "  0%|          | 0/30 [00:00<?, ?it/s]"
          ]
        },
        {
          "output_type": "stream",
          "name": "stdout",
          "text": [
            "loss 0.1063 - iou 0.8280 - val_loss 0.2249 - val_iou 0.3767\n",
            "Epoch [295/300]\n"
          ]
        },
        {
          "output_type": "stream",
          "name": "stderr",
          "text": [
            "100%|██████████| 30/30 [00:38<00:00,  1.30s/it, loss=0.108, iou=0.832]\n",
            "100%|██████████| 8/8 [00:04<00:00,  1.96it/s, loss=0.223, iou=0.284]\n",
            "  0%|          | 0/30 [00:00<?, ?it/s]"
          ]
        },
        {
          "output_type": "stream",
          "name": "stdout",
          "text": [
            "loss 0.1075 - iou 0.8320 - val_loss 0.2225 - val_iou 0.2840\n",
            "Epoch [296/300]\n"
          ]
        },
        {
          "output_type": "stream",
          "name": "stderr",
          "text": [
            "100%|██████████| 30/30 [00:38<00:00,  1.29s/it, loss=0.111, iou=0.819]\n",
            "100%|██████████| 8/8 [00:04<00:00,  1.93it/s, loss=0.273, iou=0.0819]\n",
            "  0%|          | 0/30 [00:00<?, ?it/s]"
          ]
        },
        {
          "output_type": "stream",
          "name": "stdout",
          "text": [
            "loss 0.1108 - iou 0.8193 - val_loss 0.2726 - val_iou 0.0819\n",
            "Epoch [297/300]\n"
          ]
        },
        {
          "output_type": "stream",
          "name": "stderr",
          "text": [
            "100%|██████████| 30/30 [00:38<00:00,  1.29s/it, loss=0.103, iou=0.844]\n",
            "100%|██████████| 8/8 [00:04<00:00,  1.93it/s, loss=0.245, iou=0.475]\n",
            "  0%|          | 0/30 [00:00<?, ?it/s]"
          ]
        },
        {
          "output_type": "stream",
          "name": "stdout",
          "text": [
            "loss 0.1032 - iou 0.8445 - val_loss 0.2455 - val_iou 0.4747\n",
            "Epoch [298/300]\n"
          ]
        },
        {
          "output_type": "stream",
          "name": "stderr",
          "text": [
            "100%|██████████| 30/30 [00:38<00:00,  1.29s/it, loss=0.102, iou=0.845]\n",
            "100%|██████████| 8/8 [00:04<00:00,  1.89it/s, loss=0.286, iou=0.396]\n",
            "  0%|          | 0/30 [00:00<?, ?it/s]"
          ]
        },
        {
          "output_type": "stream",
          "name": "stdout",
          "text": [
            "loss 0.1015 - iou 0.8449 - val_loss 0.2857 - val_iou 0.3961\n",
            "Epoch [299/300]\n"
          ]
        },
        {
          "output_type": "stream",
          "name": "stderr",
          "text": [
            "100%|██████████| 30/30 [00:38<00:00,  1.30s/it, loss=0.101, iou=0.865]\n",
            "100%|██████████| 8/8 [00:04<00:00,  1.87it/s, loss=0.353, iou=0.053]"
          ]
        },
        {
          "output_type": "stream",
          "name": "stdout",
          "text": [
            "loss 0.1005 - iou 0.8651 - val_loss 0.3534 - val_iou 0.0530\n"
          ]
        },
        {
          "output_type": "stream",
          "name": "stderr",
          "text": [
            "\n"
          ]
        }
      ],
      "source": [
        "for epoch in range(epochs):\n",
        "    print(f'Epoch [{epoch}/{epochs}]')\n",
        "\n",
        "    # train for one epoch\n",
        "    train_log = train(True, train_loader, model, criterion, optimizer)\n",
        "    # evaluate on validation set\n",
        "    val_log = validate(True, val_loader, model, criterion)\n",
        "\n",
        "    print('loss %.4f - iou %.4f - val_loss %.4f - val_iou %.4f'\n",
        "              % (train_log['loss'], train_log['iou'], val_log['loss'], val_log['iou']))\n",
        "\n",
        "    log['epoch'].append(epoch)\n",
        "    log['loss'].append(train_log['loss'])\n",
        "    log['iou'].append(train_log['iou'])\n",
        "    log['val_loss'].append(val_log['loss'])\n",
        "    log['val_iou'].append(val_log['iou'])\n",
        "\n",
        "    pd.DataFrame(log).to_csv(log_path, index=False)\n",
        "\n",
        "    trigger += 1\n",
        "\n",
        "    if val_log['iou'] > best_iou:\n",
        "        torch.save(model.state_dict(), model_path)\n",
        "        best_iou = val_log['iou']\n",
        "        print(\"=> saved best model\")\n",
        "        trigger = 0"
      ]
    },
    {
      "cell_type": "code",
      "execution_count": 29,
      "metadata": {
        "id": "PyYff9Xqq3al"
      },
      "outputs": [],
      "source": [
        "import cv2\n",
        "import yaml\n",
        "import torch\n",
        "import numpy as np\n",
        "import matplotlib.pyplot as plt\n",
        "\n",
        "# from predict import image_loader\n",
        "# from source.network import UNetPP\n",
        "from argparse import ArgumentParser\n",
        "from albumentations.augmentations import transforms\n",
        "from albumentations.core.composition import Compose\n",
        "\n",
        "%matplotlib inline"
      ]
    },
    {
      "cell_type": "markdown",
      "metadata": {
        "id": "s_3COKAfq3al"
      },
      "source": [
        "## Create validation transforms"
      ]
    },
    {
      "cell_type": "code",
      "execution_count": 30,
      "metadata": {
        "id": "ZcH8vJENq3am"
      },
      "outputs": [],
      "source": [
        "val_transform = Compose([\n",
        "    transforms.Resize(256, 256),\n",
        "    transforms.Normalize(),\n",
        "])"
      ]
    },
    {
      "cell_type": "code",
      "execution_count": 31,
      "metadata": {
        "id": "qifhxkatdkZQ"
      },
      "outputs": [],
      "source": [
        "configOne = \"/content/drive/MyDrive/Medical_Image_Segmentation/modular_code/source/config.yaml\""
      ]
    },
    {
      "cell_type": "code",
      "execution_count": 32,
      "metadata": {
        "id": "s476bDhSq3am"
      },
      "outputs": [],
      "source": [
        "with open(configOne) as f:\n",
        "    config = yaml.safe_load(f)"
      ]
    },
    {
      "cell_type": "code",
      "execution_count": 33,
      "metadata": {
        "id": "Yuy1hWjdq3am"
      },
      "outputs": [],
      "source": [
        "im_width = config[\"im_width\"]\n",
        "im_height = config[\"im_height\"]\n",
        "model_path = config[\"model_path\"]\n",
        "output_path = config[\"output_path\"]"
      ]
    },
    {
      "cell_type": "markdown",
      "metadata": {
        "id": "Dl0XTjbWq3an"
      },
      "source": [
        "## Load the model"
      ]
    },
    {
      "cell_type": "code",
      "execution_count": null,
      "metadata": {
        "id": "1FHnqNMXq3an"
      },
      "outputs": [],
      "source": [
        "# Create model object\n",
        "model = UNetPP(1, 3, True)\n",
        "\n",
        "# Load pre-trained weights\n",
        "model.load_state_dict(torch.load(model_path))\n",
        "\n",
        "# Port the model to GPU if it is available\n",
        "if torch.cuda.is_available():\n",
        "    model.cuda()\n",
        "\n",
        "# Set model mode to evaluation\n",
        "model.eval()"
      ]
    },
    {
      "cell_type": "code",
      "source": [
        "import cv2\n",
        "import matplotlib.pyplot as plt\n",
        "import numpy as np\n",
        "import torch\n",
        "import torch.nn.functional as F\n",
        "from skimage.feature import hog\n",
        "from skimage import exposure\n",
        "\n",
        "# Assuming you have a pretrained model (for CAM visualization)\n",
        "# model = ... # Load your model here\n",
        "\n",
        "# Path to a sample image\n",
        "sample_image_path = \"/content/drive/MyDrive/Medical_Image_Segmentation/modular_code/input/PNG/Original/66.png\"\n",
        "\n",
        "# Load the image\n",
        "img = cv2.imread(sample_image_path)\n",
        "img_rgb = cv2.cvtColor(img, cv2.COLOR_BGR2RGB)\n",
        "\n",
        "# 1. **Class Activation Map (CAM) Visualization**\n",
        "def generate_cam(model, img_tensor, target_class):\n",
        "    model.eval()\n",
        "    features_blobs = []\n",
        "\n",
        "    def hook_feature(module, input, output):\n",
        "        features_blobs.append(output.data.cpu().numpy())\n",
        "\n",
        "    # Attach hook to the final convolutional layer\n",
        "    final_conv_layer = model._modules.get('layer4')\n",
        "    final_conv_layer.register_forward_hook(hook_feature)\n",
        "\n",
        "    # Forward pass through the model\n",
        "    output = model(img_tensor)\n",
        "    pred_probabilities = F.softmax(output, dim=1).data.squeeze()\n",
        "    class_idx = target_class  # Assuming target_class is provided\n",
        "\n",
        "    # Get the weights of the linear layer\n",
        "    weight_softmax = model._modules.get('fc').weight.data.cpu().numpy()\n",
        "\n",
        "    # Generate CAM\n",
        "    cam = weight_softmax[class_idx].dot(features_blobs[0].reshape((512, -1)))\n",
        "    cam = cam.reshape(features_blobs[0].shape[2], features_blobs[0].shape[3])\n",
        "    cam = cam - np.min(cam)\n",
        "    cam = cam / np.max(cam)\n",
        "    cam = cv2.resize(cam, (img_rgb.shape[1], img_rgb.shape[0]))\n",
        "    cam = np.uint8(255 * cam)\n",
        "    cam_heatmap = cv2.applyColorMap(cam, cv2.COLORMAP_JET)\n",
        "\n",
        "    return cam_heatmap\n",
        "\n",
        "# Assuming you have the image tensor\n",
        "# img_tensor = ...  # Your code to get the image tensor\n",
        "# cam_heatmap = generate_cam(model, img_tensor, target_class=0)\n",
        "\n",
        "# Overlay CAM on the image\n",
        "# result = cam_heatmap * 0.4 + img_rgb\n",
        "# plt.imshow(result)\n",
        "# plt.axis('off')\n",
        "# plt.title(\"Class Activation Map\")\n",
        "# plt.show()\n",
        "\n",
        "# 2. **Histogram of Oriented Gradients (HOG) Visualization**\n",
        "def visualize_hog(image):\n",
        "    fd, hog_image = hog(image, orientations=8, pixels_per_cell=(16, 16),\n",
        "                        cells_per_block=(1, 1), visualize=True, channel_axis=-1)\n",
        "\n",
        "    hog_image_rescaled = exposure.rescale_intensity(hog_image, in_range=(0, 10))\n",
        "\n",
        "    plt.figure(figsize=(8, 8))\n",
        "    plt.imshow(hog_image_rescaled, cmap='gray')\n",
        "    plt.title(\"Histogram of Oriented Gradients (HOG)\")\n",
        "    plt.axis('off')\n",
        "    plt.show()\n",
        "\n",
        "# Visualize HOG for the sample image\n",
        "visualize_hog(img_rgb)\n",
        "\n",
        "# 3. **Edge Detection Visualization**\n",
        "def visualize_edges(image):\n",
        "    edges = cv2.Canny(image, 100, 200)\n",
        "\n",
        "    plt.figure(figsize=(8, 8))\n",
        "    plt.imshow(edges, cmap='gray')\n",
        "    plt.title(\"Edge Detection (Canny)\")\n",
        "    plt.axis('off')\n",
        "    plt.show()\n",
        "\n",
        "# Visualize edges for the sample image\n",
        "visualize_edges(cv2.cvtColor(img, cv2.COLOR_BGR2GRAY))\n"
      ],
      "metadata": {
        "colab": {
          "base_uri": "https://localhost:8080/",
          "height": 1000
        },
        "id": "iOQN98ZhT_ET",
        "outputId": "dbb3caff-1668-4265-85ac-5a212a5fc6ae"
      },
      "execution_count": 63,
      "outputs": [
        {
          "output_type": "display_data",
          "data": {
            "text/plain": [
              "<Figure size 800x800 with 1 Axes>"
            ],
            "image/png": "[encoded data removed]"
          },
          "metadata": {}
        },
        {
          "output_type": "display_data",
          "data": {
            "text/plain": [
              "<Figure size 800x800 with 1 Axes>"
            ],
            "image/png": "[encoded data removed]"
          },
          "metadata": {}
        }
      ]
    },
    {
      "cell_type": "code",
      "source": [
        "def display_random_samples(image_paths, num_samples=9):\n",
        "    plt.figure(figsize=(10, 10))\n",
        "    for i in range(num_samples):\n",
        "        plt.subplot(3, 3, i+1)\n",
        "        img = Image.open(random.choice(image_paths))\n",
        "        plt.imshow(img)\n",
        "        plt.axis('off')\n",
        "    plt.show()\n",
        "\n",
        "# Assuming your images are stored in a directory\n",
        "image_paths = glob(os.path.join(image_path, f\"*{extn}\"))\n",
        "display_random_samples(image_paths)"
      ],
      "metadata": {
        "id": "e-wOU1JkM8UL"
      },
      "execution_count": null,
      "outputs": []
    },
    {
      "cell_type": "code",
      "source": [
        "import matplotlib.pyplot as plt\n",
        "from PIL import Image\n",
        "import glob\n",
        "import numpy as np\n",
        "from sklearn.decomposition import PCA\n",
        "from sklearn.manifold import TSNE\n",
        "\n",
        "# Path to your images\n",
        "image_path = \"/content/drive/MyDrive/Medical_Image_Segmentation/modular_code/input/PNG/Original\"\n",
        "\n",
        "# Load image paths\n",
        "image_paths = glob.glob(f\"{image_path}/*\")\n",
        "\n",
        "# Check the number of images\n",
        "num_images = len(image_paths)\n",
        "print(f\"Found {num_images} images in the directory.\")\n",
        "\n",
        "# If there are no images\n",
        "if num_images == 0:\n",
        "    print(\"No images found in the directory.\")\n",
        "\n",
        "# If there is only one image\n",
        "elif num_images == 1:\n",
        "    print(\"Only one image found. PCA and t-SNE require more samples.\")\n",
        "\n",
        "    # Display the single image\n",
        "    img = Image.open(image_paths[0])\n",
        "    plt.imshow(img)\n",
        "    plt.axis('off')\n",
        "    plt.show()\n",
        "\n",
        "# If there are a few images, but not enough for PCA or t-SNE\n",
        "elif num_images > 1 and num_images < 5:\n",
        "    print(f\"Only {num_images} images found. Displaying them.\")\n",
        "\n",
        "    # Display all images\n",
        "    plt.figure(figsize=(10, 10))\n",
        "    for i, img_path in enumerate(image_paths):\n",
        "        plt.subplot(1, num_images, i+1)\n",
        "        img = Image.open(img_path)\n",
        "        plt.imshow(img)\n",
        "        plt.axis('off')\n",
        "    plt.show()\n",
        "\n",
        "# If there are enough images, attempt PCA and t-SNE\n",
        "else:\n",
        "    print(f\"Found {num_images} images. Proceeding with PCA and t-SNE.\")\n",
        "\n",
        "    # Flatten images for PCA and t-SNE\n",
        "    X = [np.array(Image.open(img_path)).flatten() for img_path in image_paths]\n",
        "\n",
        "    # PCA Visualization\n",
        "    if len(X) > 1 and len(X[0]) > 1:\n",
        "        pca = PCA(n_components=2)\n",
        "        X_pca = pca.fit_transform(X)\n",
        "\n",
        "        plt.figure(figsize=(8, 6))\n",
        "        plt.scatter(X_pca[:, 0], X_pca[:, 1], c=[0]*len(X_pca))  # Replace [0]*len(X_pca) with actual labels if available\n",
        "        plt.xlabel('PCA 1')\n",
        "        plt.ylabel('PCA 2')\n",
        "        plt.title('PCA of Image Dataset')\n",
        "        plt.show()\n",
        "    else:\n",
        "        print(\"PCA cannot be applied because there are not enough samples or features.\")\n",
        "\n",
        "    # t-SNE Visualization\n",
        "    if len(X) > 1:\n",
        "        tsne = TSNE(n_components=2)\n",
        "        X_tsne = tsne.fit_transform(X)\n",
        "\n",
        "        plt.figure(figsize=(8, 6))\n",
        "        plt.scatter(X_tsne[:, 0], X_tsne[:, 1], c=[0]*len(X_tsne))  # Replace [0]*len(X_tsne) with actual labels if available\n",
        "        plt.xlabel('t-SNE 1')\n",
        "        plt.ylabel('t-SNE 2')\n",
        "        plt.title('t-SNE of Image Dataset')\n",
        "        plt.show()\n",
        "    else:\n",
        "        print(\"t-SNE cannot be applied because there are not enough samples.\")\n"
      ],
      "metadata": {
        "id": "fpWkYO7ZOzg4"
      },
      "execution_count": null,
      "outputs": []
    },
    {
      "cell_type": "markdown",
      "metadata": {
        "id": "7kQXsuhtq3an"
      },
      "source": [
        "## Load the test image"
      ]
    },
    {
      "cell_type": "code",
      "execution_count": 35,
      "metadata": {
        "id": "Js4oLdNvq3ao"
      },
      "outputs": [],
      "source": [
        "test_img = \"/content/drive/MyDrive/Medical_Image_Segmentation/modular_code/input/PNG/Original/10.png\"\n",
        "# I take the image for training\n",
        "image = image_loader(test_img)\n",
        "\n",
        "# Convert the image to a batch of 1 image\n",
        "image = np.expand_dims(image,0)\n",
        "\n",
        "# Convert numpy array to torch tensor\n",
        "image = torch.from_numpy(image)"
      ]
    },
    {
      "cell_type": "code",
      "execution_count": 24,
      "metadata": {
        "id": "W1uO_0SQq3ap"
      },
      "outputs": [],
      "source": [
        "# Port the image to GPU if it is available\n",
        "if torch.cuda.is_available():\n",
        "    image = image.to(device=\"cuda\")"
      ]
    },
    {
      "cell_type": "markdown",
      "metadata": {
        "id": "ySYAvOu4q3aq"
      },
      "source": [
        "[link text](https://)## Make prediction"
      ]
    },
    {
      "cell_type": "code",
      "execution_count": 25,
      "metadata": {
        "id": "myYucJMHq3aq"
      },
      "outputs": [],
      "source": [
        "mask = model(image)\n",
        "#genereted image"
      ]
    },
    {
      "cell_type": "code",
      "execution_count": 26,
      "metadata": {
        "colab": {
          "base_uri": "https://localhost:8080/",
          "height": 453
        },
        "id": "5RCO6Y_yq3ar",
        "outputId": "dd079e46-d86d-4c27-ea1e-8d7359fe8d6c"
      },
      "outputs": [
        {
          "output_type": "execute_result",
          "data": {
            "text/plain": [
              "<matplotlib.image.AxesImage at 0x7ee6d47c9270>"
            ]
          },
          "metadata": {},
          "execution_count": 26
        },
        {
          "output_type": "display_data",
          "data": {
            "text/plain": [
              "<Figure size 640x480 with 1 Axes>"
            ],
            "image/png": "[encoded data removed]"
          },
          "metadata": {}
        }
      ],
      "source": [
        "# here i get result of image after training data\n",
        "mask = mask[-1]\n",
        "\n",
        "# Convert torch tensor to numpy array\n",
        "mask = mask.detach().cpu().numpy()\n",
        "\n",
        "# Convert output to a 2-d array\n",
        "mask = np.squeeze(np.squeeze(mask, axis=0), axis=0)\n",
        "\n",
        "# Convert output to binary based on threshold\n",
        "mask[mask > -2.5] = 255\n",
        "mask[mask <= -2.5] = 0\n",
        "\n",
        "# Resize the ouptut image to input image size\n",
        "mask = cv2.resize(mask, (im_width, im_height))\n",
        "\n",
        "# Plot the generated mask\n",
        "plt.imshow(mask, cmap=\"gray\")"
      ]
    },
    {
      "cell_type": "markdown",
      "metadata": {
        "id": "ey_p7Y2wq3as"
      },
      "source": [
        "## Read and plot the ground truth mask\n",
        "\n",
        "> Add blockquote\n",
        "\n",
        "\n",
        "\n",
        "1.   List item\n",
        "2.   List item\n",
        "\n",
        "\n",
        "\n",
        "*   List item\n",
        "*   List item\n",
        "\n",
        "\n",
        "\n",
        "---\n",
        "\n"
      ]
    },
    {
      "cell_type": "code",
      "execution_count": 27,
      "metadata": {
        "colab": {
          "base_uri": "https://localhost:8080/",
          "height": 453
        },
        "id": "-vO5t6zLq3at",
        "outputId": "ffb74622-0a6e-4eae-f09c-0c9b11d8b23e"
      },
      "outputs": [
        {
          "output_type": "execute_result",
          "data": {
            "text/plain": [
              "<matplotlib.image.AxesImage at 0x7ee6d3eb4eb0>"
            ]
          },
          "metadata": {},
          "execution_count": 27
        },
        {
          "output_type": "display_data",
          "data": {
            "text/plain": [
              "<Figure size 640x480 with 1 Axes>"
            ],
            "image/png": "[encoded data removed]"
          },
          "metadata": {}
        }
      ],
      "source": [
        "actual_mask = \"/content/drive/MyDrive/Medical_Image_Segmentation/modular_code/input/PNG/Ground Truth/10.png\"\n",
        "am = plt.imread(actual_mask)\n",
        "plt.imshow(am, cmap=\"gray\")\n",
        "#I should get result like this above(actuel result)"
      ]
    },
    {
      "cell_type": "code",
      "execution_count": null,
      "metadata": {
        "colab": {
          "background_save": true
        },
        "id": "_zOh584nq3at"
      },
      "outputs": [],
      "source": []
    }
  ],
  "metadata": {
    "accelerator": "GPU",
    "colab": {
      "gpuType": "T4",
      "provenance": [],
      "include_colab_link": true
    },
    "kernelspec": {
      "display_name": "Python 3",
      "name": "python3"
    },
    "language_info": {
      "codemirror_mode": {
        "name": "ipython",
        "version": 3
      },
      "file_extension": ".py",
      "mimetype": "text/x-python",
      "name": "python",
      "nbconvert_exporter": "python",
      "pygments_lexer": "ipython3",
      "version": "3.12.2"
    }
  },
  "nbformat": 4,
  "nbformat_minor": 0
}